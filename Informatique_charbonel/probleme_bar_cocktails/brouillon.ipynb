{
 "cells": [
  {
   "cell_type": "code",
   "execution_count": 4,
   "id": "9c1119da",
   "metadata": {},
   "outputs": [
    {
     "data": {
      "text/plain": [
       "[['1 pastis'], ['2 demis'], ['1 ti-punch ', ' 1 planteur']]"
      ]
     },
     "execution_count": 4,
     "metadata": {},
     "output_type": "execute_result"
    }
   ],
   "source": [
    "liste_commandes = [\"1 pastis\" ,\"2 demis\",\"1 ti-punch + 1 planteur\"]\n",
    "\n",
    "for i in range(len(liste_commandes)):\n",
    "    liste_commandes[i] = liste_commandes[i].split('+')\n"
   ]
  }
 ],
 "metadata": {
  "kernelspec": {
   "display_name": "Python 3 (ipykernel)",
   "language": "python",
   "name": "python3"
  },
  "language_info": {
   "codemirror_mode": {
    "name": "ipython",
    "version": 3
   },
   "file_extension": ".py",
   "mimetype": "text/x-python",
   "name": "python",
   "nbconvert_exporter": "python",
   "pygments_lexer": "ipython3",
   "version": "3.11.4"
  }
 },
 "nbformat": 4,
 "nbformat_minor": 5
}
