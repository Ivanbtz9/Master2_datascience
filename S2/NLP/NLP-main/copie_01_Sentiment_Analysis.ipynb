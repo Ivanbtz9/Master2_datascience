{
  "cells": [
    {
      "cell_type": "markdown",
      "metadata": {
        "colab_type": "text",
        "id": "view-in-github"
      },
      "source": [
        "<a href=\"https://colab.research.google.com/github/pejmanrasti/NLP/blob/main/01_Sentiment_Analysis.ipynb\" target=\"_parent\"><img src=\"https://colab.research.google.com/assets/colab-badge.svg\" alt=\"Open In Colab\"/></a>"
      ]
    },
    {
      "cell_type": "markdown",
      "metadata": {},
      "source": [
        "# Introduction\n",
        "\n",
        "This tutorial is about a basic form of Natural Language Processing (NLP) called Sentiment Analysis, in which we will try and classify a movie review as either positive or negative.\n",
        "\n",
        "Consider a simple example: \"This movie is not very good.\" This text ends with the words \"very good\" which indicates a very positive sentiment, but it is negated because it is preceded by the word \"not\", so the text should be classified as having a negative sentiment. How can we teach a Neural Network to do this classification?\n",
        "\n",
        "Another problem is that neural networks cannot work directly on text-data, so we need to convert text into numbers that are compatible with a neural network.\n",
        "\n",
        "Yet another problem is that a text may be arbitrarily long. The neural networks we have worked with in previous tutorials use fixed data-shapes - except for the first dimension of the data which varies with the batch-size. Now we need a type of neural network that can work on both short and long sequences of text.\n"
      ]
    },
    {
      "cell_type": "markdown",
      "metadata": {
        "id": "5f4pBIn9cH4o"
      },
      "source": [
        "## Flowchart\n",
        "\n",
        "To solve this problem we need several processing steps. First we need to convert the raw text-words into so-called tokens which are integer values. These tokens are really just indices into a list of the entire vocabulary. Then we convert these integer-tokens into so-called embeddings which are real-valued vectors, whose mapping will be trained along with the neural network, so as to map words with similar meanings to similar embedding-vectors. Then we input these embedding-vectors to a Recurrent Neural Network which can take sequences of arbitrary length as input and output a kind of summary of what it has seen in the input. This output is then squashed using a Sigmoid-function to give us a value between 0.0 and 1.0, where 0.0 is taken to mean a negative sentiment and 1.0 means a positive sentiment. This whole process allows us to classify input-text as either having a negative or positive sentiment.\n",
        "\n",
        "The flowchart of the algorithm is roughly:\n",
        "\n",
        "<img src=\"https://github.com/Hvass-Labs/TensorFlow-Tutorials/blob/master/images/20_natural_language_flowchart.png?raw=1\" alt=\"Flowchart NLP\" style=\"width: 300px;\"/>"
      ]
    },
    {
      "cell_type": "markdown",
      "metadata": {
        "id": "dE4fPxBecH4o"
      },
      "source": [
        "## Recurrent Neural Network\n",
        "\n",
        "The basic building block in a Recurrent Neural Network (RNN) is a Recurrent Unit (RU). There are many different variants of recurrent units such as the rather clunky LSTM (Long-Short-Term-Memory) and the somewhat simpler GRU (Gated Recurrent Unit) which we will use in this tutorial. Experiments in the literature suggest that the LSTM and GRU have roughly similar performance. Even simpler variants also exist and the literature suggests that they may perform even better than both LSTM and GRU, but they are not implemented in Keras which we will use in this tutorial.\n",
        "\n",
        "The following figure shows the abstract idea of a recurrent unit, which has an internal state that is being updated every time the unit receives a new input. This internal state serves as a kind of memory. However, it is not a traditional kind of computer memory which stores bits that are either on or off. Instead the recurrent unit stores floating-point values in its memory-state, which are read and written using matrix-operations so the operations are all differentiable. This means the memory-state can store arbitrary floating-point values (although typically limited between -1.0 and 1.0) and the network can be trained like a normal neural network using Gradient Descent.\n",
        "\n",
        "The new state-value depends on both the old state-value and the current input. For example, if the state-value has memorized that we have recently seen the word \"not\" and the current input is \"good\" then we need to store a new state-value that memorizes \"not good\" which indicates a negative sentiment.\n",
        "\n",
        "The part of the recurrent unit that is responsible for mapping old state-values and inputs to the new state-value is called a gate, but it is really just a type of matrix-operation. There is another gate for calculating the output-values of the recurrent unit. The implementation of these gates vary for different types of recurrent units. This figure merely shows the abstract idea of a recurrent unit. The LSTM has more gates than the GRU but some of them are apparently redundant so they can be omitted.\n",
        "\n",
        "In order to train the recurrent unit, we must gradually change the weight-matrices of the gates so the recurrent unit gives the desired output for an input sequence. This is done automatically in TensorFlow.\n",
        "\n",
        "![Recurrent unit](https://github.com/Hvass-Labs/TensorFlow-Tutorials/blob/master/images/20_recurrent_unit.png?raw=1)"
      ]
    },
    {
      "cell_type": "markdown",
      "metadata": {
        "id": "ohYVzFqycH4o"
      },
      "source": [
        "### Unrolled Network\n",
        "\n",
        "Another way to visualize and understand a Recurrent Neural Network is to \"unroll\" the recursion. In this figure there is only a single recurrent unit denoted RU, which will receive a text-word from the input sequence in a series of time-steps.\n",
        "\n",
        "The initial memory-state of the RU is reset to zero internally by Keras / TensorFlow every time a new sequence begins.\n",
        "\n",
        "In the first time-step the word \"this\" is input to the RU which uses its internal state (initialized to zero) and its gate to calculate the new state. The RU also uses its other gate to calculate the output but it is ignored here because it is only needed at the end of the sequence to output a kind of summary.\n",
        "\n",
        "In the second time-step the word \"is\" is input to the RU which now uses the internal state that was just updated from seeing the previous word \"this\".\n",
        "\n",
        "There is not much meaning in the words \"this is\" so the RU probably doesn't save anything important in its internal state from seeing these words. But when it sees the third word \"not\" the RU has learned that it may be important for determining the overall sentiment of the input-text, so it needs to be stored in the memory-state of the RU, which can be used later when the RU sees the word \"good\" in time-step 6.\n",
        "\n",
        "Finally when the entire sequence has been processed, the RU outputs a vector of values that summarizes what it has seen in the input sequence. We then use a fully-connected layer with a Sigmoid activation to get a single value between 0.0 and 1.0 which we interpret as the sentiment either being negative (values close to 0.0) or positive (values close to 1.0).\n",
        "\n",
        "Note that for the sake of clarity, this figure doesn't show the mapping from text-words to integer-tokens and embedding-vectors, as well as the fully-connected Sigmoid layer on the output.\n",
        "\n",
        "![Unrolled network](https://github.com/Hvass-Labs/TensorFlow-Tutorials/blob/master/images/20_unrolled_flowchart.png?raw=1)"
      ]
    },
    {
      "cell_type": "markdown",
      "metadata": {
        "id": "Ah-mCkCgcH4p"
      },
      "source": [
        "### 3-Layer Unrolled Network\n",
        "\n",
        "In this tutorial we will use a Recurrent Neural Network with 3 recurrent units (or layers) denoted RU1, RU2 and RU3 in the \"unrolled\" figure below.\n",
        "\n",
        "The first layer is much like the unrolled figure above for a single-layer RNN. First the recurrent unit RU1 has its internal state initialized to zero by Keras / TensorFlow. Then the word \"this\" is input to RU1 and it updates its internal state. Then it processes the next word \"is\", and so forth. But instead of outputting a single summary value at the end of the sequence, we use the output of RU1 for every time-step. This creates a new sequence that can then be used as input for the next recurrent unit RU2. The same process is repeated for the second layer and this creates a new output sequence which is then input to the third layer's recurrent unit RU3, whose final output is passed to a fully-connected Sigmoid layer that outputs a value between 0.0 (negative sentiment) and 1.0 (positive sentiment).\n",
        "\n",
        "Note that for the sake of clarity, the mapping of text-words to integer-tokens and embedding-vectors has been omitted from this figure.\n",
        "\n",
        "![Unrolled 3-layer network](https://github.com/Hvass-Labs/TensorFlow-Tutorials/blob/master/images/20_unrolled_3layers_flowchart.png?raw=1)"
      ]
    },
    {
      "cell_type": "markdown",
      "metadata": {
        "id": "QEK-HcWQcH4p"
      },
      "source": [
        "### Exploding & Vanishing Gradients\n",
        "\n",
        "In order to train the weights for the gates inside the recurrent unit, we need to minimize some loss-function which measures the difference between the actual output of the network relative to the desired output.\n",
        "\n",
        "From the \"unrolled\" figures above we see that the reccurent units are applied recursively for each word in the input sequence. This means the recurrent gate is applied once for each time-step. The gradient-signals have to flow back from the loss-function all the way to the first time the recurrent gate is used. If the gradient of the recurrent gate is multiplicative, then we essentially have an exponential function.\n",
        "\n",
        "In this tutorial we will use texts that have more than 500 words. This means the RU's gate for updating its internal memory-state is applied recursively more than 500 times. If a gradient of just 1.01 is multiplied with itself 500 times then it gives a value of about 145. If a gradient of just 0.99 is multiplied with itself 500 times then it gives a value of about 0.007. These are called exploding and vanishing gradients. The only gradients that can survive recurrent multiplication are 0 and 1.\n",
        "\n",
        "To avoid these so-called exploding and vanishing gradients, care must be made when designing the recurrent unit and its gates. That is why the actual implementation of the GRU is more complicated, because it tries to send the gradient back through the gates without this distortion."
      ]
    },
    {
      "cell_type": "markdown",
      "metadata": {
        "id": "P1u0L9PhcH4p"
      },
      "source": [
        "## Imports"
      ]
    },
    {
      "cell_type": "code",
      "execution_count": 46,
      "metadata": {
        "id": "FfZXy6fRcH4p"
      },
      "outputs": [],
      "source": [
        "%matplotlib inline\n",
        "import matplotlib.pyplot as plt\n",
        "import tensorflow as tf\n",
        "import numpy as np\n",
        "from scipy.spatial.distance import cdist # Compute distance between each pair of the two collections of inputs.\n",
        "#scipy.spatial.distance.cdist(XA, XB, metric='euclidean')"
      ]
    },
    {
      "cell_type": "markdown",
      "metadata": {
        "id": "2cFQPy2acH4p"
      },
      "source": [
        "We need to import several things from Keras."
      ]
    },
    {
      "cell_type": "code",
      "execution_count": 47,
      "metadata": {
        "id": "61cKK9iycH4p"
      },
      "outputs": [],
      "source": [
        "from tensorflow.keras.models import Sequential\n",
        "from tensorflow.keras.layers import Dense, GRU, Embedding\n",
        "from tensorflow.keras.optimizers import Adam\n",
        "from tensorflow.keras.preprocessing.text import Tokenizer\n",
        "from tensorflow.keras.preprocessing.sequence import pad_sequences"
      ]
    },
    {
      "cell_type": "markdown",
      "metadata": {
        "id": "x4WY1hlOcH4q"
      },
      "source": [
        "This was developed using Python 3.6 (Anaconda) and package versions:"
      ]
    },
    {
      "cell_type": "code",
      "execution_count": 3,
      "metadata": {
        "id": "9ByQpSr_cH4q",
        "outputId": "0ff4647d-ed77-4aa7-8635-09c2a710660d",
        "scrolled": false
      },
      "outputs": [
        {
          "data": {
            "text/plain": [
              "'2.15.0'"
            ]
          },
          "execution_count": 3,
          "metadata": {},
          "output_type": "execute_result"
        }
      ],
      "source": [
        "tf.__version__"
      ]
    },
    {
      "cell_type": "markdown",
      "metadata": {
        "id": "FUz4N3mZcH4q"
      },
      "source": [
        "## Load Data\n",
        "\n",
        "We will use a data-set consisting of 50000 reviews of movies from IMDB. Keras has a built-in function for downloading a similar data-set (but apparently half the size). However, Keras' version has already converted the text in the data-set to integer-tokens, which is a crucial part of working with natural languages that will also be demonstrated in this tutorial, so we download the actual text-data.\n",
        "\n",
        "NOTE: The data-set is 84 MB and will be downloaded automatically."
      ]
    },
    {
      "cell_type": "code",
      "execution_count": 48,
      "metadata": {
        "id": "S9jAvl3TcH4q"
      },
      "outputs": [],
      "source": [
        "import pandas as pd\n",
        "from sklearn.model_selection import train_test_split"
      ]
    },
    {
      "cell_type": "markdown",
      "metadata": {
        "id": "aYV41ntHcH4q"
      },
      "source": [
        "Change this if you want the files saved in another directory."
      ]
    },
    {
      "cell_type": "code",
      "execution_count": 75,
      "metadata": {
        "id": "XhDTevB5cH4q"
      },
      "outputs": [],
      "source": [
        "\n",
        "\n",
        "file_path = '/home/ibotcazou/Bureau/Master_data_science/DATAS_M2/NLP/imdb/IMDBDataset.csv'\n",
        "df = pd.read_csv(file_path)\n",
        "df.sentiment = pd.Categorical(df.sentiment)\n",
        "df.sentiment = df.sentiment.cat.codes\n",
        "# positive = 1\n",
        "# negative = 0"
      ]
    },
    {
      "cell_type": "code",
      "execution_count": 76,
      "metadata": {},
      "outputs": [
        {
          "data": {
            "text/html": [
              "<div>\n",
              "<style scoped>\n",
              "    .dataframe tbody tr th:only-of-type {\n",
              "        vertical-align: middle;\n",
              "    }\n",
              "\n",
              "    .dataframe tbody tr th {\n",
              "        vertical-align: top;\n",
              "    }\n",
              "\n",
              "    .dataframe thead th {\n",
              "        text-align: right;\n",
              "    }\n",
              "</style>\n",
              "<table border=\"1\" class=\"dataframe\">\n",
              "  <thead>\n",
              "    <tr style=\"text-align: right;\">\n",
              "      <th></th>\n",
              "      <th>review</th>\n",
              "      <th>sentiment</th>\n",
              "    </tr>\n",
              "  </thead>\n",
              "  <tbody>\n",
              "    <tr>\n",
              "      <th>0</th>\n",
              "      <td>One of the other reviewers has mentioned that ...</td>\n",
              "      <td>1</td>\n",
              "    </tr>\n",
              "    <tr>\n",
              "      <th>1</th>\n",
              "      <td>A wonderful little production. &lt;br /&gt;&lt;br /&gt;The...</td>\n",
              "      <td>1</td>\n",
              "    </tr>\n",
              "    <tr>\n",
              "      <th>2</th>\n",
              "      <td>I thought this was a wonderful way to spend ti...</td>\n",
              "      <td>1</td>\n",
              "    </tr>\n",
              "    <tr>\n",
              "      <th>3</th>\n",
              "      <td>Basically there's a family where a little boy ...</td>\n",
              "      <td>0</td>\n",
              "    </tr>\n",
              "    <tr>\n",
              "      <th>4</th>\n",
              "      <td>Petter Mattei's \"Love in the Time of Money\" is...</td>\n",
              "      <td>1</td>\n",
              "    </tr>\n",
              "  </tbody>\n",
              "</table>\n",
              "</div>"
            ],
            "text/plain": [
              "                                              review  sentiment\n",
              "0  One of the other reviewers has mentioned that ...          1\n",
              "1  A wonderful little production. <br /><br />The...          1\n",
              "2  I thought this was a wonderful way to spend ti...          1\n",
              "3  Basically there's a family where a little boy ...          0\n",
              "4  Petter Mattei's \"Love in the Time of Money\" is...          1"
            ]
          },
          "execution_count": 76,
          "metadata": {},
          "output_type": "execute_result"
        }
      ],
      "source": [
        "df.head()"
      ]
    },
    {
      "cell_type": "markdown",
      "metadata": {
        "id": "Zfb3YR_9cH4q"
      },
      "source": [
        "Load the training- and test-sets."
      ]
    },
    {
      "cell_type": "code",
      "execution_count": 82,
      "metadata": {
        "id": "vwx9_oT_cH4q"
      },
      "outputs": [],
      "source": [
        "x_train_text,x_test_text, y_train, y_test = train_test_split(df.review,df.sentiment,test_size=0.1,random_state=0)\n",
        "\n",
        "# Convert to numpy arrays.\n",
        "y_train = np.array(y_train)\n",
        "y_test = np.array(y_test)"
      ]
    },
    {
      "cell_type": "code",
      "execution_count": 83,
      "metadata": {
        "id": "C2Nl7uXAcH4q",
        "outputId": "765fc1db-f553-4f28-90ee-d4b0928040d3"
      },
      "outputs": [
        {
          "name": "stdout",
          "output_type": "stream",
          "text": [
            "Train-set size:  45000\n",
            "Test-set size:   5000\n"
          ]
        }
      ],
      "source": [
        "print(\"Train-set size: \", len(x_train_text))\n",
        "print(\"Test-set size:  \", len(x_test_text))"
      ]
    },
    {
      "cell_type": "markdown",
      "metadata": {
        "id": "LUkhhG_ycH4r"
      },
      "source": [
        "Combine into one data-set for some uses below."
      ]
    },
    {
      "cell_type": "code",
      "execution_count": 85,
      "metadata": {
        "id": "sykNvrrQcH4r"
      },
      "outputs": [],
      "source": [
        "data_text = pd.concat([x_train_text.copy(),x_test_text.copy()],ignore_index=True)"
      ]
    },
    {
      "cell_type": "code",
      "execution_count": 87,
      "metadata": {},
      "outputs": [
        {
          "data": {
            "text/plain": [
              "0        This is real character and story driven drama ...\n",
              "1        One of the many speculations about Y2K was tha...\n",
              "2        I have mixed emotions about this film, especia...\n",
              "3        I saw that \"The Foreigner\" was ranked in the \"...\n",
              "4        So it's a little dated now, it's almost 30 yrs...\n",
              "                               ...                        \n",
              "49995    This is an excellent movie that tackles the is...\n",
              "49996    i was kinda interested in this movie as a tras...\n",
              "49997    I think I am some kind of Road Runner fan. I d...\n",
              "49998    Two years passed and mostly everyone looks dif...\n",
              "49999    I'm really not too sure why people are being s...\n",
              "Name: review, Length: 50000, dtype: object"
            ]
          },
          "execution_count": 87,
          "metadata": {},
          "output_type": "execute_result"
        }
      ],
      "source": [
        "data_text"
      ]
    },
    {
      "cell_type": "markdown",
      "metadata": {
        "id": "GWVpWyxecH4r"
      },
      "source": [
        "Print an example from the training-set to see that the data looks correct."
      ]
    },
    {
      "cell_type": "code",
      "execution_count": 88,
      "metadata": {
        "id": "m1AxfVIWcH4r",
        "outputId": "712d935f-3894-409e-8d4c-aa489e03da76"
      },
      "outputs": [
        {
          "data": {
            "text/plain": [
              "19977    This is real character and story driven drama ...\n",
              "31768    One of the many speculations about Y2K was tha...\n",
              "43126    I have mixed emotions about this film, especia...\n",
              "29441    I saw that \"The Foreigner\" was ranked in the \"...\n",
              "6245     So it's a little dated now, it's almost 30 yrs...\n",
              "                               ...                        \n",
              "21243    I did not set very high expectations for this ...\n",
              "45891    THE BLOB is a great horror movie, not merely b...\n",
              "42613    After too many years of waiting, Anne Rivers S...\n",
              "43567    I am a massive fan of the LoG. I thought the f...\n",
              "2732     AG was an excellent presentation of drama, sus...\n",
              "Name: review, Length: 45000, dtype: object"
            ]
          },
          "execution_count": 88,
          "metadata": {},
          "output_type": "execute_result"
        }
      ],
      "source": [
        "x_train_text"
      ]
    },
    {
      "cell_type": "markdown",
      "metadata": {
        "id": "od4_11_vcH4r"
      },
      "source": [
        "The true \"class\" is a sentiment of the movie-review. It is a value of 0.0 for a negative sentiment and 1.0 for a positive sentiment. In this case the review is positive."
      ]
    },
    {
      "cell_type": "code",
      "execution_count": 90,
      "metadata": {
        "id": "xOkI34s_cH4r",
        "outputId": "375a6440-a380-44e0-c811-b9dba8f30c08"
      },
      "outputs": [
        {
          "data": {
            "text/plain": [
              "1"
            ]
          },
          "execution_count": 90,
          "metadata": {},
          "output_type": "execute_result"
        }
      ],
      "source": [
        "y_train[1]"
      ]
    },
    {
      "cell_type": "markdown",
      "metadata": {},
      "source": [
        "Keep all comments in a single feature"
      ]
    },
    {
      "cell_type": "markdown",
      "metadata": {
        "id": "DhnSPeYOcH4r"
      },
      "source": [
        "## Tokenizer\n",
        "\n",
        "A neural network cannot work directly on text-strings so we must convert it somehow. There are two steps in this conversion, the first step is called the \"tokenizer\" which converts words to integers and is done on the data-set before it is input to the neural network. The second step is an integrated part of the neural network itself and is called the \"embedding\"-layer, which is described further below.\n",
        "\n",
        "We may instruct the tokenizer to only use e.g. the 10000 most popular words from the data-set."
      ]
    },
    {
      "cell_type": "code",
      "execution_count": 91,
      "metadata": {
        "id": "dbZ3nciPcH4r",
        "scrolled": true
      },
      "outputs": [],
      "source": [
        "num_words=None\n",
        "tokenizer = Tokenizer(num_words=num_words)"
      ]
    },
    {
      "cell_type": "markdown",
      "metadata": {
        "id": "hS2_p0x0cH4r"
      },
      "source": [
        "The tokenizer can then be \"fitted\" to the data-set. This scans through all the text and strips it from unwanted characters such as punctuation, and also converts it to lower-case characters. The tokenizer then builds a vocabulary of all unique words along with various data-structures for accessing the data.\n",
        "\n",
        "Note that we fit the tokenizer on the entire data-set so it gathers words from both the training- and test-data. This is OK as we are merely building a vocabulary and want it to be as complete as possible. The actual neural network will of course only be trained on the training-set."
      ]
    },
    {
      "cell_type": "code",
      "execution_count": 92,
      "metadata": {
        "id": "7cpBqSyJcH4r",
        "outputId": "cb18b2e0-f389-4741-b74b-83a798418155"
      },
      "outputs": [],
      "source": [
        "tokenizer.fit_on_texts(data_text)"
      ]
    },
    {
      "cell_type": "markdown",
      "metadata": {
        "id": "96-jX5ddcH4r"
      },
      "source": [
        "If you want to use the entire vocabulary then set `num_words=None` above, and then it will automatically be set to the vocabulary-size here. (This is because of Keras' somewhat awkward implementation.)"
      ]
    },
    {
      "cell_type": "code",
      "execution_count": 93,
      "metadata": {
        "id": "p-zfwTJscH4r"
      },
      "outputs": [
        {
          "name": "stdout",
          "output_type": "stream",
          "text": [
            "124252\n"
          ]
        }
      ],
      "source": [
        "print(len(tokenizer.word_index))"
      ]
    },
    {
      "cell_type": "markdown",
      "metadata": {
        "id": "r7HzjH7ycH4r"
      },
      "source": [
        "We can then inspect the vocabulary that has been gathered by the tokenizer. This is ordered by the number of occurrences of the words in the data-set. These integer-numbers are called word indices or \"tokens\" because they uniquely identify each word in the vocabulary."
      ]
    },
    {
      "cell_type": "code",
      "execution_count": 94,
      "metadata": {
        "id": "3lsoKw4OcH4r",
        "outputId": "17ae1b23-1348-4eba-d890-67aa8ecedc79"
      },
      "outputs": [
        {
          "data": {
            "text/plain": [
              "{1: 'the',\n",
              " 2: 'and',\n",
              " 3: 'a',\n",
              " 4: 'of',\n",
              " 5: 'to',\n",
              " 6: 'is',\n",
              " 7: 'br',\n",
              " 8: 'in',\n",
              " 9: 'it',\n",
              " 10: 'i',\n",
              " 11: 'this',\n",
              " 12: 'that',\n",
              " 13: 'was',\n",
              " 14: 'as',\n",
              " 15: 'for',\n",
              " 16: 'with',\n",
              " 17: 'movie',\n",
              " 18: 'but',\n",
              " 19: 'film',\n",
              " 20: 'on',\n",
              " 21: 'not',\n",
              " 22: 'you',\n",
              " 23: 'are',\n",
              " 24: 'his',\n",
              " 25: 'have',\n",
              " 26: 'be',\n",
              " 27: 'one',\n",
              " 28: 'he',\n",
              " 29: 'all',\n",
              " 30: 'at',\n",
              " 31: 'by',\n",
              " 32: 'an',\n",
              " 33: 'they',\n",
              " 34: 'so',\n",
              " 35: 'who',\n",
              " 36: 'from',\n",
              " 37: 'like',\n",
              " 38: 'or',\n",
              " 39: 'just',\n",
              " 40: 'her',\n",
              " 41: 'out',\n",
              " 42: 'about',\n",
              " 43: 'if',\n",
              " 44: \"it's\",\n",
              " 45: 'has',\n",
              " 46: 'there',\n",
              " 47: 'some',\n",
              " 48: 'what',\n",
              " 49: 'good',\n",
              " 50: 'when',\n",
              " 51: 'more',\n",
              " 52: 'very',\n",
              " 53: 'up',\n",
              " 54: 'no',\n",
              " 55: 'time',\n",
              " 56: 'my',\n",
              " 57: 'even',\n",
              " 58: 'would',\n",
              " 59: 'she',\n",
              " 60: 'which',\n",
              " 61: 'only',\n",
              " 62: 'really',\n",
              " 63: 'see',\n",
              " 64: 'story',\n",
              " 65: 'their',\n",
              " 66: 'had',\n",
              " 67: 'can',\n",
              " 68: 'me',\n",
              " 69: 'well',\n",
              " 70: 'were',\n",
              " 71: 'than',\n",
              " 72: 'much',\n",
              " 73: 'we',\n",
              " 74: 'bad',\n",
              " 75: 'been',\n",
              " 76: 'get',\n",
              " 77: 'do',\n",
              " 78: 'great',\n",
              " 79: 'other',\n",
              " 80: 'will',\n",
              " 81: 'also',\n",
              " 82: 'into',\n",
              " 83: 'people',\n",
              " 84: 'because',\n",
              " 85: 'how',\n",
              " 86: 'first',\n",
              " 87: 'him',\n",
              " 88: 'most',\n",
              " 89: \"don't\",\n",
              " 90: 'made',\n",
              " 91: 'then',\n",
              " 92: 'its',\n",
              " 93: 'them',\n",
              " 94: 'make',\n",
              " 95: 'way',\n",
              " 96: 'too',\n",
              " 97: 'movies',\n",
              " 98: 'could',\n",
              " 99: 'any',\n",
              " 100: 'after',\n",
              " 101: 'think',\n",
              " 102: 'characters',\n",
              " 103: 'watch',\n",
              " 104: 'films',\n",
              " 105: 'two',\n",
              " 106: 'many',\n",
              " 107: 'seen',\n",
              " 108: 'character',\n",
              " 109: 'being',\n",
              " 110: 'never',\n",
              " 111: 'plot',\n",
              " 112: 'love',\n",
              " 113: 'acting',\n",
              " 114: 'life',\n",
              " 115: 'did',\n",
              " 116: 'best',\n",
              " 117: 'where',\n",
              " 118: 'know',\n",
              " 119: 'show',\n",
              " 120: 'little',\n",
              " 121: 'over',\n",
              " 122: 'off',\n",
              " 123: 'ever',\n",
              " 124: 'does',\n",
              " 125: 'your',\n",
              " 126: 'better',\n",
              " 127: 'end',\n",
              " 128: 'man',\n",
              " 129: 'scene',\n",
              " 130: 'still',\n",
              " 131: 'say',\n",
              " 132: 'these',\n",
              " 133: 'here',\n",
              " 134: 'scenes',\n",
              " 135: 'why',\n",
              " 136: 'while',\n",
              " 137: 'something',\n",
              " 138: 'such',\n",
              " 139: 'go',\n",
              " 140: 'through',\n",
              " 141: 'back',\n",
              " 142: 'should',\n",
              " 143: 'those',\n",
              " 144: 'real',\n",
              " 145: \"i'm\",\n",
              " 146: 'now',\n",
              " 147: 'watching',\n",
              " 148: 'thing',\n",
              " 149: \"doesn't\",\n",
              " 150: 'actors',\n",
              " 151: 'though',\n",
              " 152: 'funny',\n",
              " 153: 'years',\n",
              " 154: \"didn't\",\n",
              " 155: 'old',\n",
              " 156: 'another',\n",
              " 157: '10',\n",
              " 158: 'work',\n",
              " 159: 'before',\n",
              " 160: 'actually',\n",
              " 161: 'nothing',\n",
              " 162: 'makes',\n",
              " 163: 'look',\n",
              " 164: 'director',\n",
              " 165: 'find',\n",
              " 166: 'going',\n",
              " 167: 'same',\n",
              " 168: 'new',\n",
              " 169: 'lot',\n",
              " 170: 'every',\n",
              " 171: 'few',\n",
              " 172: 'again',\n",
              " 173: 'part',\n",
              " 174: 'cast',\n",
              " 175: 'down',\n",
              " 176: 'us',\n",
              " 177: 'things',\n",
              " 178: 'want',\n",
              " 179: 'quite',\n",
              " 180: 'pretty',\n",
              " 181: 'world',\n",
              " 182: 'horror',\n",
              " 183: 'around',\n",
              " 184: 'seems',\n",
              " 185: \"can't\",\n",
              " 186: 'young',\n",
              " 187: 'take',\n",
              " 188: 'however',\n",
              " 189: 'got',\n",
              " 190: 'thought',\n",
              " 191: 'big',\n",
              " 192: 'fact',\n",
              " 193: 'enough',\n",
              " 194: 'long',\n",
              " 195: 'both',\n",
              " 196: \"that's\",\n",
              " 197: 'give',\n",
              " 198: \"i've\",\n",
              " 199: 'own',\n",
              " 200: 'may',\n",
              " 201: 'between',\n",
              " 202: 'comedy',\n",
              " 203: 'right',\n",
              " 204: 'series',\n",
              " 205: 'action',\n",
              " 206: 'must',\n",
              " 207: 'music',\n",
              " 208: 'without',\n",
              " 209: 'times',\n",
              " 210: 'saw',\n",
              " 211: 'always',\n",
              " 212: 'original',\n",
              " 213: \"isn't\",\n",
              " 214: 'role',\n",
              " 215: 'come',\n",
              " 216: 'almost',\n",
              " 217: 'gets',\n",
              " 218: 'interesting',\n",
              " 219: 'guy',\n",
              " 220: 'point',\n",
              " 221: 'done',\n",
              " 222: \"there's\",\n",
              " 223: 'whole',\n",
              " 224: 'least',\n",
              " 225: 'far',\n",
              " 226: 'bit',\n",
              " 227: 'script',\n",
              " 228: 'minutes',\n",
              " 229: 'feel',\n",
              " 230: '2',\n",
              " 231: 'anything',\n",
              " 232: 'making',\n",
              " 233: 'might',\n",
              " 234: 'since',\n",
              " 235: 'am',\n",
              " 236: 'family',\n",
              " 237: \"he's\",\n",
              " 238: 'last',\n",
              " 239: 'probably',\n",
              " 240: 'tv',\n",
              " 241: 'performance',\n",
              " 242: 'kind',\n",
              " 243: 'away',\n",
              " 244: 'yet',\n",
              " 245: 'fun',\n",
              " 246: 'worst',\n",
              " 247: 'sure',\n",
              " 248: 'rather',\n",
              " 249: 'hard',\n",
              " 250: 'anyone',\n",
              " 251: 'girl',\n",
              " 252: 'each',\n",
              " 253: 'played',\n",
              " 254: 'day',\n",
              " 255: 'found',\n",
              " 256: 'looking',\n",
              " 257: 'woman',\n",
              " 258: 'screen',\n",
              " 259: 'although',\n",
              " 260: 'our',\n",
              " 261: 'especially',\n",
              " 262: 'believe',\n",
              " 263: 'having',\n",
              " 264: 'trying',\n",
              " 265: 'course',\n",
              " 266: 'dvd',\n",
              " 267: 'everything',\n",
              " 268: 'set',\n",
              " 269: 'goes',\n",
              " 270: 'comes',\n",
              " 271: 'put',\n",
              " 272: 'ending',\n",
              " 273: 'maybe',\n",
              " 274: 'place',\n",
              " 275: 'book',\n",
              " 276: 'shows',\n",
              " 277: 'three',\n",
              " 278: 'worth',\n",
              " 279: 'different',\n",
              " 280: 'main',\n",
              " 281: 'once',\n",
              " 282: 'sense',\n",
              " 283: 'american',\n",
              " 284: 'reason',\n",
              " 285: 'looks',\n",
              " 286: 'effects',\n",
              " 287: 'watched',\n",
              " 288: 'play',\n",
              " 289: 'true',\n",
              " 290: 'money',\n",
              " 291: 'actor',\n",
              " 292: \"wasn't\",\n",
              " 293: 'job',\n",
              " 294: 'together',\n",
              " 295: 'war',\n",
              " 296: 'someone',\n",
              " 297: 'plays',\n",
              " 298: 'instead',\n",
              " 299: 'high',\n",
              " 300: 'during',\n",
              " 301: 'year',\n",
              " 302: 'said',\n",
              " 303: 'half',\n",
              " 304: 'everyone',\n",
              " 305: 'later',\n",
              " 306: 'takes',\n",
              " 307: '1',\n",
              " 308: 'seem',\n",
              " 309: 'audience',\n",
              " 310: 'special',\n",
              " 311: 'beautiful',\n",
              " 312: 'left',\n",
              " 313: 'himself',\n",
              " 314: 'seeing',\n",
              " 315: 'john',\n",
              " 316: 'night',\n",
              " 317: 'black',\n",
              " 318: 'version',\n",
              " 319: 'shot',\n",
              " 320: 'excellent',\n",
              " 321: 'idea',\n",
              " 322: 'house',\n",
              " 323: 'mind',\n",
              " 324: 'star',\n",
              " 325: 'wife',\n",
              " 326: 'fan',\n",
              " 327: 'death',\n",
              " 328: 'used',\n",
              " 329: 'else',\n",
              " 330: 'simply',\n",
              " 331: 'nice',\n",
              " 332: 'budget',\n",
              " 333: 'poor',\n",
              " 334: 'short',\n",
              " 335: 'completely',\n",
              " 336: 'second',\n",
              " 337: \"you're\",\n",
              " 338: '3',\n",
              " 339: 'read',\n",
              " 340: 'less',\n",
              " 341: 'along',\n",
              " 342: 'top',\n",
              " 343: 'help',\n",
              " 344: 'home',\n",
              " 345: 'men',\n",
              " 346: 'either',\n",
              " 347: 'line',\n",
              " 348: 'boring',\n",
              " 349: 'dead',\n",
              " 350: 'friends',\n",
              " 351: 'kids',\n",
              " 352: 'try',\n",
              " 353: 'production',\n",
              " 354: 'enjoy',\n",
              " 355: 'camera',\n",
              " 356: 'wrong',\n",
              " 357: 'use',\n",
              " 358: 'given',\n",
              " 359: 'low',\n",
              " 360: 'classic',\n",
              " 361: 'father',\n",
              " 362: 'need',\n",
              " 363: 'full',\n",
              " 364: 'stupid',\n",
              " 365: 'next',\n",
              " 366: 'until',\n",
              " 367: 'performances',\n",
              " 368: 'school',\n",
              " 369: 'hollywood',\n",
              " 370: 'rest',\n",
              " 371: 'truly',\n",
              " 372: 'awful',\n",
              " 373: 'video',\n",
              " 374: 'couple',\n",
              " 375: 'start',\n",
              " 376: 'sex',\n",
              " 377: 'recommend',\n",
              " 378: 'women',\n",
              " 379: 'let',\n",
              " 380: 'tell',\n",
              " 381: 'terrible',\n",
              " 382: 'remember',\n",
              " 383: 'mean',\n",
              " 384: 'came',\n",
              " 385: 'understand',\n",
              " 386: 'getting',\n",
              " 387: 'perhaps',\n",
              " 388: 'moments',\n",
              " 389: 'name',\n",
              " 390: 'keep',\n",
              " 391: 'face',\n",
              " 392: 'itself',\n",
              " 393: 'wonderful',\n",
              " 394: 'playing',\n",
              " 395: 'human',\n",
              " 396: 'style',\n",
              " 397: 'small',\n",
              " 398: 'episode',\n",
              " 399: 'perfect',\n",
              " 400: 'others',\n",
              " 401: 'person',\n",
              " 402: 'doing',\n",
              " 403: 'often',\n",
              " 404: 'early',\n",
              " 405: 'stars',\n",
              " 406: 'definitely',\n",
              " 407: 'written',\n",
              " 408: 'head',\n",
              " 409: 'lines',\n",
              " 410: 'dialogue',\n",
              " 411: 'gives',\n",
              " 412: 'piece',\n",
              " 413: \"couldn't\",\n",
              " 414: 'went',\n",
              " 415: 'finally',\n",
              " 416: 'mother',\n",
              " 417: 'case',\n",
              " 418: 'title',\n",
              " 419: 'absolutely',\n",
              " 420: 'live',\n",
              " 421: 'boy',\n",
              " 422: 'yes',\n",
              " 423: 'laugh',\n",
              " 424: 'certainly',\n",
              " 425: 'liked',\n",
              " 426: 'become',\n",
              " 427: 'entertaining',\n",
              " 428: 'worse',\n",
              " 429: 'oh',\n",
              " 430: 'sort',\n",
              " 431: 'loved',\n",
              " 432: 'lost',\n",
              " 433: 'hope',\n",
              " 434: 'called',\n",
              " 435: 'picture',\n",
              " 436: 'felt',\n",
              " 437: 'overall',\n",
              " 438: 'entire',\n",
              " 439: 'several',\n",
              " 440: 'mr',\n",
              " 441: 'based',\n",
              " 442: 'supposed',\n",
              " 443: 'cinema',\n",
              " 444: 'friend',\n",
              " 445: 'guys',\n",
              " 446: 'sound',\n",
              " 447: '5',\n",
              " 448: 'problem',\n",
              " 449: 'drama',\n",
              " 450: 'against',\n",
              " 451: 'waste',\n",
              " 452: 'white',\n",
              " 453: 'beginning',\n",
              " 454: '4',\n",
              " 455: 'fans',\n",
              " 456: 'totally',\n",
              " 457: 'dark',\n",
              " 458: 'care',\n",
              " 459: 'direction',\n",
              " 460: 'humor',\n",
              " 461: 'wanted',\n",
              " 462: \"she's\",\n",
              " 463: 'seemed',\n",
              " 464: 'under',\n",
              " 465: 'game',\n",
              " 466: 'children',\n",
              " 467: 'despite',\n",
              " 468: 'lives',\n",
              " 469: 'lead',\n",
              " 470: 'guess',\n",
              " 471: 'example',\n",
              " 472: 'already',\n",
              " 473: 'final',\n",
              " 474: 'throughout',\n",
              " 475: \"you'll\",\n",
              " 476: 'evil',\n",
              " 477: 'turn',\n",
              " 478: 'becomes',\n",
              " 479: 'unfortunately',\n",
              " 480: 'able',\n",
              " 481: 'quality',\n",
              " 482: \"i'd\",\n",
              " 483: 'days',\n",
              " 484: 'history',\n",
              " 485: 'fine',\n",
              " 486: 'side',\n",
              " 487: 'wants',\n",
              " 488: 'heart',\n",
              " 489: 'horrible',\n",
              " 490: 'writing',\n",
              " 491: 'amazing',\n",
              " 492: 'b',\n",
              " 493: 'flick',\n",
              " 494: 'killer',\n",
              " 495: 'run',\n",
              " 496: 'son',\n",
              " 497: '\\x96',\n",
              " 498: 'michael',\n",
              " 499: 'works',\n",
              " 500: 'close',\n",
              " 501: \"they're\",\n",
              " 502: 'act',\n",
              " 503: 'art',\n",
              " 504: 'matter',\n",
              " 505: 'kill',\n",
              " 506: 'etc',\n",
              " 507: 'tries',\n",
              " 508: \"won't\",\n",
              " 509: 'past',\n",
              " 510: 'town',\n",
              " 511: 'turns',\n",
              " 512: 'enjoyed',\n",
              " 513: 'brilliant',\n",
              " 514: 'gave',\n",
              " 515: 'behind',\n",
              " 516: 'parts',\n",
              " 517: 'stuff',\n",
              " 518: 'genre',\n",
              " 519: 'eyes',\n",
              " 520: 'car',\n",
              " 521: 'favorite',\n",
              " 522: 'directed',\n",
              " 523: 'late',\n",
              " 524: 'hand',\n",
              " 525: 'expect',\n",
              " 526: 'soon',\n",
              " 527: 'hour',\n",
              " 528: 'obviously',\n",
              " 529: 'themselves',\n",
              " 530: 'sometimes',\n",
              " 531: 'killed',\n",
              " 532: 'actress',\n",
              " 533: 'thinking',\n",
              " 534: 'child',\n",
              " 535: 'girls',\n",
              " 536: 'viewer',\n",
              " 537: 'starts',\n",
              " 538: 'city',\n",
              " 539: 'myself',\n",
              " 540: 'decent',\n",
              " 541: 'highly',\n",
              " 542: 'stop',\n",
              " 543: 'type',\n",
              " 544: 'self',\n",
              " 545: 'god',\n",
              " 546: 'says',\n",
              " 547: 'group',\n",
              " 548: 'anyway',\n",
              " 549: 'voice',\n",
              " 550: 'took',\n",
              " 551: 'known',\n",
              " 552: 'blood',\n",
              " 553: 'kid',\n",
              " 554: 'heard',\n",
              " 555: 'happens',\n",
              " 556: 'except',\n",
              " 557: 'fight',\n",
              " 558: 'feeling',\n",
              " 559: 'experience',\n",
              " 560: 'coming',\n",
              " 561: 'slow',\n",
              " 562: 'daughter',\n",
              " 563: 'writer',\n",
              " 564: 'stories',\n",
              " 565: 'moment',\n",
              " 566: 'told',\n",
              " 567: 'leave',\n",
              " 568: 'extremely',\n",
              " 569: 'score',\n",
              " 570: 'violence',\n",
              " 571: 'police',\n",
              " 572: 'involved',\n",
              " 573: 'strong',\n",
              " 574: 'lack',\n",
              " 575: 'chance',\n",
              " 576: 'cannot',\n",
              " 577: 'hit',\n",
              " 578: 'roles',\n",
              " 579: 'hilarious',\n",
              " 580: 's',\n",
              " 581: 'happen',\n",
              " 582: 'wonder',\n",
              " 583: 'particularly',\n",
              " 584: 'ok',\n",
              " 585: 'including',\n",
              " 586: 'living',\n",
              " 587: 'save',\n",
              " 588: 'looked',\n",
              " 589: \"wouldn't\",\n",
              " 590: 'crap',\n",
              " 591: 'please',\n",
              " 592: 'simple',\n",
              " 593: 'cool',\n",
              " 594: 'murder',\n",
              " 595: 'obvious',\n",
              " 596: 'happened',\n",
              " 597: 'complete',\n",
              " 598: 'cut',\n",
              " 599: 'age',\n",
              " 600: 'serious',\n",
              " 601: 'gore',\n",
              " 602: 'attempt',\n",
              " 603: 'hell',\n",
              " 604: 'ago',\n",
              " 605: 'song',\n",
              " 606: 'shown',\n",
              " 607: 'taken',\n",
              " 608: 'english',\n",
              " 609: 'james',\n",
              " 610: 'robert',\n",
              " 611: 'david',\n",
              " 612: 'seriously',\n",
              " 613: 'released',\n",
              " 614: 'reality',\n",
              " 615: 'opening',\n",
              " 616: 'interest',\n",
              " 617: 'jokes',\n",
              " 618: 'across',\n",
              " 619: 'none',\n",
              " 620: 'hero',\n",
              " 621: 'possible',\n",
              " 622: 'exactly',\n",
              " 623: 'today',\n",
              " 624: 'alone',\n",
              " 625: 'sad',\n",
              " 626: 'brother',\n",
              " 627: 'number',\n",
              " 628: 'saying',\n",
              " 629: 'career',\n",
              " 630: \"film's\",\n",
              " 631: 'usually',\n",
              " 632: 'hours',\n",
              " 633: 'cinematography',\n",
              " 634: 'talent',\n",
              " 635: 'view',\n",
              " 636: 'running',\n",
              " 637: 'yourself',\n",
              " 638: 'annoying',\n",
              " 639: 'relationship',\n",
              " 640: 'documentary',\n",
              " 641: 'wish',\n",
              " 642: 'order',\n",
              " 643: 'huge',\n",
              " 644: 'shots',\n",
              " 645: 'whose',\n",
              " 646: 'ridiculous',\n",
              " 647: 'taking',\n",
              " 648: 'important',\n",
              " 649: 'light',\n",
              " 650: 'body',\n",
              " 651: 'middle',\n",
              " 652: 'level',\n",
              " 653: 'ends',\n",
              " 654: 'female',\n",
              " 655: 'started',\n",
              " 656: 'call',\n",
              " 657: \"i'll\",\n",
              " 658: 'husband',\n",
              " 659: 'four',\n",
              " 660: 'power',\n",
              " 661: 'word',\n",
              " 662: 'turned',\n",
              " 663: 'major',\n",
              " 664: 'opinion',\n",
              " 665: 'change',\n",
              " 666: 'mostly',\n",
              " 667: 'usual',\n",
              " 668: 'scary',\n",
              " 669: 'silly',\n",
              " 670: 'rating',\n",
              " 671: 'beyond',\n",
              " 672: 'somewhat',\n",
              " 673: 'ones',\n",
              " 674: 'happy',\n",
              " 675: 'words',\n",
              " 676: 'room',\n",
              " 677: 'knew',\n",
              " 678: 'knows',\n",
              " 679: 'country',\n",
              " 680: 'disappointed',\n",
              " 681: 'talking',\n",
              " 682: 'novel',\n",
              " 683: 'apparently',\n",
              " 684: 'non',\n",
              " 685: 'strange',\n",
              " 686: 'upon',\n",
              " 687: 'attention',\n",
              " 688: 'basically',\n",
              " 689: 'single',\n",
              " 690: 'finds',\n",
              " 691: 'cheap',\n",
              " 692: 'modern',\n",
              " 693: 'due',\n",
              " 694: 'jack',\n",
              " 695: 'television',\n",
              " 696: 'musical',\n",
              " 697: 'problems',\n",
              " 698: 'miss',\n",
              " 699: 'episodes',\n",
              " 700: 'clearly',\n",
              " 701: 'local',\n",
              " 702: '7',\n",
              " 703: 'british',\n",
              " 704: 'thriller',\n",
              " 705: 'talk',\n",
              " 706: 'events',\n",
              " 707: 'sequence',\n",
              " 708: 'five',\n",
              " 709: \"aren't\",\n",
              " 710: 'class',\n",
              " 711: 'french',\n",
              " 712: 'moving',\n",
              " 713: 'ten',\n",
              " 714: 'fast',\n",
              " 715: 'earth',\n",
              " 716: 'review',\n",
              " 717: 'tells',\n",
              " 718: 'predictable',\n",
              " 719: 'songs',\n",
              " 720: 'team',\n",
              " 721: 'comic',\n",
              " 722: 'straight',\n",
              " 723: 'whether',\n",
              " 724: '8',\n",
              " 725: 'die',\n",
              " 726: 'add',\n",
              " 727: 'dialog',\n",
              " 728: 'entertainment',\n",
              " 729: 'above',\n",
              " 730: 'sets',\n",
              " 731: 'future',\n",
              " 732: 'enjoyable',\n",
              " 733: 'appears',\n",
              " 734: 'near',\n",
              " 735: 'space',\n",
              " 736: 'easily',\n",
              " 737: 'hate',\n",
              " 738: 'soundtrack',\n",
              " 739: 'bring',\n",
              " 740: 'giving',\n",
              " 741: 'lots',\n",
              " 742: 'similar',\n",
              " 743: 'romantic',\n",
              " 744: 'george',\n",
              " 745: 'supporting',\n",
              " 746: 'release',\n",
              " 747: 'mention',\n",
              " 748: 'within',\n",
              " 749: 'filmed',\n",
              " 750: 'message',\n",
              " 751: 'sequel',\n",
              " 752: 'clear',\n",
              " 753: 'falls',\n",
              " 754: 'needs',\n",
              " 755: \"haven't\",\n",
              " 756: 'dull',\n",
              " 757: 'suspense',\n",
              " 758: 'eye',\n",
              " 759: 'bunch',\n",
              " 760: 'surprised',\n",
              " 761: 'showing',\n",
              " 762: 'sorry',\n",
              " 763: 'tried',\n",
              " 764: 'certain',\n",
              " 765: 'working',\n",
              " 766: 'easy',\n",
              " 767: 'ways',\n",
              " 768: 'theme',\n",
              " 769: 'theater',\n",
              " 770: 'among',\n",
              " 771: 'named',\n",
              " 772: \"what's\",\n",
              " 773: 'storyline',\n",
              " 774: 'monster',\n",
              " 775: 'king',\n",
              " 776: 'stay',\n",
              " 777: 'effort',\n",
              " 778: 'minute',\n",
              " 779: 'stand',\n",
              " 780: 'fall',\n",
              " 781: 'gone',\n",
              " 782: 'rock',\n",
              " 783: 'using',\n",
              " 784: '9',\n",
              " 785: 'feature',\n",
              " 786: 'comments',\n",
              " 787: 'buy',\n",
              " 788: \"'\",\n",
              " 789: 't',\n",
              " 790: 'typical',\n",
              " 791: 'sister',\n",
              " 792: 'editing',\n",
              " 793: 'tale',\n",
              " 794: 'avoid',\n",
              " 795: 'deal',\n",
              " 796: 'mystery',\n",
              " 797: 'dr',\n",
              " 798: 'doubt',\n",
              " 799: 'fantastic',\n",
              " 800: 'nearly',\n",
              " 801: 'kept',\n",
              " 802: 'subject',\n",
              " 803: 'okay',\n",
              " 804: 'feels',\n",
              " 805: 'viewing',\n",
              " 806: 'elements',\n",
              " 807: 'check',\n",
              " 808: 'oscar',\n",
              " 809: 'points',\n",
              " 810: 'realistic',\n",
              " 811: 'greatest',\n",
              " 812: 'means',\n",
              " 813: 'herself',\n",
              " 814: 'parents',\n",
              " 815: 'famous',\n",
              " 816: 'imagine',\n",
              " 817: 'rent',\n",
              " 818: 'viewers',\n",
              " 819: 'richard',\n",
              " 820: 'crime',\n",
              " 821: 'form',\n",
              " 822: 'peter',\n",
              " 823: 'actual',\n",
              " 824: 'lady',\n",
              " 825: 'general',\n",
              " 826: 'dog',\n",
              " 827: 'follow',\n",
              " 828: 'believable',\n",
              " 829: 'period',\n",
              " 830: 'red',\n",
              " 831: 'brought',\n",
              " 832: 'move',\n",
              " 833: 'material',\n",
              " 834: 'forget',\n",
              " 835: 'somehow',\n",
              " 836: 'begins',\n",
              " 837: 're',\n",
              " 838: 'reviews',\n",
              " 839: 'animation',\n",
              " 840: 'paul',\n",
              " 841: \"you've\",\n",
              " 842: 'leads',\n",
              " 843: 'weak',\n",
              " 844: 'figure',\n",
              " 845: 'surprise',\n",
              " 846: 'hear',\n",
              " 847: 'sit',\n",
              " 848: 'average',\n",
              " 849: 'open',\n",
              " 850: 'sequences',\n",
              " 851: 'atmosphere',\n",
              " 852: 'killing',\n",
              " 853: 'eventually',\n",
              " 854: 'learn',\n",
              " 855: 'tom',\n",
              " 856: 'premise',\n",
              " 857: '20',\n",
              " 858: 'wait',\n",
              " 859: 'sci',\n",
              " 860: 'deep',\n",
              " 861: 'fi',\n",
              " 862: 'expected',\n",
              " 863: 'whatever',\n",
              " 864: 'indeed',\n",
              " 865: 'particular',\n",
              " 866: 'lame',\n",
              " 867: 'note',\n",
              " 868: 'poorly',\n",
              " 869: 'imdb',\n",
              " 870: 'dance',\n",
              " 871: 'situation',\n",
              " 872: 'shame',\n",
              " 873: 'third',\n",
              " 874: 'york',\n",
              " 875: 'box',\n",
              " 876: 'truth',\n",
              " 877: 'decided',\n",
              " 878: 'free',\n",
              " 879: 'hot',\n",
              " 880: \"who's\",\n",
              " 881: 'difficult',\n",
              " 882: 'season',\n",
              " 883: 'needed',\n",
              " 884: 'acted',\n",
              " 885: 'leaves',\n",
              " 886: 'unless',\n",
              " 887: 'possibly',\n",
              " 888: 'romance',\n",
              " 889: 'emotional',\n",
              " 890: 'sexual',\n",
              " 891: 'gay',\n",
              " 892: 'boys',\n",
              " 893: 'footage',\n",
              " 894: 'write',\n",
              " 895: 'western',\n",
              " 896: 'forced',\n",
              " 897: 'credits',\n",
              " 898: 'memorable',\n",
              " 899: 'reading',\n",
              " 900: 'became',\n",
              " 901: 'doctor',\n",
              " 902: 'otherwise',\n",
              " 903: 'begin',\n",
              " 904: 'air',\n",
              " 905: 'de',\n",
              " 906: 'crew',\n",
              " 907: 'question',\n",
              " 908: 'society',\n",
              " 909: 'meet',\n",
              " 910: 'male',\n",
              " 911: 'meets',\n",
              " 912: \"let's\",\n",
              " 913: 'plus',\n",
              " 914: 'cheesy',\n",
              " 915: 'hands',\n",
              " 916: 'superb',\n",
              " 917: 'screenplay',\n",
              " 918: 'beauty',\n",
              " 919: 'interested',\n",
              " 920: 'features',\n",
              " 921: 'street',\n",
              " 922: 'whom',\n",
              " 923: 'perfectly',\n",
              " 924: 'masterpiece',\n",
              " 925: 'laughs',\n",
              " 926: 'nature',\n",
              " 927: 'stage',\n",
              " 928: 'effect',\n",
              " 929: 'forward',\n",
              " 930: 'comment',\n",
              " 931: 'nor',\n",
              " 932: 'e',\n",
              " 933: 'previous',\n",
              " 934: 'sounds',\n",
              " 935: 'badly',\n",
              " 936: 'japanese',\n",
              " 937: 'weird',\n",
              " 938: 'island',\n",
              " 939: 'inside',\n",
              " 940: 'personal',\n",
              " 941: 'quickly',\n",
              " 942: 'total',\n",
              " 943: 'keeps',\n",
              " 944: 'towards',\n",
              " 945: 'america',\n",
              " 946: 'result',\n",
              " 947: 'battle',\n",
              " 948: 'crazy',\n",
              " 949: 'worked',\n",
              " 950: 'setting',\n",
              " 951: 'incredibly',\n",
              " 952: 'earlier',\n",
              " 953: 'background',\n",
              " 954: 'mess',\n",
              " 955: 'cop',\n",
              " 956: 'writers',\n",
              " 957: 'fire',\n",
              " 958: 'copy',\n",
              " 959: 'unique',\n",
              " 960: 'realize',\n",
              " 961: 'dumb',\n",
              " 962: 'powerful',\n",
              " 963: 'lee',\n",
              " 964: 'mark',\n",
              " 965: 'business',\n",
              " 966: 'rate',\n",
              " 967: 'dramatic',\n",
              " 968: 'older',\n",
              " 969: 'pay',\n",
              " 970: 'following',\n",
              " 971: 'directors',\n",
              " 972: 'girlfriend',\n",
              " 973: 'joke',\n",
              " 974: 'plenty',\n",
              " 975: 'directing',\n",
              " 976: 'various',\n",
              " 977: 'baby',\n",
              " 978: 'creepy',\n",
              " 979: 'appear',\n",
              " 980: 'development',\n",
              " 981: 'brings',\n",
              " 982: 'front',\n",
              " 983: 'ask',\n",
              " 984: 'dream',\n",
              " 985: 'water',\n",
              " 986: 'admit',\n",
              " 987: 'rich',\n",
              " 988: 'bill',\n",
              " 989: 'apart',\n",
              " 990: 'joe',\n",
              " 991: 'fairly',\n",
              " 992: 'political',\n",
              " 993: 'leading',\n",
              " 994: 'reasons',\n",
              " 995: 'portrayed',\n",
              " 996: 'spent',\n",
              " 997: 'telling',\n",
              " 998: 'cover',\n",
              " 999: 'outside',\n",
              " 1000: 'present',\n",
              " ...}"
            ]
          },
          "execution_count": 94,
          "metadata": {},
          "output_type": "execute_result"
        }
      ],
      "source": [
        "tokenizer.index_word"
      ]
    },
    {
      "cell_type": "markdown",
      "metadata": {
        "id": "_My7x15wcH4r"
      },
      "source": [
        "We can then use the tokenizer to convert all texts in the training-set to lists of these tokens."
      ]
    },
    {
      "cell_type": "code",
      "execution_count": 95,
      "metadata": {
        "id": "PEbfbuj3cH4r"
      },
      "outputs": [],
      "source": [
        "x_train_tokens = tokenizer.texts_to_sequences(x_train_text)"
      ]
    },
    {
      "cell_type": "markdown",
      "metadata": {
        "id": "aRG2ujz2cH4r"
      },
      "source": [
        "For example, here is a text from the training-set:"
      ]
    },
    {
      "cell_type": "code",
      "execution_count": 96,
      "metadata": {
        "id": "FxQsrXewcH4r",
        "outputId": "86582b51-ebd2-494f-d2b6-f662bf0717ec"
      },
      "outputs": [
        {
          "name": "stdout",
          "output_type": "stream",
          "text": [
            "307\n"
          ]
        },
        {
          "data": {
            "text/plain": [
              "\"One of the other reviewers has mentioned that after watching just 1 Oz episode you'll be hooked. They are right, as this is exactly what happened with me.<br /><br />The first thing that struck me about Oz was its brutality and unflinching scenes of violence, which set in right from the word GO. Trust me, this is not a show for the faint hearted or timid. This show pulls no punches with regards to drugs, sex or violence. Its is hardcore, in the classic use of the word.<br /><br />It is called OZ as that is the nickname given to the Oswald Maximum Security State Penitentary. It focuses mainly on Emerald City, an experimental section of the prison where all the cells have glass fronts and face inwards, so privacy is not high on the agenda. Em City is home to many..Aryans, Muslims, gangstas, Latinos, Christians, Italians, Irish and more....so scuffles, death stares, dodgy dealings and shady agreements are never far away.<br /><br />I would say the main appeal of the show is due to the fact that it goes where other shows wouldn't dare. Forget pretty pictures painted for mainstream audiences, forget charm, forget romance...OZ doesn't mess around. The first episode I ever saw struck me as so nasty it was surreal, I couldn't say I was ready for it, but as I watched more, I developed a taste for Oz, and got accustomed to the high levels of graphic violence. Not just violence, but injustice (crooked guards who'll be sold out for a nickel, inmates who'll kill on order and get away with it, well mannered, middle class inmates being turned into prison bitches due to their lack of street skills or prison experience) Watching Oz, you may become comfortable with what is uncomfortable viewing....thats if you can get in touch with your darker side.\""
            ]
          },
          "execution_count": 96,
          "metadata": {},
          "output_type": "execute_result"
        }
      ],
      "source": [
        "print((len(x_train_text[0].split(\" \"))))\n",
        "\n",
        "x_train_text[0]"
      ]
    },
    {
      "cell_type": "markdown",
      "metadata": {
        "id": "jRBD6-DGcH4s"
      },
      "source": [
        "This text corresponds to the following list of tokens:"
      ]
    },
    {
      "cell_type": "code",
      "execution_count": 97,
      "metadata": {
        "id": "XTdQK6PWcH4s",
        "outputId": "6e4757a7-b825-4b34-de67-363e1ca15624"
      },
      "outputs": [
        {
          "data": {
            "text/plain": [
              "array([   11,     6,   144,   108,     2,    64,  2130,   449,    30,\n",
              "           3,   652,    12, 31140,    88,     4,    48,    73,    63,\n",
              "          20,   240,    30,     1,  9597,     7,     7,    10,    13,\n",
              "        1508,   203,    36,     1,   375,    89,    26,   271,   122,\n",
              "          43,   125,    21,     3,   859,   861,  5769,    37,    68,\n",
              "          11,    98,    26,  1462,    20,   715,     1,   192,    12,\n",
              "          92,     8,   156,  6187,    39,   162,     1,   119,    51,\n",
              "         218,    46,    23,    54,   735,  4940,    38,  8161,  1962,\n",
              "         619,   244,   548,    34,   225,   198,   107,    53,     5,\n",
              "       71839, 71840,     2,   145, 13963,     2,  1545,  4636,   166,\n",
              "           5,   581,   365,    14,    46,    23,    34,   106,  4627,\n",
              "           7,     7,     1,   174,   288,    46,   578,    16, 71841,\n",
              "        2150, 13497,     6,   261,   573,     7,     7,    11,   119,\n",
              "          62,  1387,   624,    69,     9,   149,   504,    43,    22,\n",
              "         287,  9719,    38,    21,     8,   192,    33,    23,   179,\n",
              "         279,   198,   339,    47,  1595,   838,    36,   859,   861,\n",
              "       10523,    35,   862,   340,   449,     2,    51,  2074,     2,\n",
              "        1369,  1962,   506,    18,    10,    58,   131,  2775,    93,\n",
              "           7,     7,    11,     6,     3,    62,  1161,   375,     5,\n",
              "           3,   119,  1573,   433,    33,    89, 29378,     9,   100,\n",
              "         307,    38,   230,  2499,    37,    33,  1867,    77,    16,\n",
              "          49,   276,   132,   483])"
            ]
          },
          "execution_count": 97,
          "metadata": {},
          "output_type": "execute_result"
        }
      ],
      "source": [
        "np.array(x_train_tokens[0])"
      ]
    },
    {
      "cell_type": "code",
      "execution_count": 103,
      "metadata": {},
      "outputs": [
        {
          "data": {
            "text/plain": [
              "'is'"
            ]
          },
          "execution_count": 103,
          "metadata": {},
          "output_type": "execute_result"
        }
      ],
      "source": [
        "tokenizer.index_word[6]"
      ]
    },
    {
      "cell_type": "code",
      "execution_count": 104,
      "metadata": {},
      "outputs": [
        {
          "data": {
            "text/plain": [
              "710"
            ]
          },
          "execution_count": 104,
          "metadata": {},
          "output_type": "execute_result"
        }
      ],
      "source": [
        "len(x_train_tokens[1])"
      ]
    },
    {
      "cell_type": "markdown",
      "metadata": {
        "id": "30UZNBttcH4s"
      },
      "source": [
        "We also need to convert the texts in the test-set to tokens."
      ]
    },
    {
      "cell_type": "code",
      "execution_count": 105,
      "metadata": {
        "id": "K-Krtd30cH4s"
      },
      "outputs": [],
      "source": [
        "x_test_tokens = tokenizer.texts_to_sequences(x_test_text)"
      ]
    },
    {
      "cell_type": "markdown",
      "metadata": {
        "id": "25th_kAZcH4s"
      },
      "source": [
        "## Padding and Truncating Data\n",
        "\n",
        "The Recurrent Neural Network can take sequences of arbitrary length as input, but in order to use a whole batch of data, the sequences need to have the same length. There are two ways of achieving this: (A) Either we ensure that all sequences in the entire data-set have the same length, or (B) we write a custom data-generator that ensures the sequences have the same length within each batch.\n",
        "\n",
        "Solution (A) is simpler but if we use the length of the longest sequence in the data-set, then we are wasting a lot of memory. This is particularly important for larger data-sets.\n",
        "\n",
        "So in order to make a compromise, we will use a sequence-length that covers most sequences in the data-set, and we will then truncate longer sequences and pad shorter sequences.\n",
        "\n",
        "First we count the number of tokens in all the sequences in the data-set."
      ]
    },
    {
      "cell_type": "code",
      "execution_count": 106,
      "metadata": {
        "id": "O3Yj0IfQcH4s"
      },
      "outputs": [
        {
          "data": {
            "text/plain": [
              "True"
            ]
          },
          "execution_count": 106,
          "metadata": {},
          "output_type": "execute_result"
        }
      ],
      "source": [
        "num_tokens = [len(tokens) for tokens in x_train_tokens + x_test_tokens] # stock le number f token in each sentence\n",
        "num_tokens = np.array(num_tokens) # convert in an array \n",
        "\n",
        "len(num_tokens) == len(x_train_tokens + x_test_tokens)"
      ]
    },
    {
      "cell_type": "markdown",
      "metadata": {
        "id": "oaMwPDjScH4s"
      },
      "source": [
        "The average number of tokens in a sequence is:"
      ]
    },
    {
      "cell_type": "code",
      "execution_count": 107,
      "metadata": {
        "id": "6s_cT88WcH4s",
        "outputId": "7f61b07e-e90e-429f-eb45-7233500670b5"
      },
      "outputs": [
        {
          "data": {
            "text/plain": [
              "235.03316"
            ]
          },
          "execution_count": 107,
          "metadata": {},
          "output_type": "execute_result"
        }
      ],
      "source": [
        "np.mean(num_tokens) "
      ]
    },
    {
      "cell_type": "markdown",
      "metadata": {
        "id": "H__WUNyMcH4s"
      },
      "source": [
        "The maximum number of tokens in a sequence is:"
      ]
    },
    {
      "cell_type": "code",
      "execution_count": 109,
      "metadata": {
        "id": "1H1zZ3C7cH4s",
        "outputId": "ac0cbfbf-3b90-4528-9fa0-3ee50fec9e4b"
      },
      "outputs": [
        {
          "data": {
            "text/plain": [
              "2493"
            ]
          },
          "execution_count": 109,
          "metadata": {},
          "output_type": "execute_result"
        }
      ],
      "source": [
        "np.max(num_tokens)"
      ]
    },
    {
      "cell_type": "markdown",
      "metadata": {
        "id": "jsEhquitcH4s"
      },
      "source": [
        "The max number of tokens we will allow is set to the average plus 2 standard deviations."
      ]
    },
    {
      "cell_type": "code",
      "execution_count": 110,
      "metadata": {
        "id": "vP3NnF9TcH4s",
        "outputId": "898739af-1dea-4b4a-966a-6557130a610f"
      },
      "outputs": [
        {
          "data": {
            "text/plain": [
              "583"
            ]
          },
          "execution_count": 110,
          "metadata": {},
          "output_type": "execute_result"
        }
      ],
      "source": [
        "max_tokens = np.mean(num_tokens) + 2 * np.std(num_tokens)\n",
        "max_tokens = int(max_tokens)\n",
        "max_tokens"
      ]
    },
    {
      "cell_type": "markdown",
      "metadata": {
        "id": "g2lu9P4PcH4s"
      },
      "source": [
        "This covers about 95% of the data-set."
      ]
    },
    {
      "cell_type": "code",
      "execution_count": 111,
      "metadata": {
        "id": "O_WNRX2bcH4s",
        "outputId": "8918d39c-ec24-4c13-acb4-9052518c5011"
      },
      "outputs": [
        {
          "data": {
            "text/plain": [
              "0.94514"
            ]
          },
          "execution_count": 111,
          "metadata": {},
          "output_type": "execute_result"
        }
      ],
      "source": [
        "np.sum(num_tokens < max_tokens) / len(num_tokens)"
      ]
    },
    {
      "cell_type": "markdown",
      "metadata": {
        "id": "FyTN6Bp3cH4s"
      },
      "source": [
        "When padding or truncating the sequences that have a different length, we need to determine if we want to do this padding or truncating 'pre' or 'post'. If a sequence is truncated, it means that a part of the sequence is simply thrown away. If a sequence is padded, it means that zeros are added to the sequence.\n",
        "\n",
        "So the choice of 'pre' or 'post' can be important because it determines whether we throw away the first or last part of a sequence when truncating, and it determines whether we add zeros to the beginning or end of the sequence when padding. This may confuse the Recurrent Neural Network."
      ]
    },
    {
      "cell_type": "code",
      "execution_count": 113,
      "metadata": {
        "id": "jlBmROzkcH4s"
      },
      "outputs": [],
      "source": [
        "pad = 'pre'\n",
        "\n",
        "x_train_pad = pad_sequences(x_train_tokens, maxlen=max_tokens, \n",
        "                            padding=pad, truncating=pad)"
      ]
    },
    {
      "cell_type": "code",
      "execution_count": 114,
      "metadata": {},
      "outputs": [
        {
          "data": {
            "text/plain": [
              "array([[   0,    0,    0, ...,  276,  132,  483],\n",
              "       [   8,  168,  874, ...,   27,  784,  157],\n",
              "       [   0,    0,    0, ...,    1,   86,   19],\n",
              "       ...,\n",
              "       [   0,    0,    0, ...,    1,   78,  682],\n",
              "       [   0,    0,    0, ...,    3, 2525, 1416],\n",
              "       [   0,    0,    0, ...,  266,  875,  268]], dtype=int32)"
            ]
          },
          "execution_count": 114,
          "metadata": {},
          "output_type": "execute_result"
        }
      ],
      "source": [
        "x_train_pad"
      ]
    },
    {
      "cell_type": "code",
      "execution_count": 115,
      "metadata": {
        "id": "7yKk2xXHcH4s"
      },
      "outputs": [],
      "source": [
        "x_test_pad = pad_sequences(x_test_tokens, maxlen=max_tokens,\n",
        "                           padding=pad, truncating=pad)"
      ]
    },
    {
      "cell_type": "markdown",
      "metadata": {
        "id": "WoivH7P-cH4s"
      },
      "source": [
        "We have now transformed the training-set into one big matrix of integers (tokens) with this shape:"
      ]
    },
    {
      "cell_type": "code",
      "execution_count": 116,
      "metadata": {
        "id": "znvQNP2gcH4s",
        "outputId": "d5f318b9-1e0b-4ef1-fd8f-27f6fc3b4b6d"
      },
      "outputs": [
        {
          "data": {
            "text/plain": [
              "(45000, 583)"
            ]
          },
          "execution_count": 116,
          "metadata": {},
          "output_type": "execute_result"
        }
      ],
      "source": [
        "x_train_pad.shape"
      ]
    },
    {
      "cell_type": "markdown",
      "metadata": {
        "id": "TdDTmNM2cH4s"
      },
      "source": [
        "The matrix for the test-set has the same shape about columns:"
      ]
    },
    {
      "cell_type": "code",
      "execution_count": 117,
      "metadata": {
        "id": "p2NqRyM_cH4s",
        "outputId": "4a991124-0bf8-48da-d153-d2afdc7654c1",
        "scrolled": true
      },
      "outputs": [
        {
          "data": {
            "text/plain": [
              "(5000, 583)"
            ]
          },
          "execution_count": 117,
          "metadata": {},
          "output_type": "execute_result"
        }
      ],
      "source": [
        "x_test_pad.shape"
      ]
    },
    {
      "cell_type": "markdown",
      "metadata": {
        "id": "bWytlebscH4t"
      },
      "source": [
        "For example, we had the following sequence of tokens above:"
      ]
    },
    {
      "cell_type": "code",
      "execution_count": 153,
      "metadata": {
        "id": "eAhECWIBcH4t",
        "outputId": "14efe791-a664-4ad3-dc06-a463effc6020"
      },
      "outputs": [
        {
          "data": {
            "text/plain": [
              "True"
            ]
          },
          "execution_count": 153,
          "metadata": {},
          "output_type": "execute_result"
        }
      ],
      "source": [
        "np.array(x_train_tokens[1]).shape  >= np.array(x_train_pad[1]).shape"
      ]
    },
    {
      "cell_type": "markdown",
      "metadata": {
        "id": "W6xvyL42cH4t"
      },
      "source": [
        "This has simply been padded to create the following sequence. Note that when this is input to the Recurrent Neural Network, then it first inputs a lot of zeros. If we had padded 'post' then it would input the integer-tokens first and then a lot of zeros. This may confuse the Recurrent Neural Network."
      ]
    },
    {
      "cell_type": "code",
      "execution_count": 156,
      "metadata": {
        "id": "HeljNnDMcH4t",
        "outputId": "013ff6bc-7098-43cc-f200-f3e3904854a5"
      },
      "outputs": [
        {
          "data": {
            "text/plain": [
              "array([    8,   168,   874,   538,     5,    94,     1, 18880,  1731,\n",
              "          15,  2951,    41,    24,  2930,    80,    18,    28,   836,\n",
              "           5,    25,   336,  2273,   206,    28,  1717,     1,   586,\n",
              "           2,     1,   349,    77,    33,  1749,    48,   206, 26559,\n",
              "          93,     9,     6,     3,  3854,    28,    58,  2643,    21,\n",
              "           5,  6730,    30,    11,   865,   565,    60,   411, 21956,\n",
              "           5,  3890,  1688,  3073,  1733,    35,  3690,    12,     1,\n",
              "        7154,     4,    29,    24,   249,  5628,     6,    42,     5,\n",
              "          26,  4910,   243,    30,  3225,    15,    28,    67,    61,\n",
              "        1676,    24,   158,    34,   194,    14,    46,    23,    83,\n",
              "         183,    35, 19395,     5,    65,  4612,  1973,     2,  1463,\n",
              "          32,  8528,  5276,   299,  1132,    19,  6951,  2480,     1,\n",
              "          64,     8,    32,  1105,   190,  2628,  1417,   647,    78,\n",
              "         458,     8,  1925,    16,     1,  2691,   802,   504,    34,\n",
              "          14,     5,    94,     9, 14245,    57,     5,     1,    88,\n",
              "       13071, 13964,     1,   410,   201,  2269,     2,  3890,     6,\n",
              "        1723,     2,  9015,    14,     6,     1,   928,     4,    65,\n",
              "        1308,   686,   143,    33,  2495,   300,    65, 31141,   776,\n",
              "           8,     1,   538,    44,    32,  5799, 11016,    20,     1,\n",
              "        3611,   486,     4,  1592,  7017,  2075,     2,     3, 17516,\n",
              "           4,    12,    60,    45,    75, 48042,     8,     1,  8089,\n",
              "           4,  3082,   315,     8,     1,  4881,     1,   238,   275,\n",
              "           4,     1,   168,  4848,     2,    46,     6,  2112,     8,\n",
              "       10524,  1526,     5,     1,   336,   560,    28,  7479,     1,\n",
              "        6594,     4,     1,  2297,   950,   136, 16060,  5835,    19,\n",
              "       13498,    60,  2141,   197,     1,    19,    32, 12867,   481,\n",
              "        3268, 71843,  2931,     3,  1949,     2,  3873,  2574, 10039,\n",
              "           8,    16,     1, 11965,   136, 11017, 15115,     6,     3,\n",
              "         226,    51,  5277,    24,  1297,   672, 20562,    28,  2375,\n",
              "           3, 33191,   729,    24,   312,   758, 10891,     6,    69,\n",
              "         174,    14,  2269, 18881,     3, 15412, 56310,     2,     3,\n",
              "         282,     4,  6056, 10525,     5,    24,   108,    12,     6,\n",
              "          52,  1166,     9,     6,     4,   265,     3,   959,  1112,\n",
              "           4,     1, 21217,     2,   887,     1,   116,   234,  2025,\n",
              "        2944, 27894,     8,     1,   811,    64,   123,   566,   788,\n",
              "          28,  3176,  5911,     3,   558,     4,  2517,  2443,     2,\n",
              "       22709,     4, 19396,    12,     6,     1,  3256,    30,     1,\n",
              "          52,  1810,     4,     1,   108,     2,  1733,     6,  1647,\n",
              "        1815,     8,    24,   214,     4,     1,  2333,     4,  2367,\n",
              "          28,    45,     3,  4849,  1417,     4,  2206,     2,     3,\n",
              "       19959,   481,     5,    24,   549,    12,    94,    87,   419,\n",
              "        6230,     5,   103,    24,   519,    23,  8529, 15413,     3,\n",
              "        9206,    28,  1092,  2574,    16, 31142, 11966,     2,  4086,\n",
              "        9106,   237,     1,   219,    35,    98,  2131,    22,   231,\n",
              "           8,  4423,    15,   125,  1305,   159,    22,   123,   677,\n",
              "          48,   577,    22,    44,     3,   898,   241,    12, 11158,\n",
              "          34,    69,    16, 42636,  1112,     4,  2269,     1,   745,\n",
              "         174,  1763,  1520, 71844, 24416, 56311, 71845,  6274,  3083,\n",
              "       48043,  3083,  1059,  1557, 42637,  2791,   609, 31143,   289,\n",
              "        8306, 71846, 71847, 29379,  2851,     2,  2347, 29380,  1587,\n",
              "        7155,     8,    24,   199, 15414,   396,    16,     1,   275,\n",
              "           4,   114,   788,  6951,    45,  2817,     3,  2123,     4,\n",
              "           1,   238,   483,    12,     6,   218,   427,     2,   371,\n",
              "         959,    28,    45,     3,    95,     4,  4494,   114,    14,\n",
              "           9,     6,    39,   122,  2151,     3,  4233,    60,   499,\n",
              "         261,    69,    16,     3,    19,    37,    11, 12868,   334,\n",
              "          15,     3,   785,    19,   636,    55,     4, 21957,   228,\n",
              "           9,  2229,     6,    27,     4, 10524,   116,     2,    51,\n",
              "          71,   278,     1,  1847,     4,  7156,    44,     3,    19,\n",
              "          12,    80,   776,    16,    22,     2,   387,    94,    22,\n",
              "         101,    42,    47,   177,    22,   200,    25, 20563,   243,\n",
              "           8,     3,  3303,     4,   125,   323,    15,   305,     2,\n",
              "          12,     6,   173,     4,     1,  3233,     4,    11,    19,\n",
              "           9,   162,    22,   960,    12, 26560,    88,  1279,     6,\n",
              "         146,    10,   966,    11,    27,   784,   157], dtype=int32)"
            ]
          },
          "execution_count": 156,
          "metadata": {},
          "output_type": "execute_result"
        }
      ],
      "source": [
        "np.array(x_train_pad[1])"
      ]
    },
    {
      "cell_type": "markdown",
      "metadata": {
        "id": "nEB4jiFTcH4t"
      },
      "source": [
        "## Tokenizer Inverse Map\n",
        "\n",
        "For some strange reason, the Keras implementation of a tokenizer does not seem to have the inverse mapping from integer-tokens back to words, which is needed to reconstruct text-strings from lists of tokens. So we make that mapping here."
      ]
    },
    {
      "cell_type": "code",
      "execution_count": 120,
      "metadata": {
        "id": "bY8Q2tCZcH4t"
      },
      "outputs": [],
      "source": [
        "idx = tokenizer.word_index\n",
        "inverse_map = dict(zip(idx.values(), idx.keys()))"
      ]
    },
    {
      "cell_type": "markdown",
      "metadata": {
        "id": "jT8a4yJvcH4t"
      },
      "source": [
        "Helper-function for converting a list of tokens back to a string of words."
      ]
    },
    {
      "cell_type": "code",
      "execution_count": 121,
      "metadata": {
        "id": "KcE8LTkGcH4t"
      },
      "outputs": [],
      "source": [
        "def tokens_to_string(tokens):\n",
        "    # Map from tokens back to words.\n",
        "    words = [inverse_map[token] for token in tokens if token != 0]\n",
        "    \n",
        "    # Concatenate all words.\n",
        "    text = \" \".join(words)\n",
        "\n",
        "    return text"
      ]
    },
    {
      "cell_type": "markdown",
      "metadata": {
        "id": "6tgEHgqgcH4t"
      },
      "source": [
        "For example, this is the original text from the data-set:"
      ]
    },
    {
      "cell_type": "code",
      "execution_count": 125,
      "metadata": {
        "id": "S6Pil2kkcH4t",
        "outputId": "e4cef82a-629b-43e0-f047-5bd2579ee3f0",
        "scrolled": true
      },
      "outputs": [
        {
          "data": {
            "text/plain": [
              "\"This is real character and story driven drama at a level that shames most of what we see on TV at the mo.<br /><br />I was impressed right from the start. Don't be put off if your not a sci fi nut (like me...) This could be happening on earth, the fact that its in another galaxy just makes the show more interesting. there are no space ships or laser guns (None yet anyway) So far I've seen up to s01 e04 and I'm gripped and wondering whats going to happen next as there are so many possibilities.<br /><br />The cast play there roles with pasion. Eric stoltz is especially strong.<br /><br />This show really stands alone well, it doesn't matter if you watched BSG or not, in fact they are quite different. I've read some negative reviews from sci fi geeks who expected less drama and more aliens and ray guns etc but I would say ignore them.<br /><br />This is a really positive start to a show. Lets hope they don't cann it after 1 or 2 seasons like they normally do with good shows these days.\""
            ]
          },
          "execution_count": 125,
          "metadata": {},
          "output_type": "execute_result"
        }
      ],
      "source": [
        "np.array(x_train_text)[0]"
      ]
    },
    {
      "cell_type": "markdown",
      "metadata": {
        "id": "tiB5Vm1gcH4t"
      },
      "source": [
        "We can recreate this text except for punctuation and other symbols, by converting the list of tokens back to words:"
      ]
    },
    {
      "cell_type": "code",
      "execution_count": 169,
      "metadata": {
        "id": "P-i-jt1pcH4t",
        "outputId": "d6dc9915-8324-4fdf-890c-9b1a800b9cde"
      },
      "outputs": [
        {
          "data": {
            "text/plain": [
              "\"this is real character and story driven drama at a level that shames most of what we see on tv at the mo br br i was impressed right from the start don't be put off if your not a sci fi nut like me this could be happening on earth the fact that its in another galaxy just makes the show more interesting there are no space ships or laser guns none yet anyway so far i've seen up to s01 e04 and i'm gripped and wondering whats going to happen next as there are so many possibilities br br the cast play there roles with pasion eric stoltz is especially strong br br this show really stands alone well it doesn't matter if you watched bsg or not in fact they are quite different i've read some negative reviews from sci fi geeks who expected less drama and more aliens and ray guns etc but i would say ignore them br br this is a really positive start to a show lets hope they don't cann it after 1 or 2 seasons like they normally do with good shows these days\""
            ]
          },
          "execution_count": 169,
          "metadata": {},
          "output_type": "execute_result"
        }
      ],
      "source": [
        "tokens_to_string(x_train_tokens[0])"
      ]
    },
    {
      "cell_type": "markdown",
      "metadata": {
        "id": "POBAgxVlcH4t"
      },
      "source": [
        "## Create the Recurrent Neural Network\n",
        "\n",
        "We are now ready to create the Recurrent Neural Network (RNN). We will use the Keras API for this because of its simplicity. See Tutorial #03-C for a tutorial on Keras."
      ]
    },
    {
      "cell_type": "code",
      "execution_count": 126,
      "metadata": {
        "id": "gHWwhPUncH4t"
      },
      "outputs": [],
      "source": [
        "model = Sequential()"
      ]
    },
    {
      "cell_type": "markdown",
      "metadata": {
        "id": "mDHKm3vvcH4t"
      },
      "source": [
        "The first layer in the RNN is a so-called Embedding-layer which converts each integer-token into a vector of values. This is necessary because the integer-tokens may take on values between 0 and 10000 for a vocabulary of 10000 words. The RNN cannot work on values in such a wide range. The embedding-layer is trained as a part of the RNN and will learn to map words with similar semantic meanings to similar embedding-vectors, as will be shown further below.\n",
        "\n",
        "First we define the size of the embedding-vector for each integer-token. In this case we have set it to 8, so that each integer-token will be converted to a vector of length 8. The values of the embedding-vector will generally fall roughly between -1.0 and 1.0, although they may exceed these values somewhat.\n",
        "\n",
        "The size of the embedding-vector is typically selected between 100-300, but it seems to work reasonably well with small values for Sentiment Analysis."
      ]
    },
    {
      "cell_type": "code",
      "execution_count": 127,
      "metadata": {
        "id": "C0gFc6cGcH4t"
      },
      "outputs": [],
      "source": [
        "embedding_size = 8"
      ]
    },
    {
      "cell_type": "markdown",
      "metadata": {
        "id": "lQxl9I1DcH4t"
      },
      "source": [
        "The embedding-layer also needs to know the number of words in the vocabulary (`num_words`) and the length of the padded token-sequences (`max_tokens`). We also give this layer a name because we need to retrieve its weights further below."
      ]
    },
    {
      "cell_type": "code",
      "execution_count": 129,
      "metadata": {
        "id": "C0sft18PcH4t"
      },
      "outputs": [],
      "source": [
        "model.add(Embedding(input_dim=len(tokenizer.word_index),#num_words,\n",
        "                    output_dim=embedding_size,\n",
        "                    input_length=max_tokens,\n",
        "                    name='layer_embedding'))"
      ]
    },
    {
      "cell_type": "markdown",
      "metadata": {
        "id": "MFyErAK7cH4t"
      },
      "source": [
        "We can now add the first Gated Recurrent Unit (GRU) to the network. This will have 16 outputs. Because we will add a second GRU after this one, we need to return sequences of data because the next GRU expects sequences as its input."
      ]
    },
    {
      "cell_type": "code",
      "execution_count": 130,
      "metadata": {
        "id": "Q2pzzsT6cH4t"
      },
      "outputs": [],
      "source": [
        "model.add(GRU(units=16, return_sequences=True))"
      ]
    },
    {
      "cell_type": "markdown",
      "metadata": {
        "id": "Zl9BEtdHcH4t"
      },
      "source": [
        "This adds the second GRU with 8 output units. This will be followed by another GRU so it must also return sequences."
      ]
    },
    {
      "cell_type": "code",
      "execution_count": 131,
      "metadata": {
        "id": "cimfySkccH4t"
      },
      "outputs": [],
      "source": [
        "model.add(GRU(units=8, return_sequences=True))"
      ]
    },
    {
      "cell_type": "markdown",
      "metadata": {
        "id": "g82nxCxjcH4t"
      },
      "source": [
        "This adds the third and final GRU with 4 output units. This will be followed by a dense-layer, so it should only give the final output of the GRU and not a whole sequence of outputs."
      ]
    },
    {
      "cell_type": "code",
      "execution_count": 132,
      "metadata": {
        "id": "GbZRXHmZcH4u"
      },
      "outputs": [],
      "source": [
        "model.add(GRU(units=4))"
      ]
    },
    {
      "cell_type": "markdown",
      "metadata": {
        "id": "lOPYE6JrcH4u"
      },
      "source": [
        "Add a fully-connected / dense layer which computes a value between 0.0 and 1.0 that will be used as the classification output."
      ]
    },
    {
      "cell_type": "code",
      "execution_count": 133,
      "metadata": {
        "id": "XR4qeXvKcH4u"
      },
      "outputs": [],
      "source": [
        "model.add(Dense(1, activation='sigmoid'))"
      ]
    },
    {
      "cell_type": "markdown",
      "metadata": {
        "id": "wQrL-_NlcH4u"
      },
      "source": [
        "Use the Adam optimizer with the given learning-rate."
      ]
    },
    {
      "cell_type": "code",
      "execution_count": 135,
      "metadata": {
        "id": "bhDj4NfgcH4u"
      },
      "outputs": [],
      "source": [
        "optimizer = Adam(learning_rate=1e-3)"
      ]
    },
    {
      "cell_type": "markdown",
      "metadata": {
        "id": "hTV9oGq0cH4u"
      },
      "source": [
        "Compile the Keras model so it is ready for training."
      ]
    },
    {
      "cell_type": "code",
      "execution_count": 172,
      "metadata": {
        "id": "3msZZMo1cH4u"
      },
      "outputs": [],
      "source": [
        "model.compile(loss='binary_crossentropy',\n",
        "              optimizer=optimizer,\n",
        "              metrics=['accuracy'])"
      ]
    },
    {
      "cell_type": "code",
      "execution_count": 184,
      "metadata": {},
      "outputs": [
        {
          "data": {
            "text/plain": [
              "42.0"
            ]
          },
          "execution_count": 184,
          "metadata": {},
          "output_type": "execute_result"
        }
      ],
      "source": [
        "168/4"
      ]
    },
    {
      "cell_type": "code",
      "execution_count": 173,
      "metadata": {
        "id": "EhWPIw6hcH4u",
        "outputId": "b16cd43a-c41b-4882-cf4b-f861b6b12d72"
      },
      "outputs": [
        {
          "name": "stdout",
          "output_type": "stream",
          "text": [
            "Model: \"sequential\"\n",
            "_________________________________________________________________\n",
            " Layer (type)                Output Shape              Param #   \n",
            "=================================================================\n",
            " layer_embedding (Embedding  (None, 583, 8)            994016    \n",
            " )                                                               \n",
            "                                                                 \n",
            " gru (GRU)                   (None, 583, 16)           1248      \n",
            "                                                                 \n",
            " gru_1 (GRU)                 (None, 583, 8)            624       \n",
            "                                                                 \n",
            " gru_2 (GRU)                 (None, 4)                 168       \n",
            "                                                                 \n",
            " dense (Dense)               (None, 1)                 5         \n",
            "                                                                 \n",
            "=================================================================\n",
            "Total params: 996061 (3.80 MB)\n",
            "Trainable params: 996061 (3.80 MB)\n",
            "Non-trainable params: 0 (0.00 Byte)\n",
            "_________________________________________________________________\n"
          ]
        }
      ],
      "source": [
        "model.summary()"
      ]
    },
    {
      "cell_type": "markdown",
      "metadata": {
        "id": "0XZZUEmjcH4u"
      },
      "source": [
        "## Train the Recurrent Neural Network\n",
        "\n",
        "We can now train the model. Note that we are using the data-set with the padded sequences. We use 5% of the training-set as a small validation-set, so we have a rough idea whether the model is generalizing well or if it is perhaps over-fitting to the training-set."
      ]
    },
    {
      "cell_type": "code",
      "execution_count": 138,
      "metadata": {
        "id": "GmoyE7h_cH4u",
        "outputId": "66bf46ce-00f6-4d0e-8d56-07c4e08ccc90",
        "scrolled": true
      },
      "outputs": [
        {
          "name": "stdout",
          "output_type": "stream",
          "text": [
            "Epoch 1/3\n",
            "668/668 [==============================] - 292s 431ms/step - loss: 0.4029 - accuracy: 0.8059 - val_loss: 0.2685 - val_accuracy: 0.8960\n",
            "Epoch 2/3\n",
            "668/668 [==============================] - 281s 420ms/step - loss: 0.1910 - accuracy: 0.9306 - val_loss: 0.2504 - val_accuracy: 0.8991\n",
            "Epoch 3/3\n",
            "668/668 [==============================] - 270s 404ms/step - loss: 0.1140 - accuracy: 0.9627 - val_loss: 0.3079 - val_accuracy: 0.8902\n",
            "CPU times: user 34min 16s, sys: 1min 20s, total: 35min 37s\n",
            "Wall time: 14min 2s\n"
          ]
        },
        {
          "data": {
            "text/plain": [
              "<keras.src.callbacks.History at 0x7f77647df580>"
            ]
          },
          "execution_count": 138,
          "metadata": {},
          "output_type": "execute_result"
        }
      ],
      "source": [
        "%%time\n",
        "model.fit(x_train_pad, y_train,\n",
        "          validation_split=0.05, epochs=3, batch_size=64)"
      ]
    },
    {
      "cell_type": "markdown",
      "metadata": {
        "id": "enepwtiNcH4u"
      },
      "source": [
        "## Performance on Test-Set\n",
        "\n",
        "Now that the model has been trained we can calculate its classification accuracy on the test-set."
      ]
    },
    {
      "cell_type": "code",
      "execution_count": null,
      "metadata": {
        "id": "Fnhc3hCqcH4u",
        "outputId": "a826d803-db25-4bdc-f7b0-7c9537c02dee"
      },
      "outputs": [
        {
          "name": "stdout",
          "output_type": "stream",
          "text": [
            "25000/25000 [==============================] - 12s 493us/sample - loss: 0.3331 - accuracy: 0.8674\n",
            "CPU times: user 14 s, sys: 404 ms, total: 14.4 s\n",
            "Wall time: 12.4 s\n"
          ]
        }
      ],
      "source": [
        "%%time\n",
        "result = model.evaluate(x_test_pad, y_test)"
      ]
    },
    {
      "cell_type": "code",
      "execution_count": null,
      "metadata": {
        "id": "SB94VUnQcH4u",
        "outputId": "170271db-dccb-4205-905c-24a3817ee0e1",
        "scrolled": true
      },
      "outputs": [
        {
          "name": "stdout",
          "output_type": "stream",
          "text": [
            "Accuracy: 86.74%\n"
          ]
        }
      ],
      "source": [
        "print(\"Accuracy: {0:.2%}\".format(result[1]))"
      ]
    },
    {
      "cell_type": "markdown",
      "metadata": {
        "id": "LAIXQd3jcH4u"
      },
      "source": [
        "## Example of Mis-Classified Text\n",
        "\n",
        "In order to show an example of mis-classified text, we first calculate the predicted sentiment for the first 1000 texts in the test-set."
      ]
    },
    {
      "cell_type": "code",
      "execution_count": null,
      "metadata": {
        "id": "8sl2dnNQcH4u",
        "outputId": "a23b0bb1-dc6f-4a1b-afe9-2f0480140c04"
      },
      "outputs": [
        {
          "name": "stdout",
          "output_type": "stream",
          "text": [
            "CPU times: user 1.08 s, sys: 23.5 ms, total: 1.1 s\n",
            "Wall time: 1.03 s\n"
          ]
        }
      ],
      "source": [
        "%%time\n",
        "y_pred = model.predict(x=x_test_pad[0:1000])\n",
        "y_pred = y_pred.T[0]"
      ]
    },
    {
      "cell_type": "markdown",
      "metadata": {
        "id": "QECZeEXVcH4u"
      },
      "source": [
        "These predicted numbers fall between 0.0 and 1.0. We use a cutoff / threshold and say that all values above 0.5 are taken to be 1.0 and all values below 0.5 are taken to be 0.0. This gives us a predicted \"class\" of either 0.0 or 1.0."
      ]
    },
    {
      "cell_type": "code",
      "execution_count": null,
      "metadata": {
        "id": "m6WoTLjIcH4u"
      },
      "outputs": [],
      "source": [
        "cls_pred = np.array([1.0 if p>0.5 else 0.0 for p in y_pred])"
      ]
    },
    {
      "cell_type": "markdown",
      "metadata": {
        "id": "-SRqZjz7cH4u"
      },
      "source": [
        "The true \"class\" for the first 1000 texts in the test-set are needed for comparison."
      ]
    },
    {
      "cell_type": "code",
      "execution_count": null,
      "metadata": {
        "id": "p9olNF5icH4u"
      },
      "outputs": [],
      "source": [
        "cls_true = np.array(y_test[0:1000])"
      ]
    },
    {
      "cell_type": "markdown",
      "metadata": {
        "id": "B8-7K20TcH4u"
      },
      "source": [
        "We can then get indices for all the texts that were incorrectly classified by comparing all the \"classes\" of these two arrays."
      ]
    },
    {
      "cell_type": "code",
      "execution_count": null,
      "metadata": {
        "id": "XALdppQQcH4u"
      },
      "outputs": [],
      "source": [
        "incorrect = np.where(cls_pred != cls_true)\n",
        "incorrect = incorrect[0]"
      ]
    },
    {
      "cell_type": "markdown",
      "metadata": {
        "id": "xvhfF0AUcH4u"
      },
      "source": [
        "Of the 1000 texts used, how many were mis-classified?"
      ]
    },
    {
      "cell_type": "code",
      "execution_count": null,
      "metadata": {
        "id": "lVKMU5iIcH4u",
        "outputId": "a7f4546c-76d5-4cc9-a3a5-27e6968e69d0"
      },
      "outputs": [
        {
          "data": {
            "text/plain": [
              "132"
            ]
          },
          "execution_count": 55,
          "metadata": {},
          "output_type": "execute_result"
        }
      ],
      "source": [
        "len(incorrect)"
      ]
    },
    {
      "cell_type": "markdown",
      "metadata": {
        "id": "6YgDfx__cH4u"
      },
      "source": [
        "Let us look at the first mis-classified text. We will use its index several times."
      ]
    },
    {
      "cell_type": "code",
      "execution_count": null,
      "metadata": {
        "id": "Y2S9WEgEcH4v",
        "outputId": "af6001a2-eaac-48e5-931b-4bf96da1322c"
      },
      "outputs": [
        {
          "data": {
            "text/plain": [
              "18"
            ]
          },
          "execution_count": 56,
          "metadata": {},
          "output_type": "execute_result"
        }
      ],
      "source": [
        "idx = incorrect[0]\n",
        "idx"
      ]
    },
    {
      "cell_type": "markdown",
      "metadata": {
        "id": "y8fzrjL6cH4v"
      },
      "source": [
        "The mis-classified text is:"
      ]
    },
    {
      "cell_type": "code",
      "execution_count": null,
      "metadata": {
        "id": "JGjEk1wdcH4v",
        "outputId": "9b765e57-c6a7-4c14-c5aa-020bacfc5885"
      },
      "outputs": [
        {
          "data": {
            "text/plain": [
              "\"This HAS to be my guilty pleasure. I am a HUGE fan of 80's movies that were designed to entertain and they didn't care if they offended anyone. This move has no meat, not substance, no deep thought provoking scenes. Just plain old college kids having fun and if a few breasts have to be shown, then so be it! This movie is for when you just want to relax and NOT think. Viva la nudity!\""
            ]
          },
          "execution_count": 57,
          "metadata": {},
          "output_type": "execute_result"
        }
      ],
      "source": [
        "text = x_test_text[idx]\n",
        "text"
      ]
    },
    {
      "cell_type": "markdown",
      "metadata": {
        "id": "dt1SFA9ecH4v"
      },
      "source": [
        "These are the predicted and true classes for the text:"
      ]
    },
    {
      "cell_type": "code",
      "execution_count": null,
      "metadata": {
        "id": "VSxIb2rocH4v",
        "outputId": "970c89bf-e281-49a4-d33b-1784b02df0a6"
      },
      "outputs": [
        {
          "data": {
            "text/plain": [
              "0.27373913"
            ]
          },
          "execution_count": 58,
          "metadata": {},
          "output_type": "execute_result"
        }
      ],
      "source": [
        "y_pred[idx]"
      ]
    },
    {
      "cell_type": "code",
      "execution_count": null,
      "metadata": {
        "id": "JEC-HUmWcH4v",
        "outputId": "65a2e5b2-cc3a-470b-abfa-2f1c1b48095d"
      },
      "outputs": [
        {
          "data": {
            "text/plain": [
              "1.0"
            ]
          },
          "execution_count": 59,
          "metadata": {},
          "output_type": "execute_result"
        }
      ],
      "source": [
        "cls_true[idx]"
      ]
    },
    {
      "cell_type": "markdown",
      "metadata": {
        "id": "CjD13IvMcH4v"
      },
      "source": [
        "## New Data\n",
        "\n",
        "Let us try and classify new texts that we make up. Some of these are obvious, while others use negation and sarcasm to try and confuse the model into mis-classifying the text."
      ]
    },
    {
      "cell_type": "code",
      "execution_count": null,
      "metadata": {
        "id": "dgtolqUkcH4v"
      },
      "outputs": [],
      "source": [
        "text1 = \"This movie is fantastic! I really like it because it is so good!\" #1\n",
        "text2 = \"Good movie!\" #1\n",
        "text3 = \"Maybe I like this movie.\" #1\n",
        "text4 = \"Meh ...\"#0\n",
        "text5 = \"If I were a drunk teenager then this movie might be good.\"#0\n",
        "text6 = \"Bad movie!\"#0\n",
        "text7 = \"Not a good movie!\"#0\n",
        "text8 = \"This movie really sucks! Can I get my money back please?\"#0\n",
        "texts = [text1, text2, text3, text4, text5, text6, text7, text8]"
      ]
    },
    {
      "cell_type": "markdown",
      "metadata": {
        "id": "gYOL7bWHcH4v"
      },
      "source": [
        "We first convert these texts to arrays of integer-tokens because that is needed by the model."
      ]
    },
    {
      "cell_type": "code",
      "execution_count": null,
      "metadata": {
        "id": "wzsAN75ycH4v"
      },
      "outputs": [],
      "source": [
        "tokens = tokenizer.texts_to_sequences(texts)"
      ]
    },
    {
      "cell_type": "markdown",
      "metadata": {
        "id": "ReNUtFwrcH4v"
      },
      "source": [
        "To input texts with different lengths into the model, we also need to pad and truncate them."
      ]
    },
    {
      "cell_type": "code",
      "execution_count": null,
      "metadata": {
        "id": "h1WyfwzicH4v",
        "outputId": "74411182-9c25-4e94-abd3-5439b0462aa3"
      },
      "outputs": [
        {
          "data": {
            "text/plain": [
              "(8, 544)"
            ]
          },
          "execution_count": 62,
          "metadata": {},
          "output_type": "execute_result"
        }
      ],
      "source": [
        "tokens_pad = pad_sequences(tokens, maxlen=max_tokens,\n",
        "                           padding=pad, truncating=pad)\n",
        "tokens_pad.shape"
      ]
    },
    {
      "cell_type": "markdown",
      "metadata": {
        "id": "Yi9et_S5cH4v"
      },
      "source": [
        "We can now use the trained model to predict the sentiment for these texts."
      ]
    },
    {
      "cell_type": "code",
      "execution_count": null,
      "metadata": {
        "id": "qOW31rHOcH4v",
        "outputId": "615ee447-a171-41e2-b2cf-3db2d87f0341"
      },
      "outputs": [
        {
          "data": {
            "text/plain": [
              "array([[0.95301837],\n",
              "       [0.92733926],\n",
              "       [0.79257476],\n",
              "       [0.9019553 ],\n",
              "       [0.5875022 ],\n",
              "       [0.55110747],\n",
              "       [0.89896274],\n",
              "       [0.33616564]], dtype=float32)"
            ]
          },
          "execution_count": 63,
          "metadata": {},
          "output_type": "execute_result"
        }
      ],
      "source": [
        "model.predict(tokens_pad)"
      ]
    },
    {
      "cell_type": "markdown",
      "metadata": {
        "id": "cZjtPaIqcH4v"
      },
      "source": [
        "A value close to 0.0 means a negative sentiment and a value close to 1.0 means a positive sentiment. These numbers will vary every time you train the model."
      ]
    },
    {
      "cell_type": "markdown",
      "metadata": {
        "id": "vlkTbMyycH4v"
      },
      "source": [
        "## Embeddings\n",
        "\n",
        "The model cannot work on integer-tokens directly, because they are integer values that may range between 0 and the number of words in our vocabulary, e.g. 10000. So we need to convert the integer-tokens into vectors of values that are roughly between -1.0 and 1.0 which can be used as input to a neural network.\n",
        "\n",
        "This mapping from integer-tokens to real-valued vectors is also called an \"embedding\". It is essentially just a matrix where each row contains the vector-mapping of a single token. This means we can quickly lookup the mapping of each integer-token by simply using the token as an index into the matrix. The embeddings are learned along with the rest of the model during training.\n",
        "\n",
        "Ideally the embedding would learn a mapping where words that are similar in meaning also have similar embedding-values. Let us investigate if that has happened here.\n",
        "\n",
        "First we need to get the embedding-layer from the model:"
      ]
    },
    {
      "cell_type": "code",
      "execution_count": null,
      "metadata": {
        "id": "fn1P9XCYcH4v"
      },
      "outputs": [],
      "source": [
        "layer_embedding = model.get_layer('layer_embedding')"
      ]
    },
    {
      "cell_type": "markdown",
      "metadata": {
        "id": "GQo4ANcccH4v"
      },
      "source": [
        "We can then get the weights used for the mapping done by the embedding-layer."
      ]
    },
    {
      "cell_type": "code",
      "execution_count": null,
      "metadata": {
        "id": "eZaOoQYicH4v"
      },
      "outputs": [],
      "source": [
        "weights_embedding = layer_embedding.get_weights()[0]"
      ]
    },
    {
      "cell_type": "markdown",
      "metadata": {
        "id": "WRsWU-P8cH4v"
      },
      "source": [
        "Note that the weights are actually just a matrix with the number of words in the vocabulary times the vector length for each embedding. That's because it is basically just a lookup-matrix."
      ]
    },
    {
      "cell_type": "code",
      "execution_count": null,
      "metadata": {
        "id": "HcBp2MeccH4v",
        "outputId": "e9e9c7b1-ab98-4fc9-b988-8f22d2e4b74b"
      },
      "outputs": [
        {
          "data": {
            "text/plain": [
              "(10000, 8)"
            ]
          },
          "execution_count": 66,
          "metadata": {},
          "output_type": "execute_result"
        }
      ],
      "source": [
        "weights_embedding.shape"
      ]
    },
    {
      "cell_type": "markdown",
      "metadata": {
        "id": "PtRf1XTtcH4v"
      },
      "source": [
        "Let us get the integer-token for the word 'good', which is just an index into the vocabulary."
      ]
    },
    {
      "cell_type": "code",
      "execution_count": null,
      "metadata": {
        "id": "DqmVLvVicH4v",
        "outputId": "07d9fff8-91e7-4310-c77f-e2b934594294"
      },
      "outputs": [
        {
          "data": {
            "text/plain": [
              "49"
            ]
          },
          "execution_count": 67,
          "metadata": {},
          "output_type": "execute_result"
        }
      ],
      "source": [
        "token_good = tokenizer.word_index['good']\n",
        "token_good"
      ]
    },
    {
      "cell_type": "markdown",
      "metadata": {
        "id": "yCAjvYtAcH4w"
      },
      "source": [
        "Let us also get the integer-token for the word 'great'."
      ]
    },
    {
      "cell_type": "code",
      "execution_count": null,
      "metadata": {
        "id": "9dEbYkQYcH4w",
        "outputId": "71d49277-ff7c-4679-99d3-59e0f580b0ea"
      },
      "outputs": [
        {
          "data": {
            "text/plain": [
              "78"
            ]
          },
          "execution_count": 68,
          "metadata": {},
          "output_type": "execute_result"
        }
      ],
      "source": [
        "token_great = tokenizer.word_index['great']\n",
        "token_great"
      ]
    },
    {
      "cell_type": "markdown",
      "metadata": {
        "id": "Uj7tx0WMcH4w"
      },
      "source": [
        "These integertokens may be far apart and will depend on the frequency of those words in the data-set.\n",
        "\n",
        "Now let us compare the vector-embeddings for the words 'good' and 'great'. Several of these values are similar, although some values are quite different. Note that these values will change every time you train the model."
      ]
    },
    {
      "cell_type": "code",
      "execution_count": null,
      "metadata": {
        "id": "yxsyLj81cH4w",
        "outputId": "a617e9fa-437d-4090-92c0-eaaf901ab5bb"
      },
      "outputs": [
        {
          "data": {
            "text/plain": [
              "array([ 0.01839033,  0.05229224,  0.0848575 ,  0.03222338, -0.03947427,\n",
              "       -0.03776564, -0.01149088, -0.07443853], dtype=float32)"
            ]
          },
          "execution_count": 69,
          "metadata": {},
          "output_type": "execute_result"
        }
      ],
      "source": [
        "weights_embedding[token_good]"
      ]
    },
    {
      "cell_type": "code",
      "execution_count": null,
      "metadata": {
        "id": "idQsx3SYcH4w",
        "outputId": "48c34a01-e99d-48f5-fb67-13cfc262375a"
      },
      "outputs": [
        {
          "data": {
            "text/plain": [
              "array([-0.14307617,  0.08333486,  0.15650608,  0.08930028, -0.08659173,\n",
              "       -0.12289459, -0.14367667, -0.10402057], dtype=float32)"
            ]
          },
          "execution_count": 70,
          "metadata": {},
          "output_type": "execute_result"
        }
      ],
      "source": [
        "weights_embedding[token_great]"
      ]
    },
    {
      "cell_type": "markdown",
      "metadata": {
        "id": "q5ELkm6IcH4w"
      },
      "source": [
        "Similarly, we can compare the embeddings for the words 'bad' and 'horrible'."
      ]
    },
    {
      "cell_type": "code",
      "execution_count": null,
      "metadata": {
        "id": "DGuFGO4ecH4w"
      },
      "outputs": [],
      "source": [
        "token_bad = tokenizer.word_index['bad']\n",
        "token_horrible = tokenizer.word_index['horrible']"
      ]
    },
    {
      "cell_type": "code",
      "execution_count": null,
      "metadata": {
        "id": "pcPE0ifzcH4w",
        "outputId": "dc9531a4-fabc-4870-ba19-2c90276cc614"
      },
      "outputs": [
        {
          "data": {
            "text/plain": [
              "array([ 0.05553182, -0.09014519, -0.06248455, -0.11525143,  0.14601274,\n",
              "        0.07451952,  0.10784499,  0.10799433], dtype=float32)"
            ]
          },
          "execution_count": 72,
          "metadata": {},
          "output_type": "execute_result"
        }
      ],
      "source": [
        "weights_embedding[token_bad]"
      ]
    },
    {
      "cell_type": "code",
      "execution_count": null,
      "metadata": {
        "id": "8nk3WntMcH4w",
        "outputId": "b2a42926-fc25-44ab-dc72-e740f58b32aa"
      },
      "outputs": [
        {
          "data": {
            "text/plain": [
              "array([ 0.15100664, -0.13359004, -0.15154287, -0.12776676,  0.10830297,\n",
              "        0.15224072,  0.13508266,  0.14284784], dtype=float32)"
            ]
          },
          "execution_count": 73,
          "metadata": {},
          "output_type": "execute_result"
        }
      ],
      "source": [
        "weights_embedding[token_horrible]"
      ]
    },
    {
      "cell_type": "markdown",
      "metadata": {
        "id": "BJUV7NU3cH4w"
      },
      "source": [
        "### Sorted Words\n",
        "\n",
        "We can also sort all the words in the vocabulary according to their \"similarity\" in the embedding-space. We want to see if words that have similar embedding-vectors also have similar meanings.\n",
        "\n",
        "Similarity of embedding-vectors can be measured by different metrics, e.g. Euclidean distance or cosine distance.\n",
        "\n",
        "We have a helper-function for calculating these distances and printing the words in sorted order."
      ]
    },
    {
      "cell_type": "code",
      "execution_count": null,
      "metadata": {
        "id": "yP7lnoCxcH4w"
      },
      "outputs": [],
      "source": [
        "def print_sorted_words(word, metric='cosine'):\n",
        "    \"\"\"\n",
        "    Print the words in the vocabulary sorted according to their\n",
        "    embedding-distance to the given word.\n",
        "    Different metrics can be used, e.g. 'cosine' or 'euclidean'.\n",
        "    \"\"\"\n",
        "\n",
        "    # Get the token (i.e. integer ID) for the given word.\n",
        "    token = tokenizer.word_index[word]\n",
        "\n",
        "    # Get the embedding for the given word. Note that the\n",
        "    # embedding-weight-matrix is indexed by the word-tokens\n",
        "    # which are integer IDs.\n",
        "    embedding = weights_embedding[token]\n",
        "\n",
        "    # Calculate the distance between the embeddings for\n",
        "    # this word and all other words in the vocabulary.\n",
        "    distances = cdist(weights_embedding, [embedding],\n",
        "                      metric=metric).T[0]\n",
        "    \n",
        "    # Get an index sorted according to the embedding-distances.\n",
        "    # These are the tokens (integer IDs) for words in the vocabulary.\n",
        "    sorted_index = np.argsort(distances)\n",
        "    \n",
        "    # Sort the embedding-distances.\n",
        "    sorted_distances = distances[sorted_index]\n",
        "    \n",
        "    # Sort all the words in the vocabulary according to their\n",
        "    # embedding-distance. This is a bit excessive because we\n",
        "    # will only print the top and bottom words.\n",
        "    sorted_words = [inverse_map[token] for token in sorted_index\n",
        "                    if token != 0]\n",
        "\n",
        "    # Helper-function for printing words and embedding-distances.\n",
        "    def _print_words(words, distances):\n",
        "        for word, distance in zip(words, distances):\n",
        "            print(\"{0:.3f} - {1}\".format(distance, word))\n",
        "\n",
        "    # Number of words to print from the top and bottom of the list.\n",
        "    k = 10\n",
        "\n",
        "    print(\"Distance from '{0}':\".format(word))\n",
        "\n",
        "    # Print the words with smallest embedding-distance.\n",
        "    _print_words(sorted_words[0:k], sorted_distances[0:k])\n",
        "\n",
        "    print(\"...\")\n",
        "\n",
        "    # Print the words with highest embedding-distance.\n",
        "    _print_words(sorted_words[-k:], sorted_distances[-k:])"
      ]
    },
    {
      "cell_type": "markdown",
      "metadata": {
        "id": "hDRP3oI5cH4w"
      },
      "source": [
        "We can then print the words that are near and far from the word 'great' in terms of their vector-embeddings. Note that these may change each time you train the model."
      ]
    },
    {
      "cell_type": "code",
      "execution_count": null,
      "metadata": {
        "id": "erRJULUkcH4w",
        "outputId": "ba77ad40-830a-42ca-c20a-78442f1428a3",
        "scrolled": true
      },
      "outputs": [
        {
          "name": "stdout",
          "output_type": "stream",
          "text": [
            "Distance from 'great':\n",
            "0.000 - great\n",
            "0.012 - spring\n",
            "0.013 - 1980\n",
            "0.013 - permanent\n",
            "0.013 - robinson\n",
            "0.015 - anime\n",
            "0.015 - pleasantly\n",
            "0.016 - inter\n",
            "0.016 - profit\n",
            "0.017 - ramones\n",
            "...\n",
            "1.988 - mst3k\n",
            "1.988 - consist\n",
            "1.988 - save\n",
            "1.989 - unless\n",
            "1.990 - ripoff\n",
            "1.991 - insipid\n",
            "1.994 - avoid\n",
            "1.995 - drivel\n",
            "1.995 - expand\n",
            "1.995 - profile\n"
          ]
        }
      ],
      "source": [
        "print_sorted_words('great', metric='cosine')"
      ]
    },
    {
      "cell_type": "markdown",
      "metadata": {
        "id": "EcyakcZdcH4w"
      },
      "source": [
        "Similarly, we can print the words that are near and far from the word 'worst' in terms of their vector-embeddings."
      ]
    },
    {
      "cell_type": "code",
      "execution_count": null,
      "metadata": {
        "id": "il3CdTsYcH4w",
        "outputId": "1d41eef7-14fc-403d-e6dc-8215e8929be7",
        "scrolled": true
      },
      "outputs": [
        {
          "name": "stdout",
          "output_type": "stream",
          "text": [
            "Distance from 'worst':\n",
            "0.000 - worst\n",
            "0.004 - horrible\n",
            "0.004 - dull\n",
            "0.005 - below\n",
            "0.005 - boredom\n",
            "0.006 - conceived\n",
            "0.008 - salvage\n",
            "0.009 - slapped\n",
            "0.009 - fails\n",
            "0.010 - virus\n",
            "...\n",
            "1.989 - cried\n",
            "1.989 - compelling\n",
            "1.990 - carell\n",
            "1.990 - stadium\n",
            "1.991 - deanna\n",
            "1.992 - eddie\n",
            "1.992 - resolved\n",
            "1.992 - sirk\n",
            "1.994 - sidney\n",
            "1.997 - concentrates\n"
          ]
        }
      ],
      "source": [
        "print_sorted_words('worst', metric='cosine')"
      ]
    },
    {
      "cell_type": "markdown",
      "metadata": {
        "id": "eYbYWiBncH4w"
      },
      "source": [
        "## Conclusion\n",
        "\n",
        "This tutorial showed the basic methods for doing Natural Language Processing (NLP) using a Recurrent Neural Network with integer-tokens and an embedding layer. This was used to do sentiment analysis of movie reviews from IMDB. It works reasonably well if the hyper-parameters are chosen properly. But it is important to understand that this is not human-like comprehension of text. The system does not have any real understanding of the text. It is just a clever way of doing pattern-recognition."
      ]
    },
    {
      "cell_type": "markdown",
      "metadata": {
        "id": "qAeMB4HIcH4w"
      },
      "source": [
        "## Exercises\n",
        "\n",
        "These are a few suggestions for exercises that may help improve your skills with TensorFlow. It is important to get hands-on experience with TensorFlow in order to learn how to use it properly.\n",
        "\n",
        "You may want to backup this Notebook before making any changes.\n",
        "\n",
        "* Run more training-epochs. Does it improve performance?\n",
        "* If your model overfits the training-data, try using dropout-layers and dropout inside the GRU.\n",
        "* Increase or decrease the number of words in the vocabulary. This is done when the `Tokenizer` is initialized. Does it affect performance?\n",
        "* Increase the size of the embedding-vectors to e.g. 200. Does it affect performance?\n",
        "* Try varying all the different hyper-parameters for the Recurrent Neural Network.\n",
        "* Use Bayesian Optimization from Tutorial #19 to find the best choice of hyper-parameters.\n",
        "* Use 'post' for padding and truncating in `pad_sequences()`. Does it affect the performance?\n",
        "* Use individual characters instead of tokenized words as the vocabulary. You can then use one-hot encoded vectors for each character instead of using the embedding-layer.\n",
        "* Use `model.fit_generator()` instead of `model.fit()` and make your own data-generator, which creates a batch of data using a random subset of `x_train_tokens`. The sequences must be padded so they all match the length of the longest sequence.\n",
        "* Explain to a friend how the program works."
      ]
    },
    {
      "cell_type": "markdown",
      "metadata": {
        "id": "q9TjuOoycH4x"
      },
      "source": [
        "## License (MIT)\n",
        "\n",
        "Copyright (c) 2018 by [Magnus Erik Hvass Pedersen](http://www.hvass-labs.org/)\n",
        "\n",
        "Permission is hereby granted, free of charge, to any person obtaining a copy of this software and associated documentation files (the \"Software\"), to deal in the Software without restriction, including without limitation the rights to use, copy, modify, merge, publish, distribute, sublicense, and/or sell copies of the Software, and to permit persons to whom the Software is furnished to do so, subject to the following conditions:\n",
        "\n",
        "The above copyright notice and this permission notice shall be included in all copies or substantial portions of the Software.\n",
        "\n",
        "THE SOFTWARE IS PROVIDED \"AS IS\", WITHOUT WARRANTY OF ANY KIND, EXPRESS OR IMPLIED, INCLUDING BUT NOT LIMITED TO THE WARRANTIES OF MERCHANTABILITY, FITNESS FOR A PARTICULAR PURPOSE AND NONINFRINGEMENT. IN NO EVENT SHALL THE AUTHORS OR COPYRIGHT HOLDERS BE LIABLE FOR ANY CLAIM, DAMAGES OR OTHER LIABILITY, WHETHER IN AN ACTION OF CONTRACT, TORT OR OTHERWISE, ARISING FROM, OUT OF OR IN CONNECTION WITH THE SOFTWARE OR THE USE OR OTHER DEALINGS IN THE SOFTWARE."
      ]
    }
  ],
  "metadata": {
    "anaconda-cloud": {},
    "colab": {
      "include_colab_link": true,
      "provenance": []
    },
    "kernelspec": {
      "display_name": "Python 3",
      "language": "python",
      "name": "python3"
    },
    "language_info": {
      "codemirror_mode": {
        "name": "ipython",
        "version": 3
      },
      "file_extension": ".py",
      "mimetype": "text/x-python",
      "name": "python",
      "nbconvert_exporter": "python",
      "pygments_lexer": "ipython3",
      "version": "3.10.12"
    }
  },
  "nbformat": 4,
  "nbformat_minor": 0
}
