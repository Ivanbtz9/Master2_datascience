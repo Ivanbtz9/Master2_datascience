{
 "cells": [
  {
   "cell_type": "code",
   "execution_count": 2,
   "metadata": {},
   "outputs": [],
   "source": [
    "import numpy as np\n",
    "import pandas as pd \n",
    "import matplotlib.pyplot as plt \n",
    "\n",
    "import os \n",
    "\n",
    "import tensorflow as tf\n",
    "from tensorflow.keras.models import Sequential\n",
    "from tensorflow.keras.layers import Dense, Activation, Dropout\n",
    "from tensorflow.keras.utils import to_categorical\n",
    "from tensorflow.keras.callbacks import TensorBoard\n",
    "from tensorflow.keras.optimizers import Adam"
   ]
  },
  {
   "cell_type": "code",
   "execution_count": 3,
   "id": "1efc263e",
   "metadata": {},
   "outputs": [],
   "source": [
    "from tensorflow.keras.datasets import mnist\n",
    "(x_train,y_train),(x_val,y_val) = mnist.load_data()"
   ]
  },
  {
   "cell_type": "code",
   "execution_count": 4,
   "id": "595c7204",
   "metadata": {},
   "outputs": [
    {
     "data": {
      "text/plain": [
       "Text(0.5, 1.0, 'Ceci est un 2')"
      ]
     },
     "execution_count": 4,
     "metadata": {},
     "output_type": "execute_result"
    },
    {
     "data": {
      "image/png": "[encoded data removed]",
      "text/plain": [
       "<Figure size 432x288 with 1 Axes>"
      ]
     },
     "metadata": {
      "needs_background": "light"
     },
     "output_type": "display_data"
    }
   ],
   "source": [
    "np.random.seed(9)\n",
    "\n",
    "i = np.random.randint(0,len(x_train))\n",
    "\n",
    "plt.imshow(x_train[i],cmap='gray_r',interpolation='none')\n",
    "plt.title(f'Ceci est un {y_train[i]}')"
   ]
  },
  {
   "cell_type": "code",
   "execution_count": 6,
   "id": "0fcd86c5",
   "metadata": {},
   "outputs": [],
   "source": [
    "(x_train,y_train),(x_val,y_val) = mnist.load_data()\n",
    "\n",
    "## reshape and flatten\n",
    "num_pixels = x_train.shape[1] * x_train.shape[2]\n",
    "x_train = x_train.reshape(x_train.shape[0], num_pixels).astype('float32')\n",
    "x_val =  x_val.reshape(x_val.shape[0], num_pixels).astype('float32')\n",
    "\n",
    "## to_categories\n",
    "y_train_cat, y_val_cat = to_categorical(y_train), to_categorical(y_val)\n",
    "\n",
    "## normalisation min max \n",
    "x_train = x_train/255\n",
    "x_val = x_val/255"
   ]
  },
  {
   "cell_type": "code",
   "execution_count": 7,
   "id": "f1da8eec",
   "metadata": {},
   "outputs": [],
   "source": [
    "from sklearn.model_selection import train_test_split\n",
    "\n",
    "x_tr,x_ts,y_tr,y_ts = train_test_split(x_train,y_train_cat,test_size=0.2,random_state=9)"
   ]
  },
  {
   "cell_type": "markdown",
   "id": "f01212f1",
   "metadata": {},
   "source": [
    "# MLP light"
   ]
  },
  {
   "cell_type": "code",
   "execution_count": 8,
   "id": "8bdab8b5",
   "metadata": {},
   "outputs": [
    {
     "name": "stdout",
     "output_type": "stream",
     "text": [
      "Model: \"sequential\"\n",
      "_________________________________________________________________\n",
      " Layer (type)                Output Shape              Param #   \n",
      "=================================================================\n",
      " dense (Dense)               (None, 32)                25120     \n",
      "                                                                 \n",
      " dropout (Dropout)           (None, 32)                0         \n",
      "                                                                 \n",
      " dense_1 (Dense)             (None, 10)                330       \n",
      "                                                                 \n",
      "=================================================================\n",
      "Total params: 25450 (99.41 KB)\n",
      "Trainable params: 25450 (99.41 KB)\n",
      "Non-trainable params: 0 (0.00 Byte)\n",
      "_________________________________________________________________\n"
     ]
    }
   ],
   "source": [
    "num_classes = y_tr.shape[1]\n",
    "\n",
    "#creating a neural network\n",
    "\n",
    "def neural_network_light(learning_rate=1e-2,input_dim=num_pixels):\n",
    "    model = Sequential()\n",
    "    model.add(Dense(32, input_dim=input_dim, kernel_initializer='normal', activation='relu'))\n",
    "    model.add(Dropout(.5))\n",
    "    #model.add(Dense(16, kernel_initializer='normal', activation='relu'))\n",
    "    model.add(Dense(num_classes, kernel_initializer='normal', activation='softmax'))  #sigmoïde quand on est dans binary\n",
    "    optimizer = Adam(learning_rate=learning_rate)\n",
    "    model.compile(loss='categorical_crossentropy', optimizer=optimizer, metrics=['accuracy'])\n",
    "    return model\n",
    "\n",
    "model = neural_network_light(learning_rate=1e-3)\n",
    "model.summary()"
   ]
  },
  {
   "cell_type": "code",
   "execution_count": 10,
   "id": "9cd42a29",
   "metadata": {},
   "outputs": [
    {
     "name": "stdout",
     "output_type": "stream",
     "text": [
      "Epoch 1/5\n",
      "960/960 [==============================] - 3s 3ms/step - loss: 0.3737 - accuracy: 0.8813 - val_loss: 0.1976 - val_accuracy: 0.9450\n",
      "Epoch 2/5\n",
      "960/960 [==============================] - 2s 2ms/step - loss: 0.3706 - accuracy: 0.8819 - val_loss: 0.1984 - val_accuracy: 0.9452\n",
      "Epoch 3/5\n",
      "960/960 [==============================] - 2s 2ms/step - loss: 0.3641 - accuracy: 0.8829 - val_loss: 0.1987 - val_accuracy: 0.9455\n",
      "Epoch 4/5\n",
      "960/960 [==============================] - 3s 3ms/step - loss: 0.3651 - accuracy: 0.8843 - val_loss: 0.1928 - val_accuracy: 0.9475\n",
      "Epoch 5/5\n",
      "960/960 [==============================] - 4s 4ms/step - loss: 0.3620 - accuracy: 0.8829 - val_loss: 0.1934 - val_accuracy: 0.9479\n"
     ]
    },
    {
     "data": {
      "image/png": "[encoded data removed]",
      "text/plain": [
       "<Figure size 432x288 with 1 Axes>"
      ]
     },
     "metadata": {
      "needs_background": "light"
     },
     "output_type": "display_data"
    },
    {
     "data": {
      "image/png": "[encoded data removed]",
      "text/plain": [
       "<Figure size 432x288 with 1 Axes>"
      ]
     },
     "metadata": {
      "needs_background": "light"
     },
     "output_type": "display_data"
    },
    {
     "name": "stdout",
     "output_type": "stream",
     "text": [
      "375/375 [==============================] - 1s 2ms/step - loss: 0.1934 - accuracy: 0.9479\n",
      "Neural network accuracy: 94.79%\n"
     ]
    }
   ],
   "source": [
    "history = model.fit(x_tr, y_tr, validation_data=(x_ts, y_ts), epochs=5, batch_size=50,verbose=1)\n",
    "\n",
    "\n",
    "plt.subplot(1,2,1)\n",
    "plt.plot(history.history['loss'], label='Training Loss')\n",
    "plt.plot(history.history['val_loss'], label='Validation Loss')\n",
    "plt.title('Training and Validation Loss')\n",
    "plt.ylabel('Loss')\n",
    "plt.xlabel('Epoch')\n",
    "plt.legend()\n",
    "plt.show()\n",
    "\n",
    "plt.subplot(1,2,1)\n",
    "plt.plot(history.history['accuracy'], label='Training Accuracy')\n",
    "plt.plot(history.history['val_accuracy'], label='Validation Accuracy')\n",
    "plt.title('Training and Validation Accuracy')\n",
    "plt.ylabel('Accuracy')\n",
    "plt.xlabel('Epoch')\n",
    "plt.legend()\n",
    "plt.show()\n",
    "\n",
    "scores = model.evaluate(x_ts, y_ts)\n",
    "print(\"Neural network accuracy: %.2f%%\" % (scores[1]*100))"
   ]
  },
  {
   "cell_type": "code",
   "execution_count": 11,
   "id": "22c88815",
   "metadata": {},
   "outputs": [
    {
     "name": "stdout",
     "output_type": "stream",
     "text": [
      "313/313 [==============================] - 1s 2ms/step - loss: 0.1822 - accuracy: 0.9471\n",
      "Neural network accuracy: 94.71%\n"
     ]
    }
   ],
   "source": [
    "scores_val = model.evaluate(x_val, y_val_cat)\n",
    "print(\"Neural network accuracy: %.2f%%\" % (scores_val[1]*100))"
   ]
  },
  {
   "cell_type": "markdown",
   "id": "27aecda6",
   "metadata": {},
   "source": [
    "# heavy neural network\n"
   ]
  },
  {
   "cell_type": "code",
   "execution_count": null,
   "id": "f7f4ea9d",
   "metadata": {},
   "outputs": [],
   "source": [
    "#creating a neural network\n",
    "\n",
    "def neural_network_heavy(learning_rate=1e-3,input_dim=num_pixels):\n",
    "    model = Sequential()\n",
    "    model.add(Dense(num_pixels, input_dim=input_dim, kernel_initializer='normal', activation='relu'))\n",
    "    model.add(Dropout(.5))\n",
    "    model.add(Dense(10, kernel_initializer='normal', activation='relu'))\n",
    "    model.add(Dense(num_classes, kernel_initializer='normal', activation='softmax'))  #sigmoïde quand on est dans binary\n",
    "    optimizer = Adam(learning_rate=learning_rate)\n",
    "    model.compile(loss='categorical_crossentropy', optimizer=optimizer, metrics=['accuracy'])\n",
    "    return model\n",
    "\n",
    "model = neural_network_light(learning_rate=1e-3)\n",
    "model.summary()"
   ]
  },
  {
   "cell_type": "code",
   "execution_count": null,
   "id": "10c88780",
   "metadata": {},
   "outputs": [],
   "source": [
    "from tensorflow.keras.preprocessing.image import ImageDataGenerator\n",
    "from tensorflow.keras.layers import Conv2D, MaxPooling2D, Flatten\n",
    "\n",
    "(x_train,y_train),(x_val,y_val) = mnist.load_data()\n",
    "\n",
    "def neural_network_cnn(learning_rate=1e-3,p_out=0.25,input_dim=(x_train.shape[1], 32, 3)):\n",
    "    model = Sequential()\n",
    "\n",
    "    # Couche convolutive avec activation ReLU\n",
    "    model.add(Conv2D(32, (3, 3), activation='relu', input_shape=input_shape))\n",
    "    model.add(MaxPooling2D((2, 2)))\n",
    "\n",
    "    # Ajout d'une seconde couche convolutive\n",
    "    model.add(Conv2D(64, (3, 3), activation='relu'))\n",
    "    model.add(MaxPooling2D((2, 2)))\n",
    "\n",
    "    # Ajout d'une troisième couche convolutive\n",
    "    model.add(Conv2D(64, (3, 3), activation='relu'))\n",
    "\n",
    "    # Aplatir la sortie pour l'alimenter dans des couches denses\n",
    "    model.add(Flatten())\n",
    "\n",
    "    # Couches denses\n",
    "    model.add(Dense(64, activation='relu'))\n",
    "    model.add(Dense(10, activation='softmax'))  # 10 classes\n",
    "\n",
    "    return model\n",
    "\n",
    "model_cnn = neural_network_cnn(learning_rate=1e-3)\n",
    "model_cnn.summary()\n",
    "\n"
   ]
  }
 ],
 "metadata": {
  "kernelspec": {
   "display_name": "Python 3",
   "language": "python",
   "name": "python3"
  },
  "language_info": {
   "codemirror_mode": {
    "name": "ipython",
    "version": 3
   },
   "file_extension": ".py",
   "mimetype": "text/x-python",
   "name": "python",
   "nbconvert_exporter": "python",
   "pygments_lexer": "ipython3",
   "version": "3.10.12"
  }
 },
 "nbformat": 4,
 "nbformat_minor": 5
}
