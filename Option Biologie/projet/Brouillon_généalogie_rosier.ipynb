{
 "cells": [
  {
   "cell_type": "code",
   "execution_count": 198,
   "id": "9e72807d",
   "metadata": {},
   "outputs": [
    {
     "data": {
      "text/plain": [
       "['.ipynb_checkpoints',\n",
       " 'Pop2x_v2.csv',\n",
       " 'DataGeno2x.csv',\n",
       " 'Brouillon_généalogie_rosier.ipynb',\n",
       " 'essai_4x.csv']"
      ]
     },
     "execution_count": 198,
     "metadata": {},
     "output_type": "execute_result"
    }
   ],
   "source": [
    "#Import des modules utiles\n",
    "\n",
    "import numpy as np\n",
    "import pandas as pd \n",
    "import os\n",
    "import igraph as ig\n",
    "\n",
    "os.listdir()\n"
   ]
  },
  {
   "cell_type": "code",
   "execution_count": 105,
   "id": "cd4fdfd9",
   "metadata": {},
   "outputs": [
    {
     "data": {
      "text/html": [
       "<div>\n",
       "<style scoped>\n",
       "    .dataframe tbody tr th:only-of-type {\n",
       "        vertical-align: middle;\n",
       "    }\n",
       "\n",
       "    .dataframe tbody tr th {\n",
       "        vertical-align: top;\n",
       "    }\n",
       "\n",
       "    .dataframe thead th {\n",
       "        text-align: right;\n",
       "    }\n",
       "</style>\n",
       "<table border=\"1\" class=\"dataframe\">\n",
       "  <thead>\n",
       "    <tr style=\"text-align: right;\">\n",
       "      <th></th>\n",
       "      <th>marqueur_1.0</th>\n",
       "      <th>marqueur_1.1</th>\n",
       "      <th>marqueur_2.0</th>\n",
       "      <th>marqueur_2.1</th>\n",
       "      <th>marqueur_3.0</th>\n",
       "      <th>marqueur_3.1</th>\n",
       "      <th>marqueur_4.0</th>\n",
       "      <th>marqueur_4.1</th>\n",
       "      <th>generation</th>\n",
       "    </tr>\n",
       "    <tr>\n",
       "      <th>index</th>\n",
       "      <th></th>\n",
       "      <th></th>\n",
       "      <th></th>\n",
       "      <th></th>\n",
       "      <th></th>\n",
       "      <th></th>\n",
       "      <th></th>\n",
       "      <th></th>\n",
       "      <th></th>\n",
       "    </tr>\n",
       "  </thead>\n",
       "  <tbody>\n",
       "    <tr>\n",
       "      <th>1</th>\n",
       "      <td>10</td>\n",
       "      <td>20</td>\n",
       "      <td>60</td>\n",
       "      <td>70</td>\n",
       "      <td>110</td>\n",
       "      <td>110</td>\n",
       "      <td>150</td>\n",
       "      <td>160</td>\n",
       "      <td>1</td>\n",
       "    </tr>\n",
       "    <tr>\n",
       "      <th>2</th>\n",
       "      <td>30</td>\n",
       "      <td>30</td>\n",
       "      <td>60</td>\n",
       "      <td>70</td>\n",
       "      <td>130</td>\n",
       "      <td>130</td>\n",
       "      <td>150</td>\n",
       "      <td>160</td>\n",
       "      <td>1</td>\n",
       "    </tr>\n",
       "    <tr>\n",
       "      <th>3</th>\n",
       "      <td>10</td>\n",
       "      <td>40</td>\n",
       "      <td>80</td>\n",
       "      <td>90</td>\n",
       "      <td>140</td>\n",
       "      <td>140</td>\n",
       "      <td>150</td>\n",
       "      <td>150</td>\n",
       "      <td>1</td>\n",
       "    </tr>\n",
       "    <tr>\n",
       "      <th>4</th>\n",
       "      <td>10</td>\n",
       "      <td>20</td>\n",
       "      <td>60</td>\n",
       "      <td>60</td>\n",
       "      <td>100</td>\n",
       "      <td>110</td>\n",
       "      <td>140</td>\n",
       "      <td>160</td>\n",
       "      <td>2</td>\n",
       "    </tr>\n",
       "    <tr>\n",
       "      <th>5</th>\n",
       "      <td>10</td>\n",
       "      <td>20</td>\n",
       "      <td>70</td>\n",
       "      <td>90</td>\n",
       "      <td>110</td>\n",
       "      <td>140</td>\n",
       "      <td>150</td>\n",
       "      <td>150</td>\n",
       "      <td>2</td>\n",
       "    </tr>\n",
       "    <tr>\n",
       "      <th>6</th>\n",
       "      <td>10</td>\n",
       "      <td>10</td>\n",
       "      <td>60</td>\n",
       "      <td>60</td>\n",
       "      <td>100</td>\n",
       "      <td>110</td>\n",
       "      <td>140</td>\n",
       "      <td>160</td>\n",
       "      <td>3</td>\n",
       "    </tr>\n",
       "  </tbody>\n",
       "</table>\n",
       "</div>"
      ],
      "text/plain": [
       "       marqueur_1.0  marqueur_1.1  marqueur_2.0  marqueur_2.1  marqueur_3.0  \\\n",
       "index                                                                         \n",
       "1                10            20            60            70           110   \n",
       "2                30            30            60            70           130   \n",
       "3                10            40            80            90           140   \n",
       "4                10            20            60            60           100   \n",
       "5                10            20            70            90           110   \n",
       "6                10            10            60            60           100   \n",
       "\n",
       "       marqueur_3.1  marqueur_4.0  marqueur_4.1  generation  \n",
       "index                                                        \n",
       "1               110           150           160           1  \n",
       "2               130           150           160           1  \n",
       "3               140           150           150           1  \n",
       "4               110           140           160           2  \n",
       "5               140           150           150           2  \n",
       "6               110           140           160           3  "
      ]
     },
     "execution_count": 105,
     "metadata": {},
     "output_type": "execute_result"
    }
   ],
   "source": [
    "#Chargement des données et Preprocessing\n",
    "\n",
    "data1 = pd.read_csv('DataGeno2x.csv')\n",
    "data2 = pd.read_csv('Pop2x_v2.csv')\n",
    "data3 = pd.read_csv('essai_4x.csv')\n",
    "\n",
    "data1['1.1'] = np.arange(1,7) #relister la dernière colonne \n",
    "\n",
    "# Définir la colonne '1.1' comme indice\n",
    "data1 = data1.set_index(data1.columns[-1])\n",
    "\n",
    "# Liste des noms de colonnes contenant des zéros\n",
    "colonnes_a_supprimer = [colonne for colonne in data1.columns if (data1[colonne] == 0).all()]\n",
    "\n",
    "# Supprimez les colonnes contenant uniquement des zéros\n",
    "data1 = data1.drop(columns=colonnes_a_supprimer)\n",
    "\n",
    "data1.index.name = 'index'\n",
    "\n",
    "\n",
    "# Créez un dictionnaire de correspondance des noms de colonnes\n",
    "nouveaux_noms = {'10':'marqueur_1.0','10.1':'marqueur_1.1',\n",
    "                 '50':'marqueur_2.0','60':'marqueur_2.1',\n",
    "                 '100':'marqueur_3.0','100.1':'marqueur_3.1',\n",
    "                 '140':'marqueur_4.0','140.1':'marqueur_4.1',\n",
    "                '1':'generation'}\n",
    "\n",
    "data1.rename(columns= nouveaux_noms, inplace=True)\n",
    "\n",
    "data1"
   ]
  },
  {
   "cell_type": "code",
   "execution_count": 106,
   "id": "55afc8c9",
   "metadata": {},
   "outputs": [
    {
     "data": {
      "text/plain": [
       "array([[10, 10],\n",
       "       [10, 20],\n",
       "       [20, 10],\n",
       "       [20, 20]])"
      ]
     },
     "execution_count": 106,
     "metadata": {},
     "output_type": "execute_result"
    }
   ],
   "source": [
    "# Générer les enfants virtuels à l'aide de deux parents pour un marqueur donné\n",
    "\n",
    "def generEnf_Enf(P1,P2,m): \n",
    "    #P1 et P2 sont des int associés à l'indice des parents\n",
    "    #m est est un entier compris entre 1 et 4 car il y a 4 caractéristiques\n",
    "    \n",
    "    P1_a,P1_b =data1.loc[P1,[f'marqueur_{m}.0',f'marqueur_{m}.1']] \n",
    "    #permet de stocker les allèles du parent 1 sur le marqueur m\n",
    "    \n",
    "    P2_a,P2_b =data1.loc[P2,[f'marqueur_{m}.0',f'marqueur_{m}.1']] \n",
    "    #permet de stocker les allèles du parent 2 sur le marqueur m\n",
    "    return np.array([[P1_a,P2_a],[P1_a,P2_b],[P1_b,P2_a],[P1_b,P2_b]])\n",
    "\n",
    "generEnf_Enf(1,1,1)"
   ]
  },
  {
   "cell_type": "code",
   "execution_count": 107,
   "id": "1cdfb015",
   "metadata": {},
   "outputs": [
    {
     "data": {
      "text/plain": [
       "2"
      ]
     },
     "execution_count": 107,
     "metadata": {},
     "output_type": "execute_result"
    }
   ],
   "source": [
    "# donner pour un marqueur donné et une liste d'enfants virtuels pour un couple de parent\n",
    "#le nombre  de fois ou l'enfant réel apparaît.\n",
    "\n",
    "\n",
    "def compteEnf_virt_reel(P1,P2,E,m): \n",
    "    #m est est un entier compris entre 1 et 4\n",
    "    # E est un entier pour une ligne donnée \n",
    "    \n",
    "    E_virt = generEnf_Enf(P1,P2,m)\n",
    "    #liste des enfants virtuel\n",
    "    \n",
    "    E_a,E_b =data1.loc[E,[f'marqueur_{m}.0',f'marqueur_{m}.1']] \n",
    "    #E_a et E_b permet de stocker les allèles de l'enfant sur le marqueur m\n",
    "    c = 0 # c est un compteur\n",
    "    \n",
    "    for i in range(4): #Se déplacer sur les 4 cas possibles de la liste\n",
    "        \n",
    "        # Tester si la configuration enfant est présente dans la liste à permutation près \n",
    "        if list(E_virt[i,:]) == [E_a,E_b] or list(E_virt[i,:]) == [E_b,E_a]: \n",
    "            #list(E_virt[i,:]) convertir en liste tester l'égalité\n",
    "            c+=1 #incrémante d'un si vrai\n",
    "            \n",
    "            #Permet de faire des affichages pour mieux comprendre\n",
    "            '''print(E_virt[i,:], [E_a,E_b], list(E_virt[i,:]) == [E_a,E_b] )\n",
    "            print('et')\n",
    "            print(E_virt[i,:], [E_b,E_a], list(E_virt[i,:]) == [E_b,E_a])'''\n",
    "            \n",
    "    return c# nb de cas de ressemblance sur les 4 possibles\n",
    "        \n",
    "compteEnf_virt_reel(1,1,4,1)      "
   ]
  },
  {
   "cell_type": "code",
   "execution_count": 138,
   "id": "f695a9ff",
   "metadata": {},
   "outputs": [
    {
     "data": {
      "text/plain": [
       "0.1875"
      ]
     },
     "execution_count": 138,
     "metadata": {},
     "output_type": "execute_result"
    }
   ],
   "source": [
    "def Proba_Par_Enf(P1,P2,E):\n",
    "    p=0\n",
    "    I = range(1,7)\n",
    "    if (P1 not in I) or (P2 not in I) or (E not in I):\n",
    "        raise ValueError(\"les index rentrés ne sont pas bons\")\n",
    "    elif (data1.iloc[P1-1]['generation'] >= data1.iloc[E-1]['generation']) or (data1.iloc[P2-1]['generation'] >= data1.iloc[E-1]['generation']):\n",
    "        # les indices python commence à 0 et non à 1, donc on abaise tout de 1 \n",
    "        return p\n",
    "    else:\n",
    "        for m in range(1,5):\n",
    "            p+= compteEnf_virt_reel(P1,P2,E,m)/4\n",
    "        return p/4\n",
    "\n",
    "#Un exemple \n",
    "Proba_Par_Enf(1,1,4)\n",
    "\n"
   ]
  },
  {
   "cell_type": "code",
   "execution_count": 192,
   "id": "51d5a6ae",
   "metadata": {},
   "outputs": [
    {
     "data": {
      "text/plain": [
       "Text(0.5, 1.0, \"matrice des probablités pour l'enfant 4\")"
      ]
     },
     "execution_count": 192,
     "metadata": {},
     "output_type": "execute_result"
    },
    {
     "data": {
      "image/png": "[encoded data removed]",
      "text/plain": [
       "<Figure size 432x288 with 2 Axes>"
      ]
     },
     "metadata": {
      "needs_background": "light"
     },
     "output_type": "display_data"
    }
   ],
   "source": [
    "import matplotlib.pyplot as plt\n",
    "\n",
    "def Matrix_Proba(E):\n",
    "    n= len(data1)\n",
    "    Matrix = np.zeros((n,n))\n",
    "    for i in range(n):\n",
    "        for j in range(n):\n",
    "            Matrix[i,j] = Proba_Par_Enf(i+1,j+1,E)\n",
    "    return Matrix\n",
    "            \n",
    "plt.imshow(Matrix_Proba(4),cmap='gray')\n",
    "plt.colorbar()\n",
    "plt.title(\"matrice des probablités pour l'enfant 4\")"
   ]
  },
  {
   "cell_type": "code",
   "execution_count": 225,
   "id": "f082d9e2",
   "metadata": {},
   "outputs": [
    {
     "data": {
      "text/plain": [
       "[[4, 1, 1, 1.6739764335716716],\n",
       " [5, 1, 3, 0.6931471805599453],\n",
       " [6, 4, 4, 0.5753641449035618]]"
      ]
     },
     "execution_count": 225,
     "metadata": {},
     "output_type": "execute_result"
    }
   ],
   "source": [
    "def Recup_Parents_max(E):\n",
    "    M = Matrix_Proba(E)\n",
    "    P1,P2 = np.unravel_index(np.argmax(M),M.shape)\n",
    "    return [E,P1+1,P2+1,-np.log(M.max())]\n",
    "\n",
    "Liste_pedigree = []\n",
    "for e in range(4,7):\n",
    "    Liste_pedigree.append(Recup_Parents_max(e))\n",
    "\n",
    "Liste_pedigree"
   ]
  },
  {
   "cell_type": "code",
   "execution_count": 267,
   "id": "50ca8c89",
   "metadata": {},
   "outputs": [
    {
     "data": {
      "image/svg+xml": [
       "<?xml version=\"1.0\" encoding=\"UTF-8\"?>\n",
       "<svg xmlns=\"http://www.w3.org/2000/svg\" xmlns:xlink=\"http://www.w3.org/1999/xlink\" width=\"600pt\" height=\"600pt\" viewBox=\"0 0 600 600\" version=\"1.1\">\n",
       "<defs>\n",
       "<g>\n",
       "<symbol overflow=\"visible\" id=\"glyph0-0\">\n",
       "<path style=\"stroke:none;\" d=\"M 0.703125 2.46875 L 0.703125 -9.875 L 7.703125 -9.875 L 7.703125 2.46875 Z M 1.484375 1.703125 L 6.921875 1.703125 L 6.921875 -9.078125 L 1.484375 -9.078125 Z M 1.484375 1.703125 \"/>\n",
       "</symbol>\n",
       "<symbol overflow=\"visible\" id=\"glyph0-1\">\n",
       "<path style=\"stroke:none;\" d=\"M 0.421875 -7.65625 L 1.75 -7.65625 L 4.140625 -1.234375 L 6.53125 -7.65625 L 7.875 -7.65625 L 5 0 L 3.28125 0 Z M 0.421875 -7.65625 \"/>\n",
       "</symbol>\n",
       "<symbol overflow=\"visible\" id=\"glyph0-2\">\n",
       "<path style=\"stroke:none;\" d=\"M 4.796875 -3.84375 C 3.785156 -3.84375 3.082031 -3.726562 2.6875 -3.5 C 2.289062 -3.269531 2.09375 -2.875 2.09375 -2.3125 C 2.09375 -1.863281 2.238281 -1.507812 2.53125 -1.25 C 2.832031 -0.988281 3.234375 -0.859375 3.734375 -0.859375 C 4.429688 -0.859375 4.988281 -1.101562 5.40625 -1.59375 C 5.832031 -2.09375 6.046875 -2.75 6.046875 -3.5625 L 6.046875 -3.84375 Z M 7.3125 -4.375 L 7.3125 0 L 6.046875 0 L 6.046875 -1.15625 C 5.765625 -0.695312 5.40625 -0.351562 4.96875 -0.125 C 4.539062 0.09375 4.019531 0.203125 3.40625 0.203125 C 2.625 0.203125 2 -0.015625 1.53125 -0.453125 C 1.070312 -0.898438 0.84375 -1.492188 0.84375 -2.234375 C 0.84375 -3.085938 1.128906 -3.734375 1.703125 -4.171875 C 2.285156 -4.609375 3.144531 -4.828125 4.28125 -4.828125 L 6.046875 -4.828125 L 6.046875 -4.953125 C 6.046875 -5.535156 5.851562 -5.984375 5.46875 -6.296875 C 5.09375 -6.617188 4.5625 -6.78125 3.875 -6.78125 C 3.4375 -6.78125 3.007812 -6.722656 2.59375 -6.609375 C 2.175781 -6.503906 1.78125 -6.347656 1.40625 -6.140625 L 1.40625 -7.3125 C 1.863281 -7.488281 2.304688 -7.617188 2.734375 -7.703125 C 3.171875 -7.796875 3.59375 -7.84375 4 -7.84375 C 5.113281 -7.84375 5.941406 -7.554688 6.484375 -6.984375 C 7.035156 -6.410156 7.3125 -5.539062 7.3125 -4.375 Z M 7.3125 -4.375 \"/>\n",
       "</symbol>\n",
       "<symbol overflow=\"visible\" id=\"glyph0-3\">\n",
       "<path style=\"stroke:none;\" d=\"M 5.75 -6.484375 C 5.613281 -6.566406 5.460938 -6.625 5.296875 -6.65625 C 5.128906 -6.695312 4.945312 -6.71875 4.75 -6.71875 C 4.03125 -6.71875 3.476562 -6.484375 3.09375 -6.015625 C 2.71875 -5.554688 2.53125 -4.894531 2.53125 -4.03125 L 2.53125 0 L 1.265625 0 L 1.265625 -7.65625 L 2.53125 -7.65625 L 2.53125 -6.46875 C 2.800781 -6.9375 3.144531 -7.28125 3.5625 -7.5 C 3.988281 -7.726562 4.503906 -7.84375 5.109375 -7.84375 C 5.203125 -7.84375 5.300781 -7.835938 5.40625 -7.828125 C 5.507812 -7.816406 5.625 -7.796875 5.75 -7.765625 Z M 5.75 -6.484375 \"/>\n",
       "</symbol>\n",
       "<symbol overflow=\"visible\" id=\"glyph0-4\">\n",
       "<path style=\"stroke:none;\" d=\"M 1.3125 -7.65625 L 2.578125 -7.65625 L 2.578125 0 L 1.3125 0 Z M 1.3125 -10.640625 L 2.578125 -10.640625 L 2.578125 -9.046875 L 1.3125 -9.046875 Z M 1.3125 -10.640625 \"/>\n",
       "</symbol>\n",
       "<symbol overflow=\"visible\" id=\"glyph0-5\">\n",
       "<path style=\"stroke:none;\" d=\"M 7.875 -4.140625 L 7.875 -3.53125 L 2.078125 -3.53125 C 2.140625 -2.664062 2.398438 -2.003906 2.859375 -1.546875 C 3.328125 -1.097656 3.976562 -0.875 4.8125 -0.875 C 5.300781 -0.875 5.769531 -0.929688 6.21875 -1.046875 C 6.675781 -1.160156 7.128906 -1.335938 7.578125 -1.578125 L 7.578125 -0.390625 C 7.117188 -0.203125 6.648438 -0.0546875 6.171875 0.046875 C 5.703125 0.148438 5.226562 0.203125 4.75 0.203125 C 3.519531 0.203125 2.546875 -0.148438 1.828125 -0.859375 C 1.117188 -1.578125 0.765625 -2.539062 0.765625 -3.75 C 0.765625 -5.007812 1.101562 -6.003906 1.78125 -6.734375 C 2.457031 -7.472656 3.375 -7.84375 4.53125 -7.84375 C 5.5625 -7.84375 6.375 -7.507812 6.96875 -6.84375 C 7.570312 -6.1875 7.875 -5.285156 7.875 -4.140625 Z M 6.609375 -4.515625 C 6.597656 -5.203125 6.40625 -5.75 6.03125 -6.15625 C 5.65625 -6.570312 5.160156 -6.78125 4.546875 -6.78125 C 3.835938 -6.78125 3.269531 -6.578125 2.84375 -6.171875 C 2.425781 -5.773438 2.1875 -5.21875 2.125 -4.5 Z M 5.40625 -11.203125 L 6.765625 -11.203125 L 4.53125 -8.625 L 3.484375 -8.625 Z M 5.40625 -11.203125 \"/>\n",
       "</symbol>\n",
       "<symbol overflow=\"visible\" id=\"glyph0-6\">\n",
       "<path style=\"stroke:none;\" d=\"M 2.5625 -9.828125 L 2.5625 -7.65625 L 5.15625 -7.65625 L 5.15625 -6.671875 L 2.5625 -6.671875 L 2.5625 -2.515625 C 2.5625 -1.898438 2.644531 -1.5 2.8125 -1.3125 C 2.988281 -1.132812 3.335938 -1.046875 3.859375 -1.046875 L 5.15625 -1.046875 L 5.15625 0 L 3.859375 0 C 2.890625 0 2.21875 -0.179688 1.84375 -0.546875 C 1.476562 -0.910156 1.296875 -1.566406 1.296875 -2.515625 L 1.296875 -6.671875 L 0.375 -6.671875 L 0.375 -7.65625 L 1.296875 -7.65625 L 1.296875 -9.828125 Z M 2.5625 -9.828125 \"/>\n",
       "</symbol>\n",
       "<symbol overflow=\"visible\" id=\"glyph0-7\">\n",
       "<path style=\"stroke:none;\" d=\"\"/>\n",
       "</symbol>\n",
       "<symbol overflow=\"visible\" id=\"glyph0-8\">\n",
       "<path style=\"stroke:none;\" d=\"M 1.734375 -1.15625 L 4 -1.15625 L 4 -8.953125 L 1.53125 -8.453125 L 1.53125 -9.71875 L 3.984375 -10.203125 L 5.359375 -10.203125 L 5.359375 -1.15625 L 7.609375 -1.15625 L 7.609375 0 L 1.734375 0 Z M 1.734375 -1.15625 \"/>\n",
       "</symbol>\n",
       "<symbol overflow=\"visible\" id=\"glyph0-9\">\n",
       "<path style=\"stroke:none;\" d=\"M 2.6875 -1.15625 L 7.5 -1.15625 L 7.5 0 L 1.03125 0 L 1.03125 -1.15625 C 1.550781 -1.695312 2.265625 -2.425781 3.171875 -3.34375 C 4.078125 -4.257812 4.644531 -4.847656 4.875 -5.109375 C 5.3125 -5.609375 5.617188 -6.03125 5.796875 -6.375 C 5.972656 -6.71875 6.0625 -7.054688 6.0625 -7.390625 C 6.0625 -7.929688 5.867188 -8.375 5.484375 -8.71875 C 5.109375 -9.0625 4.613281 -9.234375 4 -9.234375 C 3.570312 -9.234375 3.117188 -9.15625 2.640625 -9 C 2.160156 -8.851562 1.644531 -8.625 1.09375 -8.3125 L 1.09375 -9.71875 C 1.644531 -9.9375 2.160156 -10.101562 2.640625 -10.21875 C 3.128906 -10.332031 3.578125 -10.390625 3.984375 -10.390625 C 5.035156 -10.390625 5.875 -10.125 6.5 -9.59375 C 7.132812 -9.070312 7.453125 -8.367188 7.453125 -7.484375 C 7.453125 -7.054688 7.375 -6.65625 7.21875 -6.28125 C 7.0625 -5.90625 6.773438 -5.460938 6.359375 -4.953125 C 6.242188 -4.828125 5.878906 -4.445312 5.265625 -3.8125 C 4.660156 -3.175781 3.800781 -2.289062 2.6875 -1.15625 Z M 2.6875 -1.15625 \"/>\n",
       "</symbol>\n",
       "<symbol overflow=\"visible\" id=\"glyph0-10\">\n",
       "<path style=\"stroke:none;\" d=\"M 5.6875 -5.5 C 6.34375 -5.363281 6.851562 -5.070312 7.21875 -4.625 C 7.59375 -4.175781 7.78125 -3.625 7.78125 -2.96875 C 7.78125 -1.957031 7.429688 -1.175781 6.734375 -0.625 C 6.046875 -0.0703125 5.066406 0.203125 3.796875 0.203125 C 3.367188 0.203125 2.925781 0.15625 2.46875 0.0625 C 2.019531 -0.0195312 1.550781 -0.144531 1.0625 -0.3125 L 1.0625 -1.640625 C 1.445312 -1.421875 1.867188 -1.253906 2.328125 -1.140625 C 2.785156 -1.023438 3.257812 -0.96875 3.75 -0.96875 C 4.613281 -0.96875 5.269531 -1.132812 5.71875 -1.46875 C 6.175781 -1.8125 6.40625 -2.3125 6.40625 -2.96875 C 6.40625 -3.570312 6.191406 -4.039062 5.765625 -4.375 C 5.347656 -4.71875 4.765625 -4.890625 4.015625 -4.890625 L 2.828125 -4.890625 L 2.828125 -6.015625 L 4.078125 -6.015625 C 4.753906 -6.015625 5.269531 -6.148438 5.625 -6.421875 C 5.988281 -6.703125 6.171875 -7.097656 6.171875 -7.609375 C 6.171875 -8.128906 5.984375 -8.53125 5.609375 -8.8125 C 5.242188 -9.09375 4.710938 -9.234375 4.015625 -9.234375 C 3.640625 -9.234375 3.234375 -9.191406 2.796875 -9.109375 C 2.367188 -9.023438 1.894531 -8.894531 1.375 -8.71875 L 1.375 -9.953125 C 1.894531 -10.097656 2.382812 -10.207031 2.84375 -10.28125 C 3.300781 -10.351562 3.734375 -10.390625 4.140625 -10.390625 C 5.191406 -10.390625 6.019531 -10.148438 6.625 -9.671875 C 7.238281 -9.203125 7.546875 -8.5625 7.546875 -7.75 C 7.546875 -7.175781 7.382812 -6.695312 7.0625 -6.3125 C 6.738281 -5.925781 6.28125 -5.65625 5.6875 -5.5 Z M 5.6875 -5.5 \"/>\n",
       "</symbol>\n",
       "<symbol overflow=\"visible\" id=\"glyph0-11\">\n",
       "<path style=\"stroke:none;\" d=\"M 5.296875 -9 L 1.8125 -3.5625 L 5.296875 -3.5625 Z M 4.921875 -10.203125 L 6.671875 -10.203125 L 6.671875 -3.5625 L 8.125 -3.5625 L 8.125 -2.40625 L 6.671875 -2.40625 L 6.671875 0 L 5.296875 0 L 5.296875 -2.40625 L 0.6875 -2.40625 L 0.6875 -3.734375 Z M 4.921875 -10.203125 \"/>\n",
       "</symbol>\n",
       "<symbol overflow=\"visible\" id=\"glyph0-12\">\n",
       "<path style=\"stroke:none;\" d=\"M 1.515625 -10.203125 L 6.9375 -10.203125 L 6.9375 -9.046875 L 2.78125 -9.046875 L 2.78125 -6.546875 C 2.976562 -6.609375 3.175781 -6.65625 3.375 -6.6875 C 3.570312 -6.726562 3.773438 -6.75 3.984375 -6.75 C 5.117188 -6.75 6.019531 -6.4375 6.6875 -5.8125 C 7.351562 -5.1875 7.6875 -4.34375 7.6875 -3.28125 C 7.6875 -2.175781 7.34375 -1.316406 6.65625 -0.703125 C 5.976562 -0.0976562 5.015625 0.203125 3.765625 0.203125 C 3.335938 0.203125 2.898438 0.164062 2.453125 0.09375 C 2.015625 0.0195312 1.554688 -0.0859375 1.078125 -0.234375 L 1.078125 -1.625 C 1.492188 -1.40625 1.921875 -1.238281 2.359375 -1.125 C 2.796875 -1.019531 3.253906 -0.96875 3.734375 -0.96875 C 4.523438 -0.96875 5.148438 -1.171875 5.609375 -1.578125 C 6.066406 -1.992188 6.296875 -2.5625 6.296875 -3.28125 C 6.296875 -3.988281 6.066406 -4.546875 5.609375 -4.953125 C 5.148438 -5.367188 4.523438 -5.578125 3.734375 -5.578125 C 3.367188 -5.578125 3 -5.535156 2.625 -5.453125 C 2.257812 -5.378906 1.890625 -5.253906 1.515625 -5.078125 Z M 1.515625 -10.203125 \"/>\n",
       "</symbol>\n",
       "<symbol overflow=\"visible\" id=\"glyph0-13\">\n",
       "<path style=\"stroke:none;\" d=\"M 4.625 -5.65625 C 4 -5.65625 3.503906 -5.441406 3.140625 -5.015625 C 2.785156 -4.585938 2.609375 -4.007812 2.609375 -3.28125 C 2.609375 -2.539062 2.785156 -1.957031 3.140625 -1.53125 C 3.503906 -1.101562 4 -0.890625 4.625 -0.890625 C 5.238281 -0.890625 5.726562 -1.101562 6.09375 -1.53125 C 6.457031 -1.957031 6.640625 -2.539062 6.640625 -3.28125 C 6.640625 -4.007812 6.457031 -4.585938 6.09375 -5.015625 C 5.726562 -5.441406 5.238281 -5.65625 4.625 -5.65625 Z M 7.359375 -9.984375 L 7.359375 -8.71875 C 7.015625 -8.882812 6.664062 -9.007812 6.3125 -9.09375 C 5.957031 -9.1875 5.609375 -9.234375 5.265625 -9.234375 C 4.347656 -9.234375 3.648438 -8.925781 3.171875 -8.3125 C 2.691406 -7.695312 2.421875 -6.765625 2.359375 -5.515625 C 2.617188 -5.910156 2.953125 -6.210938 3.359375 -6.421875 C 3.765625 -6.640625 4.210938 -6.75 4.703125 -6.75 C 5.722656 -6.75 6.53125 -6.4375 7.125 -5.8125 C 7.726562 -5.1875 8.03125 -4.34375 8.03125 -3.28125 C 8.03125 -2.226562 7.71875 -1.382812 7.09375 -0.75 C 6.476562 -0.113281 5.65625 0.203125 4.625 0.203125 C 3.4375 0.203125 2.53125 -0.25 1.90625 -1.15625 C 1.289062 -2.0625 0.984375 -3.375 0.984375 -5.09375 C 0.984375 -6.707031 1.363281 -7.992188 2.125 -8.953125 C 2.894531 -9.910156 3.921875 -10.390625 5.203125 -10.390625 C 5.554688 -10.390625 5.90625 -10.351562 6.25 -10.28125 C 6.601562 -10.21875 6.972656 -10.117188 7.359375 -9.984375 Z M 7.359375 -9.984375 \"/>\n",
       "</symbol>\n",
       "</g>\n",
       "</defs>\n",
       "<g id=\"surface249\">\n",
       "<rect x=\"0\" y=\"0\" width=\"600\" height=\"600\" style=\"fill:rgb(100%,100%,100%);fill-opacity:1;stroke:none;\"/>\n",
       "<path style=\"fill:none;stroke-width:1;stroke-linecap:butt;stroke-linejoin:miter;stroke:rgb(26.666667%,26.666667%,26.666667%);stroke-opacity:1;stroke-miterlimit:10;\" d=\"M 313.671875 389.027344 C 264.507812 355.804688 214.035156 354.96875 171.433594 396.039062 \"/>\n",
       "<path style=\" stroke:none;fill-rule:nonzero;fill:rgb(26.666667%,26.666667%,26.666667%);fill-opacity:1;\" d=\"M 161.164062 405.9375 L 168.21875 392.699219 L 174.652344 399.375 L 161.164062 405.9375 \"/>\n",
       "<path style=\"fill:none;stroke-width:1;stroke-linecap:butt;stroke-linejoin:miter;stroke:rgb(26.666667%,26.666667%,26.666667%);stroke-opacity:1;stroke-miterlimit:10;\" d=\"M 313.671875 389.027344 C 276.347656 435.160156 228.324219 450.695312 175.585938 423.855469 \"/>\n",
       "<path style=\" stroke:none;fill-rule:nonzero;fill:rgb(26.666667%,26.666667%,26.666667%);fill-opacity:1;\" d=\"M 162.871094 417.386719 L 177.6875 419.726562 L 173.484375 427.988281 L 162.871094 417.386719 \"/>\n",
       "<path style=\"fill:none;stroke-width:1;stroke-linecap:butt;stroke-linejoin:miter;stroke:rgb(26.666667%,26.666667%,26.666667%);stroke-opacity:1;stroke-miterlimit:10;\" d=\"M 313.671875 389.027344 L 488.03125 407.839844 \"/>\n",
       "<path style=\" stroke:none;fill-rule:nonzero;fill:rgb(26.666667%,26.666667%,26.666667%);fill-opacity:1;\" d=\"M 502.214844 409.371094 L 487.535156 412.449219 L 488.527344 403.230469 L 502.214844 409.371094 \"/>\n",
       "<path style=\"fill:none;stroke-width:1;stroke-linecap:butt;stroke-linejoin:miter;stroke:rgb(26.666667%,26.666667%,26.666667%);stroke-opacity:1;stroke-miterlimit:10;\" d=\"M 580 580 L 521.171875 432.972656 \"/>\n",
       "<path style=\" stroke:none;fill-rule:nonzero;fill:rgb(26.666667%,26.666667%,26.666667%);fill-opacity:1;\" d=\"M 515.871094 419.726562 L 525.476562 431.25 L 516.867188 434.695312 L 515.871094 419.726562 \"/>\n",
       "<path style=\"fill:none;stroke-width:1;stroke-linecap:butt;stroke-linejoin:miter;stroke:rgb(26.666667%,26.666667%,26.666667%);stroke-opacity:1;stroke-miterlimit:10;\" d=\"M 153.980469 412.859375 C 103.15625 395.976562 58.710938 407.375 32.085938 453.632812 \"/>\n",
       "<path style=\" stroke:none;fill-rule:nonzero;fill:rgb(26.666667%,26.666667%,26.666667%);fill-opacity:1;\" d=\"M 24.96875 466 L 28.066406 451.320312 L 36.101562 455.945312 L 24.96875 466 \"/>\n",
       "<path style=\"fill:none;stroke-width:1;stroke-linecap:butt;stroke-linejoin:miter;stroke:rgb(26.666667%,26.666667%,26.666667%);stroke-opacity:1;stroke-miterlimit:10;\" d=\"M 153.980469 412.859375 C 133.8125 462.472656 96.28125 488.871094 43.8125 479.074219 \"/>\n",
       "<path style=\" stroke:none;fill-rule:nonzero;fill:rgb(26.666667%,26.666667%,26.666667%);fill-opacity:1;\" d=\"M 29.789062 476.457031 L 44.664062 474.519531 L 42.960938 483.632812 L 29.789062 476.457031 \"/>\n",
       "<path style=\"fill-rule:nonzero;fill:rgb(100%,0%,0%);fill-opacity:1;stroke-width:1;stroke-linecap:butt;stroke-linejoin:miter;stroke:rgb(0%,0%,0%);stroke-opacity:1;stroke-miterlimit:10;\" d=\"M 323.671875 389.027344 C 323.671875 394.550781 319.195312 399.027344 313.671875 399.027344 C 308.148438 399.027344 303.671875 394.550781 303.671875 389.027344 C 303.671875 383.503906 308.148438 379.027344 313.671875 379.027344 C 319.195312 379.027344 323.671875 383.503906 323.671875 389.027344 \"/>\n",
       "<path style=\"fill-rule:nonzero;fill:rgb(100%,0%,0%);fill-opacity:1;stroke-width:1;stroke-linecap:butt;stroke-linejoin:miter;stroke:rgb(0%,0%,0%);stroke-opacity:1;stroke-miterlimit:10;\" d=\"M 366.328125 20 C 366.328125 25.523438 361.851562 30 356.328125 30 C 350.804688 30 346.328125 25.523438 346.328125 20 C 346.328125 14.476562 350.804688 10 356.328125 10 C 361.851562 10 366.328125 14.476562 366.328125 20 \"/>\n",
       "<path style=\"fill-rule:nonzero;fill:rgb(100%,0%,0%);fill-opacity:1;stroke-width:1;stroke-linecap:butt;stroke-linejoin:miter;stroke:rgb(0%,0%,0%);stroke-opacity:1;stroke-miterlimit:10;\" d=\"M 590 580 C 590 585.523438 585.523438 590 580 590 C 574.476562 590 570 585.523438 570 580 C 570 574.476562 574.476562 570 580 570 C 585.523438 570 590 574.476562 590 580 \"/>\n",
       "<path style=\"fill-rule:nonzero;fill:rgb(100%,0%,0%);fill-opacity:1;stroke-width:1;stroke-linecap:butt;stroke-linejoin:miter;stroke:rgb(0%,0%,0%);stroke-opacity:1;stroke-miterlimit:10;\" d=\"M 163.980469 412.859375 C 163.980469 418.382812 159.503906 422.859375 153.980469 422.859375 C 148.457031 422.859375 143.980469 418.382812 143.980469 412.859375 C 143.980469 407.339844 148.457031 402.859375 153.980469 402.859375 C 159.503906 402.859375 163.980469 407.339844 163.980469 412.859375 \"/>\n",
       "<path style=\"fill-rule:nonzero;fill:rgb(100%,0%,0%);fill-opacity:1;stroke-width:1;stroke-linecap:butt;stroke-linejoin:miter;stroke:rgb(0%,0%,0%);stroke-opacity:1;stroke-miterlimit:10;\" d=\"M 522.15625 410.445312 C 522.15625 415.964844 517.679688 420.445312 512.15625 420.445312 C 506.632812 420.445312 502.15625 415.964844 502.15625 410.445312 C 502.15625 404.921875 506.632812 400.445312 512.15625 400.445312 C 517.679688 400.445312 522.15625 404.921875 522.15625 410.445312 \"/>\n",
       "<path style=\"fill-rule:nonzero;fill:rgb(100%,0%,0%);fill-opacity:1;stroke-width:1;stroke-linecap:butt;stroke-linejoin:miter;stroke:rgb(0%,0%,0%);stroke-opacity:1;stroke-miterlimit:10;\" d=\"M 30 474.628906 C 30 480.152344 25.523438 484.628906 20 484.628906 C 14.476562 484.628906 10 480.152344 10 474.628906 C 10 469.105469 14.476562 464.628906 20 464.628906 C 25.523438 464.628906 30 469.105469 30 474.628906 \"/>\n",
       "<g style=\"fill:rgb(0%,0%,0%);fill-opacity:1;\">\n",
       "  <use xlink:href=\"#glyph0-1\" x=\"282.816406\" y=\"396.277344\"/>\n",
       "  <use xlink:href=\"#glyph0-2\" x=\"291.101562\" y=\"396.277344\"/>\n",
       "  <use xlink:href=\"#glyph0-3\" x=\"299.680664\" y=\"396.277344\"/>\n",
       "  <use xlink:href=\"#glyph0-4\" x=\"305.436523\" y=\"396.277344\"/>\n",
       "  <use xlink:href=\"#glyph0-5\" x=\"309.326172\" y=\"396.277344\"/>\n",
       "  <use xlink:href=\"#glyph0-6\" x=\"317.939453\" y=\"396.277344\"/>\n",
       "  <use xlink:href=\"#glyph0-5\" x=\"323.428711\" y=\"396.277344\"/>\n",
       "  <use xlink:href=\"#glyph0-7\" x=\"332.041992\" y=\"396.277344\"/>\n",
       "  <use xlink:href=\"#glyph0-8\" x=\"336.492188\" y=\"396.277344\"/>\n",
       "</g>\n",
       "<g style=\"fill:rgb(0%,0%,0%);fill-opacity:1;\">\n",
       "  <use xlink:href=\"#glyph0-1\" x=\"325.53125\" y=\"27.25\"/>\n",
       "  <use xlink:href=\"#glyph0-2\" x=\"333.816406\" y=\"27.25\"/>\n",
       "  <use xlink:href=\"#glyph0-3\" x=\"342.395508\" y=\"27.25\"/>\n",
       "  <use xlink:href=\"#glyph0-4\" x=\"348.151367\" y=\"27.25\"/>\n",
       "  <use xlink:href=\"#glyph0-5\" x=\"352.041016\" y=\"27.25\"/>\n",
       "  <use xlink:href=\"#glyph0-6\" x=\"360.654297\" y=\"27.25\"/>\n",
       "  <use xlink:href=\"#glyph0-5\" x=\"366.143555\" y=\"27.25\"/>\n",
       "  <use xlink:href=\"#glyph0-7\" x=\"374.756836\" y=\"27.25\"/>\n",
       "  <use xlink:href=\"#glyph0-9\" x=\"379.207031\" y=\"27.25\"/>\n",
       "</g>\n",
       "<g style=\"fill:rgb(0%,0%,0%);fill-opacity:1;\">\n",
       "  <use xlink:href=\"#glyph0-1\" x=\"549.0625\" y=\"587.25\"/>\n",
       "  <use xlink:href=\"#glyph0-2\" x=\"557.347656\" y=\"587.25\"/>\n",
       "  <use xlink:href=\"#glyph0-3\" x=\"565.926758\" y=\"587.25\"/>\n",
       "  <use xlink:href=\"#glyph0-4\" x=\"571.682617\" y=\"587.25\"/>\n",
       "  <use xlink:href=\"#glyph0-5\" x=\"575.572266\" y=\"587.25\"/>\n",
       "  <use xlink:href=\"#glyph0-6\" x=\"584.185547\" y=\"587.25\"/>\n",
       "  <use xlink:href=\"#glyph0-5\" x=\"589.674805\" y=\"587.25\"/>\n",
       "  <use xlink:href=\"#glyph0-7\" x=\"598.288086\" y=\"587.25\"/>\n",
       "  <use xlink:href=\"#glyph0-10\" x=\"602.738281\" y=\"587.25\"/>\n",
       "</g>\n",
       "<g style=\"fill:rgb(0%,0%,0%);fill-opacity:1;\">\n",
       "  <use xlink:href=\"#glyph0-1\" x=\"122.875\" y=\"420.109375\"/>\n",
       "  <use xlink:href=\"#glyph0-2\" x=\"131.160156\" y=\"420.109375\"/>\n",
       "  <use xlink:href=\"#glyph0-3\" x=\"139.739258\" y=\"420.109375\"/>\n",
       "  <use xlink:href=\"#glyph0-4\" x=\"145.495117\" y=\"420.109375\"/>\n",
       "  <use xlink:href=\"#glyph0-5\" x=\"149.384766\" y=\"420.109375\"/>\n",
       "  <use xlink:href=\"#glyph0-6\" x=\"157.998047\" y=\"420.109375\"/>\n",
       "  <use xlink:href=\"#glyph0-5\" x=\"163.487305\" y=\"420.109375\"/>\n",
       "  <use xlink:href=\"#glyph0-7\" x=\"172.100586\" y=\"420.109375\"/>\n",
       "  <use xlink:href=\"#glyph0-11\" x=\"176.550781\" y=\"420.109375\"/>\n",
       "</g>\n",
       "<g style=\"fill:rgb(0%,0%,0%);fill-opacity:1;\">\n",
       "  <use xlink:href=\"#glyph0-1\" x=\"481.269531\" y=\"417.691406\"/>\n",
       "  <use xlink:href=\"#glyph0-2\" x=\"489.554688\" y=\"417.691406\"/>\n",
       "  <use xlink:href=\"#glyph0-3\" x=\"498.133789\" y=\"417.691406\"/>\n",
       "  <use xlink:href=\"#glyph0-4\" x=\"503.889648\" y=\"417.691406\"/>\n",
       "  <use xlink:href=\"#glyph0-5\" x=\"507.779297\" y=\"417.691406\"/>\n",
       "  <use xlink:href=\"#glyph0-6\" x=\"516.392578\" y=\"417.691406\"/>\n",
       "  <use xlink:href=\"#glyph0-5\" x=\"521.881836\" y=\"417.691406\"/>\n",
       "  <use xlink:href=\"#glyph0-7\" x=\"530.495117\" y=\"417.691406\"/>\n",
       "  <use xlink:href=\"#glyph0-12\" x=\"534.945312\" y=\"417.691406\"/>\n",
       "</g>\n",
       "<g style=\"fill:rgb(0%,0%,0%);fill-opacity:1;\">\n",
       "  <use xlink:href=\"#glyph0-1\" x=\"-11.058594\" y=\"481.878906\"/>\n",
       "  <use xlink:href=\"#glyph0-2\" x=\"-2.773438\" y=\"481.878906\"/>\n",
       "  <use xlink:href=\"#glyph0-3\" x=\"5.805664\" y=\"481.878906\"/>\n",
       "  <use xlink:href=\"#glyph0-4\" x=\"11.561523\" y=\"481.878906\"/>\n",
       "  <use xlink:href=\"#glyph0-5\" x=\"15.451172\" y=\"481.878906\"/>\n",
       "  <use xlink:href=\"#glyph0-6\" x=\"24.064453\" y=\"481.878906\"/>\n",
       "  <use xlink:href=\"#glyph0-5\" x=\"29.553711\" y=\"481.878906\"/>\n",
       "  <use xlink:href=\"#glyph0-7\" x=\"38.166992\" y=\"481.878906\"/>\n",
       "  <use xlink:href=\"#glyph0-13\" x=\"42.617188\" y=\"481.878906\"/>\n",
       "</g>\n",
       "</g>\n",
       "</svg>\n"
      ],
      "text/plain": [
       "<igraph.drawing.cairo.plot.CairoPlot at 0x7fb7da5c39a0>"
      ]
     },
     "execution_count": 267,
     "metadata": {
      "image/svg+xml": {
       "isolated": true
      }
     },
     "output_type": "execute_result"
    }
   ],
   "source": [
    "\n",
    "n = len(data1)\n",
    "# Créez un graphe non orienté vide\n",
    "g = ig.Graph(directed = True)\n",
    "# Spécifiez un nom pour chaque nœud\n",
    "node_names = [f'variété {i+1}' for i in range(n) ]\n",
    "\n",
    "# Ajoutez 6 noeuds à l'arbre\n",
    "g.add_vertices(len(node_names)) \n",
    "\n",
    "\n",
    "\n",
    "\n",
    "# Ajoutez des arêtes pour connecter les noeuds et former un arbre\n",
    "for i in range(len(Liste_pedigree)):\n",
    "    \n",
    "    a,b,c = Liste_pedigree[i][0]-1, Liste_pedigree[i][1]-1,Liste_pedigree[i][2] -1\n",
    "    \n",
    "    g.add_edges([(b, a),(c,a)]) \n",
    "    # Par exemple, pour créer deux branche avec les flèches qui vont bien \n",
    "    \n",
    "#layout = g.layout('circle')\n",
    "    \n",
    "ig.plot(g,vertex_label=node_names)#, bbox=(350,500))\n",
    "\n"
   ]
  }
 ],
 "metadata": {
  "kernelspec": {
   "display_name": "Python 3 (ipykernel)",
   "language": "python",
   "name": "python3"
  },
  "language_info": {
   "codemirror_mode": {
    "name": "ipython",
    "version": 3
   },
   "file_extension": ".py",
   "mimetype": "text/x-python",
   "name": "python",
   "nbconvert_exporter": "python",
   "pygments_lexer": "ipython3",
   "version": "3.10.12"
  }
 },
 "nbformat": 4,
 "nbformat_minor": 5
}
