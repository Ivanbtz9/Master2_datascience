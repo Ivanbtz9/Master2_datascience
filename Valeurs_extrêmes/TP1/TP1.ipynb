{
 "cells": [
  {
   "cell_type": "code",
   "execution_count": 17,
   "id": "3639cf0b",
   "metadata": {},
   "outputs": [],
   "source": [
    "import numpy as np \n",
    "import numpy.random as npr\n",
    "import pandas as pd \n",
    "import matplotlib.pyplot as plt"
   ]
  },
  {
   "cell_type": "code",
   "execution_count": 4,
   "id": "2e9a01c0",
   "metadata": {},
   "outputs": [
    {
     "data": {
      "text/plain": [
       "0.5729938607277012"
      ]
     },
     "execution_count": 4,
     "metadata": {},
     "output_type": "execute_result"
    }
   ],
   "source": [
    "def Frechet_inv(u,g):\n",
    "    return (np.log(u**(-1)))**(-g)\n",
    "\n",
    "Frechet_inv(0.3,3)"
   ]
  },
  {
   "cell_type": "code",
   "execution_count": 31,
   "id": "fb531182",
   "metadata": {},
   "outputs": [
    {
     "data": {
      "text/plain": [
       "(array([486., 369., 102.,  22.,   6.,   8.,   2.,   1.,   2.,   2.]),\n",
       " array([0.67700652, 1.0692719 , 1.46153729, 1.85380268, 2.24606806,\n",
       "        2.63833345, 3.03059884, 3.42286422, 3.81512961, 4.207395  ,\n",
       "        4.59966038]),\n",
       " <BarContainer object of 10 artists>)"
      ]
     },
     "execution_count": 31,
     "metadata": {},
     "output_type": "execute_result"
    },
    {
     "data": {
      "image/png": "[encoded data removed]",
      "text/plain": [
       "<Figure size 432x288 with 1 Axes>"
      ]
     },
     "metadata": {
      "needs_background": "light"
     },
     "output_type": "display_data"
    }
   ],
   "source": [
    "K= 1000\n",
    "U = npr.rand(K)\n",
    "g=0.2\n",
    "F = []\n",
    "\n",
    "for n in range(K):\n",
    "    F.append(Frechet_inv(U[n],g))\n",
    "\n",
    "plt.hist(F,color='b')"
   ]
  }
 ],
 "metadata": {
  "kernelspec": {
   "display_name": "Python 3 (ipykernel)",
   "language": "python",
   "name": "python3"
  },
  "language_info": {
   "codemirror_mode": {
    "name": "ipython",
    "version": 3
   },
   "file_extension": ".py",
   "mimetype": "text/x-python",
   "name": "python",
   "nbconvert_exporter": "python",
   "pygments_lexer": "ipython3",
   "version": "3.10.12"
  }
 },
 "nbformat": 4,
 "nbformat_minor": 5
}
