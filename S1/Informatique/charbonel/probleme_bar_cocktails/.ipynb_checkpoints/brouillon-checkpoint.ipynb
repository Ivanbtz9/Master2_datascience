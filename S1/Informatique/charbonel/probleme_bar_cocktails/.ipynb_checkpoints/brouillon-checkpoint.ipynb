{
 "cells": [
  {
   "cell_type": "code",
   "execution_count": 4,
   "id": "9c1119da",
   "metadata": {},
   "outputs": [
    {
     "data": {
      "text/plain": [
       "[['1 pastis'], ['2 demis'], ['1 ti-punch ', ' 1 planteur']]"
      ]
     },
     "execution_count": 4,
     "metadata": {},
     "output_type": "execute_result"
    }
   ],
   "source": [
    "liste_commandes = [\"1 pastis\" ,\"2 demis\",\"1 ti-punch + 1 planteur\"]\n",
    "\n",
    "for i in range(len(liste_commandes)):\n",
    "    liste_commandes[i] = liste_commandes[i].split('+')\n"
   ]
  },
  {
   "cell_type": "code",
   "execution_count": 1,
   "id": "61ac557c",
   "metadata": {},
   "outputs": [
    {
     "name": "stdout",
     "output_type": "stream",
     "text": [
      "ofif\n",
      "hdjd\n"
     ]
    }
   ],
   "source": [
    "import time\n",
    "\n",
    "print('ofif')\n",
    "time.sleep(1)\n",
    "print('hdjd')"
   ]
  },
  {
   "cell_type": "code",
   "execution_count": 1,
   "id": "c88cc4c1",
   "metadata": {},
   "outputs": [
    {
     "data": {
      "text/plain": [
       "9"
      ]
     },
     "execution_count": 1,
     "metadata": {},
     "output_type": "execute_result"
    }
   ],
   "source": [
    "l = ['hbchs',4,\"hdb\",9]\n",
    "l.pop()"
   ]
  },
  {
   "cell_type": "code",
   "execution_count": 14,
   "id": "eea6a6cc",
   "metadata": {},
   "outputs": [],
   "source": [
    "import logging\n",
    "\n",
    "\n",
    "logging.basicConfig(filename='brouillon.log',\n",
    "                    level=logging.DEBUG,\n",
    "                    format='%(asctime)s - %(levelname)s - %(message)s')\n",
    "\n",
    "# Enregistrement de quelques messages\n",
    "logging.debug('Ceci est un message de débogage.')\n",
    "logging.info('Ceci est un message informatif.')\n",
    "logging.warning('Ceci est un avertissement.')\n",
    "logging.error('Ceci est une erreur.')\n",
    "logging.critical('Ceci est une erreur critique.')\n",
    "\n",
    "# Fermeture du gestionnaire de journalisation (optionnel)\n",
    "logging.shutdown()\n",
    "\n",
    "\n",
    "\n"
   ]
  },
  {
   "cell_type": "code",
   "execution_count": 18,
   "id": "bf9520b9",
   "metadata": {},
   "outputs": [
    {
     "name": "stdout",
     "output_type": "stream",
     "text": [
      "2023_0001-01-01 00:00:00_2_7_0001-01-01 00:00:00_57\n"
     ]
    }
   ],
   "source": [
    "import datetime\n",
    "\n",
    "y = datetime.datetime.now().year\n",
    "m = datetime.datetime.now().month\n",
    "d = datetime.datetime.now().day\n",
    "h = datetime.datetime.now().hour\n",
    "m = datetime.datetime.now().min\n",
    "s = datetime.datetime.now().second\n",
    "print(f'{y}_{m}_{d}_{h}_{m}_{s}')"
   ]
  }
 ],
 "metadata": {
  "kernelspec": {
   "display_name": "Python 3 (ipykernel)",
   "language": "python",
   "name": "python3"
  },
  "language_info": {
   "codemirror_mode": {
    "name": "ipython",
    "version": 3
   },
   "file_extension": ".py",
   "mimetype": "text/x-python",
   "name": "python",
   "nbconvert_exporter": "python",
   "pygments_lexer": "ipython3",
   "version": "3.10.12"
  }
 },
 "nbformat": 4,
 "nbformat_minor": 5
}
