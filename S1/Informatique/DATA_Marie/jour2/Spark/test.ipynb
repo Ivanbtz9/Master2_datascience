{
 "cells": [
  {
   "cell_type": "code",
   "execution_count": 2,
   "metadata": {},
   "outputs": [],
   "source": [
    "\n",
    "import os \n",
    "from pyspark.sql import SparkSession\n",
    "\n",
    "path = '/home/ibotcazou/Bureau/Master_data_science/DATAS_M2/Informatique_charbonel_Marie/DATA_Marie/projet_spark'\n",
    "\n",
    "L = os.listdir(path)"
   ]
  },
  {
   "cell_type": "code",
   "execution_count": 12,
   "metadata": {},
   "outputs": [
    {
     "name": "stdout",
     "output_type": "stream",
     "text": [
      "vehicules_2018.csv\n",
      "vehicules_2014.csv\n",
      "vehicules_2011.csv\n",
      "vehicules_2015.csv\n",
      "vehicules_2013.csv\n",
      "vehicules_2016.csv\n",
      "vehicules_2012.csv\n",
      "vehicules_2017.csv\n"
     ]
    }
   ],
   "source": [
    "Annees = range(2012,2019)\n",
    "\n",
    "car,usa,lieux,vehi = {},{},{},{}\n",
    "\n",
    "for i in L:\n",
    "    if i.startswith('vehicule'):\n",
    "        print(i)\n",
    "\n",
    "#vehicules_2018.csv\n",
    "#lieux_2015.csv\n",
    "#caracteristiques_2018.csv\n",
    "#vehicules_2018.csv"
   ]
  }
 ],
 "metadata": {
  "kernelspec": {
   "display_name": "Python 3 (ipykernel)",
   "language": "python",
   "name": "python3"
  },
  "language_info": {
   "codemirror_mode": {
    "name": "ipython",
    "version": 3
   },
   "file_extension": ".py",
   "mimetype": "text/x-python",
   "name": "python",
   "nbconvert_exporter": "python",
   "pygments_lexer": "ipython3",
   "version": "3.10.12"
  }
 },
 "nbformat": 4,
 "nbformat_minor": 2
}
