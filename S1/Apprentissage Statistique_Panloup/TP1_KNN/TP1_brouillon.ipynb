{
 "cells": [
  {
   "cell_type": "code",
   "execution_count": 103,
   "id": "7061f38c",
   "metadata": {},
   "outputs": [],
   "source": [
    "import numpy as np\n",
    "import numpy.random as npr\n",
    "import pandas as pd \n",
    "import seaborn as sb\n",
    "import matplotlib.pyplot as plt\n",
    "from sklearn.model_selection import train_test_split"
   ]
  },
  {
   "cell_type": "code",
   "execution_count": 33,
   "id": "7de38acc",
   "metadata": {},
   "outputs": [
    {
     "data": {
      "text/plain": [
       "(100, 2)"
      ]
     },
     "execution_count": 33,
     "metadata": {},
     "output_type": "execute_result"
    }
   ],
   "source": [
    "n = 100\n",
    "\n",
    "alpha = 0.2\n",
    "beta = 0.4\n",
    "\n",
    "def loi_y_sach_x(X,alpha,beta):\n",
    "    if abs(X[0]+2*X[1]) <=1:\n",
    "        return alpha\n",
    "    else:\n",
    "        return beta\n",
    "    \n",
    "X = npr.rand(n)\n",
    "\n",
    "p_X = loi_y_sach_x(X,alpha,beta)\n",
    "\n",
    "Y = npr.binomial(1, p_X, n)\n",
    "\n",
    "D_n = np.vstack((X,Y)).T\n",
    "D_n.shape"
   ]
  },
  {
   "cell_type": "code",
   "execution_count": 119,
   "id": "d0ac749d",
   "metadata": {},
   "outputs": [
    {
     "name": "stdout",
     "output_type": "stream",
     "text": [
      "train =  (20, 2)\n",
      "test =  (90, 2)\n"
     ]
    }
   ],
   "source": [
    "rate_test =0.2\n",
    "trainsize= int(np.floor(rate_test*n))\n",
    "\n",
    "sample_bool = np.random.choice(np.arange(0,n+1), trainsize)\n",
    "train = D_n[sample_bool,:] \n",
    "\n",
    "print('train = ',train.shape)\n",
    "\n",
    "# Trouver les indices des lignes de D_n présentes dans train\n",
    "indices = np.where(np.isin(D_n,train).all(axis=1))\n",
    "\n",
    "# Supprimer les lignes de D_n qui sont présentes dans train \n",
    "test = np.delete(D_n, indices_a_in_b, axis=0)\n",
    "\n",
    "print('test = ',test.shape)\n",
    "\n"
   ]
  },
  {
   "cell_type": "code",
   "execution_count": 111,
   "id": "18f14729",
   "metadata": {},
   "outputs": [
    {
     "data": {
      "text/plain": [
       "array([0.12262751, 0.69152128, 0.50577245, 0.03024948, 0.88147644,\n",
       "       0.08415158, 0.8892459 , 0.99189616, 0.07760924, 0.18186749,\n",
       "       0.78748076, 0.44626042, 0.17731109, 0.22325221, 0.09818197,\n",
       "       0.79995688, 0.7918932 , 0.30654166, 0.27505324, 0.49471989,\n",
       "       0.95898675, 0.98125102, 0.49697097, 0.57665112, 0.04280038,\n",
       "       0.71658194, 0.83455996, 0.51759642, 0.9306425 , 0.43560317])"
      ]
     },
     "execution_count": 111,
     "metadata": {},
     "output_type": "execute_result"
    }
   ],
   "source": [
    "X_train,X_test,Y_train,Y_test = train_test_split(D_n[:,0],\n",
    "                                                 D_n[:,1],\n",
    "                                                 test_size=0.3,\n",
    "                                                 random_state=42)\n",
    "X_test\n"
   ]
  },
  {
   "cell_type": "code",
   "execution_count": 127,
   "id": "a5d731fc",
   "metadata": {},
   "outputs": [
    {
     "data": {
      "text/plain": [
       "<matplotlib.collections.PathCollection at 0x7fa809b89e40>"
      ]
     },
     "execution_count": 127,
     "metadata": {},
     "output_type": "execute_result"
    },
    {
     "data": {
      "image/png": "[encoded data removed]",
      "text/plain": [
       "<Figure size 432x288 with 1 Axes>"
      ]
     },
     "metadata": {
      "needs_background": "light"
     },
     "output_type": "display_data"
    }
   ],
   "source": [
    "plt.scatter(X_train,Y_train, c = Y_train)"
   ]
  },
  {
   "cell_type": "code",
   "execution_count": 7,
   "id": "ecfe4bf6",
   "metadata": {},
   "outputs": [
    {
     "name": "stdout",
     "output_type": "stream",
     "text": [
      "3\n",
      "2\n",
      "1\n",
      "0\n"
     ]
    }
   ],
   "source": [
    "for i in range(0,4)[::-1]:\n",
    "    print(i)"
   ]
  }
 ],
 "metadata": {
  "kernelspec": {
   "display_name": "Python 3 (ipykernel)",
   "language": "python",
   "name": "python3"
  },
  "language_info": {
   "codemirror_mode": {
    "name": "ipython",
    "version": 3
   },
   "file_extension": ".py",
   "mimetype": "text/x-python",
   "name": "python",
   "nbconvert_exporter": "python",
   "pygments_lexer": "ipython3",
   "version": "3.10.12"
  }
 },
 "nbformat": 4,
 "nbformat_minor": 5
}
