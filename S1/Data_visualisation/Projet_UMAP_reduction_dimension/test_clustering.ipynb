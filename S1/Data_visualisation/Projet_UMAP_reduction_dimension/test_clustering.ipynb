{
 "cells": [
  {
   "cell_type": "code",
   "execution_count": 1,
   "id": "3fbac18f",
   "metadata": {},
   "outputs": [],
   "source": [
    "import numpy as np \n",
    "import numpy.random as npr\n",
    "import matplotlib.pyplot as plt\n"
   ]
  },
  {
   "cell_type": "code",
   "execution_count": 6,
   "id": "27cd6e2f",
   "metadata": {},
   "outputs": [
    {
     "data": {
      "text/plain": [
       "array([[  2.19453465,   6.71126748],\n",
       "       [  4.36503884, -25.20139406],\n",
       "       [ -3.56056009, -16.55427036],\n",
       "       [  5.3304432 ,   7.85994413],\n",
       "       [-22.23241376,  12.68628559]])"
      ]
     },
     "execution_count": 6,
     "metadata": {},
     "output_type": "execute_result"
    }
   ],
   "source": [
    "sigma1 = 2\n",
    "mu1 = 1\n",
    "mu2 = 2\n",
    "\n",
    "C1 = npr.randn(n,2) *sigma* np.ones((5,1)) + np.array([mu1,mu2])"
   ]
  }
 ],
 "metadata": {
  "kernelspec": {
   "display_name": "Python 3 (ipykernel)",
   "language": "python",
   "name": "python3"
  },
  "language_info": {
   "codemirror_mode": {
    "name": "ipython",
    "version": 3
   },
   "file_extension": ".py",
   "mimetype": "text/x-python",
   "name": "python",
   "nbconvert_exporter": "python",
   "pygments_lexer": "ipython3",
   "version": "3.10.12"
  }
 },
 "nbformat": 4,
 "nbformat_minor": 5
}
