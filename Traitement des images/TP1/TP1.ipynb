{
 "cells": [
  {
   "cell_type": "code",
   "execution_count": 1,
   "metadata": {},
   "outputs": [],
   "source": [
    "import numpy as np\n",
    "import pandas as pd \n",
    "import matplotlib.pyplot as plt \n",
    "import os "
   ]
  },
  {
   "cell_type": "code",
   "execution_count": 4,
   "id": "1efc263e",
   "metadata": {},
   "outputs": [
    {
     "data": {
      "text/plain": [
       "['Arabette2.png',\n",
       " 'seedsincoat.png',\n",
       " '.DS_Store',\n",
       " 'amour.bmp',\n",
       " 'meb.bmp',\n",
       " 'Lettuce1.jpg',\n",
       " 'Lettuce2.jpg',\n",
       " 'morpho.bmp',\n",
       " 'spot.bmp',\n",
       " 'regle.bmp',\n",
       " 'muscle.bmp',\n",
       " 'clef.bmp',\n",
       " 'quito.bmp',\n",
       " 'leaf.jpg',\n",
       " 'lena.bmp']"
      ]
     },
     "execution_count": 4,
     "metadata": {},
     "output_type": "execute_result"
    }
   ],
   "source": [
    "path = os.getcwd()+'/HandsOn'\n",
    "os.listdir(path)"
   ]
  },
  {
   "cell_type": "code",
   "execution_count": 5,
   "id": "595c7204",
   "metadata": {},
   "outputs": [
    {
     "data": {
      "text/plain": [
       "256"
      ]
     },
     "execution_count": 5,
     "metadata": {},
     "output_type": "execute_result"
    }
   ],
   "source": [
    "2**8"
   ]
  }
 ],
 "metadata": {
  "kernelspec": {
   "display_name": "Python 3",
   "language": "python",
   "name": "python3"
  },
  "language_info": {
   "codemirror_mode": {
    "name": "ipython",
    "version": 3
   },
   "file_extension": ".py",
   "mimetype": "text/x-python",
   "name": "python",
   "nbconvert_exporter": "python",
   "pygments_lexer": "ipython3",
   "version": "3.10.12"
  }
 },
 "nbformat": 4,
 "nbformat_minor": 5
}
