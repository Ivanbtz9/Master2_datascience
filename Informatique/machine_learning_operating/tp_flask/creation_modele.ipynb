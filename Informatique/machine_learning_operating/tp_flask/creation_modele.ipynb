{
 "cells": [
  {
   "cell_type": "markdown",
   "metadata": {},
   "source": [
    "# Un modèle très simple"
   ]
  },
  {
   "cell_type": "code",
   "execution_count": 5,
   "metadata": {},
   "outputs": [],
   "source": [
    "import numpy as np\n",
    "import pandas as pd\n",
    "from joblib import dump, load \n",
    "from numpy.random import default_rng\n",
    "from sklearn.linear_model import LinearRegression\n",
    "from sklearn.model_selection import train_test_split\n",
    "from sklearn.metrics import mean_squared_error"
   ]
  },
  {
   "cell_type": "code",
   "execution_count": 6,
   "metadata": {},
   "outputs": [],
   "source": [
    "rng = default_rng() # créer un générateur de variables aléatoire \n",
    "moyennes = np.array([12, 28, 47])\n",
    "X = rng.multivariate_normal(mean = moyennes, cov = np.eye(3), size = 1000)"
   ]
  },
  {
   "cell_type": "code",
   "execution_count": 7,
   "metadata": {},
   "outputs": [],
   "source": [
    "y = 2*X[:,0] + 3*X[:,1] - X[:,2] + rng.normal(loc = 0, scale = 0.7, size = 1000)"
   ]
  },
  {
   "cell_type": "code",
   "execution_count": 8,
   "metadata": {},
   "outputs": [],
   "source": [
    "X_train, X_test, y_train, y_test = train_test_split(X, y, test_size = 0.8)"
   ]
  },
  {
   "cell_type": "code",
   "execution_count": 9,
   "metadata": {},
   "outputs": [
    {
     "data": {
      "text/plain": [
       "0.6948627588645375"
      ]
     },
     "execution_count": 9,
     "metadata": {},
     "output_type": "execute_result"
    }
   ],
   "source": [
    "model = LinearRegression()\n",
    "model.fit(X_train, y_train)\n",
    "y_pred = model.predict(X_test)\n",
    "mean_squared_error(y_test, y_pred, squared = False)"
   ]
  },
  {
   "cell_type": "code",
   "execution_count": 10,
   "metadata": {},
   "outputs": [
    {
     "data": {
      "text/plain": [
       "['linear_model.joblib']"
      ]
     },
     "execution_count": 10,
     "metadata": {},
     "output_type": "execute_result"
    }
   ],
   "source": [
    "dump(model, \"linear_model.joblib\")"
   ]
  },
  {
   "cell_type": "code",
   "execution_count": 15,
   "metadata": {},
   "outputs": [],
   "source": [
    "X_new = rng.multivariate_normal(mean = moyennes, cov = np.eye(3), size = 200)\n",
    "y_new = 2*X_new[:,0] + 3*X_new[:,1] - X_new[:,2] + \\\n",
    "        rng.normal(loc = 0, scale = 0.7, size = 200)\n",
    "y_new = y_new.reshape((200, 1))"
   ]
  },
  {
   "cell_type": "code",
   "execution_count": 25,
   "metadata": {},
   "outputs": [
    {
     "data": {
      "text/plain": [
       "True"
      ]
     },
     "execution_count": 25,
     "metadata": {},
     "output_type": "execute_result"
    }
   ],
   "source": [
    "X_new.dtype == float"
   ]
  },
  {
   "cell_type": "code",
   "execution_count": 19,
   "metadata": {},
   "outputs": [
    {
     "data": {
      "text/plain": [
       "array([69.43001646, 61.24886919, 64.55316028, 57.83342624, 60.31146774,\n",
       "       58.05589218, 56.48275206, 62.14524719, 61.0925425 , 60.68992247,\n",
       "       61.86792756, 54.98100821, 58.87101241, 58.4777477 , 60.55799294,\n",
       "       59.23456685, 64.62615469, 59.85901733, 65.77091219, 57.0788609 ,\n",
       "       60.93603086, 58.50709732, 62.23097586, 59.96061051, 60.48957716,\n",
       "       62.97511646, 61.56802045, 67.57672174, 55.95023748, 57.14600873,\n",
       "       59.79246381, 63.16985518, 62.84622727, 64.95715301, 57.4474068 ,\n",
       "       64.40294974, 68.73450007, 62.15593468, 59.58212285, 60.72291768,\n",
       "       68.22450383, 60.1781305 , 53.20907794, 59.44742682, 55.97262988,\n",
       "       54.54728987, 65.40020189, 57.84014632, 65.12072856, 59.7235106 ,\n",
       "       63.01218923, 62.38019589, 64.31949688, 65.9236962 , 67.03414846,\n",
       "       57.9306616 , 58.91822569, 62.13131941, 66.18379659, 61.48600822,\n",
       "       64.67528433, 64.03943724, 68.51646438, 71.60907938, 59.22625028,\n",
       "       58.82316109, 53.88412901, 61.82995683, 60.07592837, 62.80845216,\n",
       "       58.88453914, 63.70204772, 60.35382458, 59.44534451, 62.02950051,\n",
       "       52.99922378, 63.5379652 , 61.86841425, 64.3045985 , 60.51710899,\n",
       "       64.53162462, 65.41316296, 62.5874316 , 61.88154094, 55.32695353,\n",
       "       64.0853072 , 54.51166949, 58.71532794, 63.3737346 , 67.96124482,\n",
       "       62.31096997, 61.75362431, 58.92917765, 59.47160638, 57.61830886,\n",
       "       54.51592773, 60.48089673, 61.28742462, 58.9607561 , 59.3499531 ,\n",
       "       60.53390049, 64.34227919, 68.52316769, 60.57187888, 66.63059163,\n",
       "       59.61588306, 67.70746861, 63.6863766 , 66.68132777, 62.21041483,\n",
       "       64.31530722, 59.547539  , 61.82239088, 59.91119768, 66.54095761,\n",
       "       59.72308877, 58.85175511, 66.75007183, 56.12344203, 69.09252977,\n",
       "       58.79892403, 64.323317  , 62.48347233, 60.69727811, 65.12752306,\n",
       "       61.60027053, 63.24970462, 65.13947453, 66.15933311, 67.10071451,\n",
       "       54.90703015, 61.63594997, 71.47551047, 66.93620986, 58.65844655,\n",
       "       62.1382359 , 64.63285022, 63.40009078, 58.94395762, 60.36006832,\n",
       "       61.80343413, 60.63595243, 64.54264827, 61.48397811, 65.0359314 ,\n",
       "       53.96033348, 62.08312538, 62.56445218, 63.37148105, 63.90060421,\n",
       "       61.20524726, 58.78627265, 61.58116942, 64.33816854, 63.49686029,\n",
       "       61.88706814, 56.13985585, 55.99370086, 56.87807413, 64.46456643,\n",
       "       56.82723693, 64.13222684, 62.58696105, 63.18222519, 62.77838505,\n",
       "       66.6467496 , 59.95348922, 57.5050388 , 58.31863198, 56.27889797,\n",
       "       58.50753025, 59.79540986, 55.54583281, 58.05327616, 67.69314204,\n",
       "       59.51342335, 66.44096438, 58.96808916, 61.36186051, 62.58268816,\n",
       "       62.30183415, 63.66988644, 58.54341153, 58.05732491, 67.05463609,\n",
       "       56.72649208, 59.69081448, 59.90494117, 67.48534576, 58.85546712,\n",
       "       63.29645961, 57.31713545, 59.45908571, 60.75391992, 57.83246566,\n",
       "       59.33317813, 60.53263934, 56.88160519, 66.44863432, 60.15244544])"
      ]
     },
     "execution_count": 19,
     "metadata": {},
     "output_type": "execute_result"
    }
   ],
   "source": [
    "import joblib\n",
    "\n",
    "# Charger un modèle pré-entraîné depuis un fichier\n",
    "model = joblib.load('linear_model.joblib')\n",
    "\n",
    "# Utiliser le modèle pour effectuer des prédictions\n",
    "predictions = model.predict(X_new)\n",
    "\n",
    "predictions"
   ]
  },
  {
   "cell_type": "code",
   "execution_count": 17,
   "metadata": {},
   "outputs": [],
   "source": [
    "pd.DataFrame(X_new).to_json('data_for_prediction.json')\n",
    "pd.DataFrame(y_new).to_json('Y_true.json')"
   ]
  },
  {
   "cell_type": "code",
   "execution_count": 12,
   "metadata": {},
   "outputs": [
    {
     "data": {
      "text/html": [
       "<div>\n",
       "<style scoped>\n",
       "    .dataframe tbody tr th:only-of-type {\n",
       "        vertical-align: middle;\n",
       "    }\n",
       "\n",
       "    .dataframe tbody tr th {\n",
       "        vertical-align: top;\n",
       "    }\n",
       "\n",
       "    .dataframe thead th {\n",
       "        text-align: right;\n",
       "    }\n",
       "</style>\n",
       "<table border=\"1\" class=\"dataframe\">\n",
       "  <thead>\n",
       "    <tr style=\"text-align: right;\">\n",
       "      <th></th>\n",
       "      <th>X0</th>\n",
       "      <th>X1</th>\n",
       "      <th>X2</th>\n",
       "      <th>y</th>\n",
       "    </tr>\n",
       "  </thead>\n",
       "  <tbody>\n",
       "    <tr>\n",
       "      <th>0</th>\n",
       "      <td>9.614260</td>\n",
       "      <td>27.156056</td>\n",
       "      <td>47.106173</td>\n",
       "      <td>54.760715</td>\n",
       "    </tr>\n",
       "    <tr>\n",
       "      <th>1</th>\n",
       "      <td>12.695900</td>\n",
       "      <td>28.267596</td>\n",
       "      <td>47.698899</td>\n",
       "      <td>63.321693</td>\n",
       "    </tr>\n",
       "    <tr>\n",
       "      <th>2</th>\n",
       "      <td>12.417694</td>\n",
       "      <td>29.834119</td>\n",
       "      <td>48.019882</td>\n",
       "      <td>65.503604</td>\n",
       "    </tr>\n",
       "    <tr>\n",
       "      <th>3</th>\n",
       "      <td>10.326333</td>\n",
       "      <td>27.830442</td>\n",
       "      <td>45.970274</td>\n",
       "      <td>57.298725</td>\n",
       "    </tr>\n",
       "    <tr>\n",
       "      <th>4</th>\n",
       "      <td>11.984529</td>\n",
       "      <td>28.855772</td>\n",
       "      <td>46.412890</td>\n",
       "      <td>63.398476</td>\n",
       "    </tr>\n",
       "  </tbody>\n",
       "</table>\n",
       "</div>"
      ],
      "text/plain": [
       "          X0         X1         X2          y\n",
       "0   9.614260  27.156056  47.106173  54.760715\n",
       "1  12.695900  28.267596  47.698899  63.321693\n",
       "2  12.417694  29.834119  48.019882  65.503604\n",
       "3  10.326333  27.830442  45.970274  57.298725\n",
       "4  11.984529  28.855772  46.412890  63.398476"
      ]
     },
     "execution_count": 12,
     "metadata": {},
     "output_type": "execute_result"
    }
   ],
   "source": [
    "df_new = pd.DataFrame(np.concatenate([X_new, y_new], axis = 1), \n",
    "                      columns = [\"X0\", \"X1\", \"X2\", \"y\"])\n",
    "df_new.head()"
   ]
  },
  {
   "cell_type": "code",
   "execution_count": 14,
   "metadata": {},
   "outputs": [],
   "source": [
    "df_new.to_csv('new_data.csv')"
   ]
  }
 ],
 "metadata": {
  "interpreter": {
   "hash": "c6e1d2fe8f21339dfa0e23d85332aa608d82d7d2017b2b928f44843a7d0abd6d"
  },
  "kernelspec": {
   "display_name": "Python 3",
   "language": "python",
   "name": "python3"
  },
  "language_info": {
   "codemirror_mode": {
    "name": "ipython",
    "version": 3
   },
   "file_extension": ".py",
   "mimetype": "text/x-python",
   "name": "python",
   "nbconvert_exporter": "python",
   "pygments_lexer": "ipython3",
   "version": "3.10.12"
  }
 },
 "nbformat": 4,
 "nbformat_minor": 2
}
