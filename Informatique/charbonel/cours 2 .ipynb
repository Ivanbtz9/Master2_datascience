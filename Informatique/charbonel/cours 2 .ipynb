{
 "cells": [
  {
   "cell_type": "code",
   "execution_count": 48,
   "id": "16b547d7",
   "metadata": {},
   "outputs": [],
   "source": [
    "import requests\n",
    "import time\n",
    "import random as rd\n",
    "import numpy as np "
   ]
  },
  {
   "cell_type": "code",
   "execution_count": 42,
   "id": "8fe28f5f",
   "metadata": {},
   "outputs": [
    {
     "name": "stdout",
     "output_type": "stream",
     "text": [
      "1, Code de retour HTTP : 200, Octets récupérés : 22790, Temps pris : 0.25 secondes\n",
      "0.25012922286987305\n",
      "1, Erreur : Invalid URL 'google.com': No scheme supplied. Perhaps you meant https://google.com?\n"
     ]
    }
   ],
   "source": [
    "##################################################################\n",
    "#Web scraping - aiohttp\n",
    "##################################################################\n",
    "\n",
    "\n",
    "#### APPLICATION 1 : Un client mono-tâche\n",
    "\n",
    "##Q1\n",
    "\n",
    "def fetch(url, id):\n",
    "    # Enregistrez l'heure de début de la requête\n",
    "    start_time = time.time()\n",
    "\n",
    "    try:\n",
    "        # Effectuez la requête HTTP GET\n",
    "        response = requests.get(url)\n",
    "\n",
    "        # Obtenez le code de retour HTTP\n",
    "        http_status_code = response.status_code ## ICI 200 ou  401\n",
    "\n",
    "        # Obtenez le contenu de la réponse en bytes\n",
    "        response_bytes = response.content\n",
    "        #print(response_bytes)\n",
    "\n",
    "        # Calculez le nombre d'octets récupérés\n",
    "        num_bytes = len(response_bytes)\n",
    "\n",
    "        # Calculez le temps pris par la requête en secondes\n",
    "        elapsed_time = time.time() - start_time\n",
    "\n",
    "        # Affichez les informations\n",
    "        print(f\"{id}, Code de retour HTTP : {http_status_code}, Octets récupérés : {num_bytes}, Temps pris : {elapsed_time:.2f} secondes\")\n",
    "        return elapsed_time\n",
    "    \n",
    "    except requests.exceptions.RequestException as e:\n",
    "        # En cas d'erreur lors de la requête\n",
    "        print(f\"{id}, Erreur : {e}\")\n",
    "\n",
    "# Exemple d'utilisation de la fonction fetch\n",
    "url = 'https://google.com'  # Remplacez par l'URL de votre choix\n",
    "id = 1  # ID de votre choix\n",
    "\n",
    "print(fetch(url, id))\n",
    "\n",
    "url = 'google.com'  # Remplacez par l'URL de votre choix\n",
    "id = 1  # ID de votre choix\n",
    "\n",
    "fetch(url, id)\n",
    "\n"
   ]
  },
  {
   "cell_type": "code",
   "execution_count": 56,
   "id": "246fe3b8",
   "metadata": {},
   "outputs": [
    {
     "name": "stdout",
     "output_type": "stream",
     "text": [
      "133, Code de retour HTTP : 200, Octets récupérés : 660422, Temps pris : 0.15 secondes\n",
      "229, Code de retour HTTP : 200, Octets récupérés : 152161, Temps pris : 0.66 secondes\n",
      "59, Code de retour HTTP : 200, Octets récupérés : 661729, Temps pris : 0.59 secondes\n",
      "109, Code de retour HTTP : 200, Octets récupérés : 61753, Temps pris : 0.31 secondes\n",
      "235, Code de retour HTTP : 200, Octets récupérés : 379068, Temps pris : 0.73 secondes\n",
      "32, Code de retour HTTP : 200, Octets récupérés : 1020, Temps pris : 0.14 secondes\n",
      "130, Code de retour HTTP : 200, Octets récupérés : 831389, Temps pris : 0.28 secondes\n",
      "190, Code de retour HTTP : 200, Octets récupérés : 22841, Temps pris : 0.16 secondes\n",
      "18, Code de retour HTTP : 200, Octets récupérés : 86351, Temps pris : 0.15 secondes\n",
      "108, Code de retour HTTP : 200, Octets récupérés : 9812, Temps pris : 0.12 secondes\n",
      "150, Code de retour HTTP : 200, Octets récupérés : 2607980, Temps pris : 0.46 secondes\n",
      "198, Code de retour HTTP : 200, Octets récupérés : 243692, Temps pris : 0.19 secondes\n",
      "81, Code de retour HTTP : 200, Octets récupérés : 488747, Temps pris : 0.62 secondes\n",
      "125, Code de retour HTTP : 503, Octets récupérés : 2671, Temps pris : 0.23 secondes\n",
      "53, Code de retour HTTP : 200, Octets récupérés : 123371, Temps pris : 0.50 secondes\n",
      "172, Code de retour HTTP : 200, Octets récupérés : 285441, Temps pris : 0.39 secondes\n",
      "188, Code de retour HTTP : 200, Octets récupérés : 238812, Temps pris : 0.32 secondes\n",
      "235, Code de retour HTTP : 200, Octets récupérés : 178447, Temps pris : 0.88 secondes\n",
      "\n",
      "\n",
      "Temps cumulé =  [0.14707422 0.81066251 1.39779019 1.70847893 2.43600464 2.57710266\n",
      " 2.85301328 3.00836682 3.15949607 3.2837534  3.74287629 3.93022728\n",
      " 4.55005813 4.78460383 5.28601384 5.67639089 5.99972129 6.88415909] \n",
      "\n",
      "Temps total =  6.884159088134766\n"
     ]
    }
   ],
   "source": [
    "##Q2,Q3\n",
    "\n",
    "URL = ['https://www.google.com',\n",
    "       'https://www.facebook.com',\n",
    "       'https://www.twitter.com',\n",
    "        'https://www.youtube.com',\n",
    "        'https://www.linkedin.com',\n",
    "        'https://www.instagram.com',\n",
    "        'https://www.github.com',\n",
    "        'https://www.wikipedia.org',\n",
    "        'https://www.nytimes.com',\n",
    "        'https://www.amazon.com',\n",
    "        'https://www.apple.com',\n",
    "        'https://www.microsoft.com',\n",
    "        'https://www.reddit.com',\n",
    "        'https://www.stackoverflow.com',\n",
    "        'https://www.quora.com',\n",
    "        'https://www.cnn.com',\n",
    "        'https://www.bbc.com',\n",
    "        'https://www.nationalgeographic.com',\n",
    "        'https://www.nasa.gov',\n",
    "        'https://www.ebay.com']\n",
    "\n",
    "\n",
    "n = rd.randint(1,len(URL))\n",
    "url = URL\n",
    "times =[]\n",
    "for i in range(n):\n",
    "    id = rd.randint(0,255)\n",
    "    u = rd.choice(url)\n",
    "    times.append(fetch(u, id))\n",
    "    url.remove(u)\n",
    "\n",
    "print('\\n\\nTemps cumulé = ', np.cumsum(np.array(times)), '\\n\\nTemps total = ',np.array(times).sum())"
   ]
  },
  {
   "cell_type": "code",
   "execution_count": 53,
   "id": "d8759c64",
   "metadata": {},
   "outputs": [
    {
     "name": "stdout",
     "output_type": "stream",
     "text": [
      "temps cumulé =  [0.13165879 1.17556763 2.52038217 3.38453841 3.57052946 4.10991883\n",
      " 4.48373985] \n",
      "\n",
      "temps total =  4.483739852905273\n"
     ]
    }
   ],
   "source": []
  }
 ],
 "metadata": {
  "kernelspec": {
   "display_name": "Python 3 (ipykernel)",
   "language": "python",
   "name": "python3"
  },
  "language_info": {
   "codemirror_mode": {
    "name": "ipython",
    "version": 3
   },
   "file_extension": ".py",
   "mimetype": "text/x-python",
   "name": "python",
   "nbconvert_exporter": "python",
   "pygments_lexer": "ipython3",
   "version": "3.11.4"
  }
 },
 "nbformat": 4,
 "nbformat_minor": 5
}
