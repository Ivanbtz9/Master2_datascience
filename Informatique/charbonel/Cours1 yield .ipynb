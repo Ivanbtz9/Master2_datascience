{
 "cells": [
  {
   "cell_type": "code",
   "execution_count": 79,
   "id": "80b93a4d",
   "metadata": {},
   "outputs": [],
   "source": [
    "##EXO 1"
   ]
  },
  {
   "cell_type": "code",
   "execution_count": 78,
   "id": "e2f0926a",
   "metadata": {},
   "outputs": [
    {
     "name": "stdout",
     "output_type": "stream",
     "text": [
      "n= 0 u_n = 1\n",
      "n= 1 u_n = 1\n",
      "n= 2 u_n = 2\n",
      "n= 3 u_n = 3\n",
      "n= 4 u_n = 5\n"
     ]
    }
   ],
   "source": [
    "def fib():\n",
    "    u0 = 1\n",
    "    u1 = 1\n",
    "    while True: #True\n",
    "        yield u0\n",
    "        stock = u1\n",
    "        u1 = u1+u0\n",
    "        u0 =stock\n",
    "        \n",
    "\n",
    "f = fib()    \n",
    "\n",
    "for i in range(5):   \n",
    "    u0 = next(f)\n",
    "    print('n=' , i,'u_n =',u0)\n"
   ]
  },
  {
   "cell_type": "code",
   "execution_count": null,
   "id": "90c5d738",
   "metadata": {},
   "outputs": [],
   "source": [
    "## EXO2"
   ]
  },
  {
   "cell_type": "code",
   "execution_count": 30,
   "id": "5b3fddc0",
   "metadata": {},
   "outputs": [
    {
     "name": "stdout",
     "output_type": "stream",
     "text": [
      "5.000630140304565\n",
      "7.001274347305298\n"
     ]
    }
   ],
   "source": [
    "import time\n",
    "\n",
    "def chrono():\n",
    "    t0 = time.time()\n",
    "    yield t0\n",
    "    t1 = time.time()\n",
    "    yield t1-t0\n",
    "    t2 = time.time()\n",
    "    yield t2-t0\n",
    "\n",
    "\n",
    "mon_chrono = chrono()\n",
    "next(mon_chrono)         # déclenche le chrono\n",
    "time.sleep(5)\n",
    "print(next(mon_chrono))  # affiche le temps écoulé depuis le déclenchement\n",
    "time.sleep(2)\n",
    "print(next(mon_chrono)) "
   ]
  },
  {
   "cell_type": "code",
   "execution_count": null,
   "id": "12fee77f",
   "metadata": {},
   "outputs": [],
   "source": [
    "##EXO3"
   ]
  },
  {
   "cell_type": "code",
   "execution_count": 92,
   "id": "3d496d11",
   "metadata": {},
   "outputs": [
    {
     "name": "stdout",
     "output_type": "stream",
     "text": [
      "tut-tut\n",
      "tenet\n",
      "kinnikinnik\n",
      "civic\n",
      "anana\n",
      "hagigah\n",
      "CTTC\n",
      "ecce\n",
      "torot\n",
      "stats\n",
      "semes\n",
      "deked\n",
      "anna\n",
      "otto\n",
      "sees\n",
      "SCCS\n",
      "retter\n",
      "ma'am\n",
      "affa\n",
      "arara\n",
      "redder\n",
      "acca\n"
     ]
    }
   ],
   "source": [
    "import os\n",
    "import random as rd\n",
    "\n",
    "path = '/usr/share/dict/words'\n",
    "\n",
    "def P(path):\n",
    "    palindrom = []\n",
    "    \n",
    "    with open(path,'r', encoding='UTF-8') as file:\n",
    "        for line in file:\n",
    "            word = line.strip() #.strip permet de tuer le /n \n",
    "            if (word == word[::-1]) & (len(word)>3): # word[::-1] lire le str à l'envers\n",
    "                palindrom.append(word)\n",
    "        palindrom = list(set(palindrom)) # set créer un obet du type set et fait le tri des doublons \n",
    "    #print(len(palindrom)) \n",
    "    while len(palindrom)>=1:\n",
    "        w = rd.choice(palindrom) # choisir a random word in palindrom\n",
    "        yield w\n",
    "        palindrom.remove(w) #kill this word\n",
    "\n",
    "pal = P(path)   \n",
    "\n",
    "for i in range(22): \n",
    "    a = next(pal)\n",
    "    print(a)"
   ]
  },
  {
   "cell_type": "code",
   "execution_count": null,
   "id": "8d62fed4",
   "metadata": {},
   "outputs": [],
   "source": [
    "## Exo 4"
   ]
  },
  {
   "cell_type": "code",
   "execution_count": 1,
   "id": "33ed5db3",
   "metadata": {},
   "outputs": [],
   "source": [
    "import numpy as np\n",
    "from copy import copy\n",
    "\n",
    "def termes(n):\n",
    "    liste_finale = L = [[1]*n] \n",
    "    for k in range(n-1):\n",
    "        for l in L:\n",
    "            liste_finale = liste_finale + somme(l)\n",
    "        liste_finale = nettoyage(liste_finale)\n",
    "        L = liste_finale\n",
    "            \n",
    "    return liste_finale\n",
    "\n",
    "                \n",
    "def somme(base):\n",
    "    list1 = []\n",
    "    for k in range(len(base)):\n",
    "        for j in range(len(base)):\n",
    "            if j!=k:\n",
    "                stock = copy(base)\n",
    "                stock[j] = stock[j] + stock[k]\n",
    "                del stock[k]\n",
    "                list1.append(stock)\n",
    "    return list1\n",
    "\n",
    "\n",
    "def nettoyage(liste_de_listes): \n",
    "    # Utilisez un ensemble pour garder une trace des listes uniques\n",
    "    listes_uniques = []\n",
    "\n",
    "    # Parcourez votre liste de listes\n",
    "    for liste in liste_de_listes:\n",
    "        # Convertissez la liste en un tuple pour la rendre immuable\n",
    "        liste_tuple = tuple(liste)\n",
    "\n",
    "        # Vérifiez si le tuple (et donc la liste) est déjà dans l'ensemble\n",
    "        if liste_tuple not in listes_uniques:\n",
    "            listes_uniques.append(liste_tuple)\n",
    "\n",
    "    # Re-Convertissez les tuples de listes en listes\n",
    "    listes_uniques = [list(liste_tuple) for liste_tuple in listes_uniques]\n",
    "\n",
    "    return listes_uniques"
   ]
  },
  {
   "cell_type": "code",
   "execution_count": 133,
   "id": "9fda82c5",
   "metadata": {},
   "outputs": [
    {
     "data": {
      "text/plain": [
       "[[1.0, 1.0, 1.0, 1.0], [2.0, 1.0, 1.0], [1.0, 2.0, 1.0], [1.0, 1.0, 2.0]]"
      ]
     },
     "execution_count": 133,
     "metadata": {},
     "output_type": "execute_result"
    }
   ],
   "source": [
    "liste = [[1.0, 1.0, 1.0, 1.0],\n",
    " [2.0, 1.0, 1.0],\n",
    " [1.0, 2.0, 1.0],\n",
    " [1.0, 1.0, 2.0],\n",
    " [2.0, 1.0, 1.0],\n",
    " [1.0, 2.0, 1.0],\n",
    " [1.0, 1.0, 2.0],\n",
    " [2.0, 1.0, 1.0],\n",
    " [1.0, 2.0, 1.0],\n",
    " [1.0, 1.0, 2.0],\n",
    " [2.0, 1.0, 1.0],\n",
    " [1.0, 2.0, 1.0],\n",
    " [1.0, 1.0, 2.0]]\n",
    "\n",
    "nettoyage(liste)"
   ]
  },
  {
   "cell_type": "code",
   "execution_count": 9,
   "id": "eeb8adf8",
   "metadata": {},
   "outputs": [
    {
     "data": {
      "text/plain": [
       "[[1, 1, 1, 1, 1],\n",
       " [2, 1, 1, 1],\n",
       " [1, 2, 1, 1],\n",
       " [1, 1, 2, 1],\n",
       " [1, 1, 1, 2],\n",
       " [3, 1, 1],\n",
       " [1, 3, 1],\n",
       " [1, 1, 3],\n",
       " [2, 2, 1],\n",
       " [2, 1, 2],\n",
       " [1, 2, 2],\n",
       " [4, 1],\n",
       " [1, 4],\n",
       " [3, 2],\n",
       " [2, 3],\n",
       " [5]]"
      ]
     },
     "execution_count": 9,
     "metadata": {},
     "output_type": "execute_result"
    }
   ],
   "source": [
    "len(termes(5))\n",
    "termes(5)"
   ]
  }
 ],
 "metadata": {
  "kernelspec": {
   "display_name": "Python 3 (ipykernel)",
   "language": "python",
   "name": "python3"
  },
  "language_info": {
   "codemirror_mode": {
    "name": "ipython",
    "version": 3
   },
   "file_extension": ".py",
   "mimetype": "text/x-python",
   "name": "python",
   "nbconvert_exporter": "python",
   "pygments_lexer": "ipython3",
   "version": "3.11.4"
  }
 },
 "nbformat": 4,
 "nbformat_minor": 5
}
