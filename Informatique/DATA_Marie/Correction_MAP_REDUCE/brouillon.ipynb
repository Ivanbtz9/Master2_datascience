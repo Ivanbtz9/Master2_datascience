{
 "cells": [
  {
   "cell_type": "code",
   "execution_count": 11,
   "id": "a1b82494",
   "metadata": {},
   "outputs": [
    {
     "data": {
      "text/plain": [
       "str"
      ]
     },
     "execution_count": 11,
     "metadata": {},
     "output_type": "execute_result"
    }
   ],
   "source": [
    "ligne = \"Apache Hadoop's MapReduce and HDFS \\t components   were inspired by \\n Google papers on\"\n"
   ]
  },
  {
   "cell_type": "code",
   "execution_count": 15,
   "id": "12b80b3a",
   "metadata": {},
   "outputs": [
    {
     "name": "stdout",
     "output_type": "stream",
     "text": [
      "apache hadoop's mapreduce and hdfs \t components   were inspired by \n",
      " google papers on\n"
     ]
    }
   ],
   "source": [
    "print(ligne.lower().strip())"
   ]
  }
 ],
 "metadata": {
  "kernelspec": {
   "display_name": "Python 3 (ipykernel)",
   "language": "python",
   "name": "python3"
  },
  "language_info": {
   "codemirror_mode": {
    "name": "ipython",
    "version": 3
   },
   "file_extension": ".py",
   "mimetype": "text/x-python",
   "name": "python",
   "nbconvert_exporter": "python",
   "pygments_lexer": "ipython3",
   "version": "3.10.12"
  }
 },
 "nbformat": 4,
 "nbformat_minor": 5
}
