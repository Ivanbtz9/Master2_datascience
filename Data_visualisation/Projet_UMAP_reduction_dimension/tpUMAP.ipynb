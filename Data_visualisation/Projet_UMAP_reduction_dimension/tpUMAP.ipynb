{
 "cells": [
  {
   "cell_type": "markdown",
   "id": "db8d5694",
   "metadata": {},
   "source": [
    "\n",
    "<a id='chap-tpumap'></a>"
   ]
  },
  {
   "cell_type": "markdown",
   "id": "eff2b3c7",
   "metadata": {},
   "source": [
    "# Travaux pratiques - UMAP\n",
    "\n",
    "(correspond à 1 séance de TP)\n",
    "\n",
    "Références externes utiles :\n",
    "\n",
    "> - [Documentation NumPy](https://docs.scipy.org/doc/numpy/user/index.html)  \n",
    "- [Documentation SciPy](https://docs.scipy.org/doc/scipy/reference/)  \n",
    "- [Documentation MatPlotLib](http://matplotlib.org/)  \n",
    "- [Site scikit-learn](http://scikit-learn.org/stable/index.html)  \n",
    "- [Site langage python](https://www.python.org)  \n",
    "- [Documentation UMAP-learn](https://umap-learn.readthedocs.io/)  \n",
    "\n",
    "\n",
    "\n",
    "L’objectif de cette séance de TP est de présenter l’utilisation des\n",
    "fonctionnalités de réduction de non-linéaire du paquet umap-learn\n",
    "permettant de manipuler l’algorithme UMAP, ainsi que de donner une\n",
    "meilleure compréhension de cette méthode et de l’influence de ses\n",
    "paramètres principaux sur les résultats. Pour atteindre cet objectif,\n",
    "nous allons examiner les résultats de plusieurs réductions de dimension\n",
    "sur un jeu de données synthétique (le « gâteau roulé ») puis sur des\n",
    "chiffres manuscrits."
   ]
  },
  {
   "cell_type": "markdown",
   "id": "4d6fdcb5",
   "metadata": {},
   "source": [
    "## Installation du paquet `umap-learn`\n",
    "\n",
    "Pour commencer cette séance de TP, il est indispensable de disposer\n",
    "d’une installation fonctionnelle de Python et de scikit-learn mais aussi\n",
    "du paquet `umap-learn`. Il peut s’installer à l’aide de la commande\n",
    "`pip install umap-learn`, via Anaconda ou directement depuis Jupyter\n",
    "via la commande magique ci-dessous :"
   ]
  },
  {
   "cell_type": "code",
   "execution_count": 3,
   "id": "34474455",
   "metadata": {
    "hide-output": false
   },
   "outputs": [
    {
     "name": "stdout",
     "output_type": "stream",
     "text": [
      "Defaulting to user installation because normal site-packages is not writeable\n",
      "Requirement already satisfied: umap-learn in /home/ibotcazou/.local/lib/python3.10/site-packages (0.5.4)\n",
      "Requirement already satisfied: scikit-learn>=0.22 in /home/ibotcazou/.local/lib/python3.10/site-packages (from umap-learn) (1.3.1)\n",
      "Requirement already satisfied: numpy>=1.17 in /home/ibotcazou/.local/lib/python3.10/site-packages (from umap-learn) (1.24.3)\n",
      "Requirement already satisfied: scipy>=1.3.1 in /usr/lib/python3/dist-packages (from umap-learn) (1.8.0)\n",
      "Requirement already satisfied: numba>=0.51.2 in /home/ibotcazou/.local/lib/python3.10/site-packages (from umap-learn) (0.58.0)\n",
      "Requirement already satisfied: tqdm in /home/ibotcazou/.local/lib/python3.10/site-packages (from umap-learn) (4.66.1)\n",
      "Requirement already satisfied: tbb>=2019.0 in /home/ibotcazou/.local/lib/python3.10/site-packages (from umap-learn) (2021.10.0)\n",
      "Requirement already satisfied: pynndescent>=0.5 in /home/ibotcazou/.local/lib/python3.10/site-packages (from umap-learn) (0.5.10)\n",
      "Requirement already satisfied: llvmlite<0.42,>=0.41.0dev0 in /home/ibotcazou/.local/lib/python3.10/site-packages (from numba>=0.51.2->umap-learn) (0.41.0)\n",
      "Requirement already satisfied: joblib>=0.11 in /home/ibotcazou/.local/lib/python3.10/site-packages (from pynndescent>=0.5->umap-learn) (1.3.1)\n",
      "Requirement already satisfied: threadpoolctl>=2.0.0 in /home/ibotcazou/.local/lib/python3.10/site-packages (from scikit-learn>=0.22->umap-learn) (3.2.0)\n",
      "Note: you may need to restart the kernel to use updated packages.\n"
     ]
    }
   ],
   "source": [
    "%pip install umap-learn\n",
    "import umap\n"
   ]
  },
  {
   "cell_type": "markdown",
   "id": "414bcb8f",
   "metadata": {},
   "source": [
    "## Expérimentations sur le gâteau roulé\n",
    "\n",
    "Dans un premier temps, nous allons examiner le jeu de données du gâteau\n",
    "roulé (le *Swiss Roll*). Il s’agit d’un jeu de données en trois\n",
    "dimensions correspondant à une surface bidimensionnelle enroulée sur\n",
    "elle-même."
   ]
  },
  {
   "cell_type": "code",
   "execution_count": 32,
   "id": "e103657d",
   "metadata": {
    "hide-output": false
   },
   "outputs": [],
   "source": [
    "# Import des bibliothèques utiles\n",
    "import sklearn\n",
    "import matplotlib.pyplot as plt"
   ]
  },
  {
   "cell_type": "markdown",
   "id": "e653cdb4",
   "metadata": {},
   "source": [
    "Le *swiss roll* est intégré dans scikit-learn, qui dispose d’une\n",
    "fonction préfaite pour générer automatiquement un jeu de données suivant\n",
    "cette distribution. Nous pouvons en produire une matrice d’observations\n",
    "contenant 1500 exemples et les visualiser en 3D."
   ]
  },
  {
   "cell_type": "code",
   "execution_count": 33,
   "id": "0abcaaa1",
   "metadata": {
    "hide-output": false
   },
   "outputs": [
    {
     "name": "stdout",
     "output_type": "stream",
     "text": [
      "Using matplotlib backend: TkAgg\n"
     ]
    }
   ],
   "source": [
    "from sklearn.datasets import make_swiss_roll\n",
    "from mpl_toolkits.mplot3d import Axes3D\n",
    "%matplotlib\n",
    "\n",
    "X, color = make_swiss_roll(n_samples=1500)\n",
    "\n",
    "fig = plt.figure(figsize=(10, 10))\n",
    "ax = fig.add_subplot(111, projection=\"3d\")\n",
    "ax.scatter(X[:, 0], X[:, 1], X[:, 2], c=color, s=50, cmap=plt.cm.Spectral)\n",
    "ax.set_title(\"Représentation 3D graphique du swiss roll dataset\")\n",
    "plt.show()\n"
   ]
  },
  {
   "cell_type": "markdown",
   "id": "c387116d",
   "metadata": {},
   "source": [
    "L’usage de UMAP au travers de la bibliothèque `umap-learn` est\n",
    "relativement aisé puisque ce paquet suit la même interface que les\n",
    "algorithmes que nous avons manipulé jusqu’ici dans scikit-learn. La\n",
    "classe `umap.UMAP` permet d’instancier un modèle.\n",
    "\n",
    "Le paramètre principal est le nombre de dimensions de l’espace réduit,\n",
    "spécifié par le paramètre `n_components`, comme pour t-SNE. Par\n",
    "défaut, UMAP projette les données dans un espace bidimensionnel à des\n",
    "fins de visualisation (`n_components=2`) mais il est bien entendu\n",
    "possible de choisir un espace de destination de n’importe quelle\n",
    "dimension.\n",
    "\n",
    "Le principal paramètre de UMAP, analogue à la perplexité pour t-SNE, est\n",
    "le nombre de voisins utilisé pour lors de la phase de calcul des\n",
    "similarités dans l’espace des observations. Il se règle à l’aide du\n",
    "paramètre `n_neighbors`. Plus ce nombre est élevé, plus l’importance\n",
    "accordée à *la structure globale* sera élevée. Avec un nombre de voisins\n",
    "considéré faible, UMAP accordera plus d’importance aux *structures\n",
    "locales*. Par défaut, les 15 plus proches voisins sont considérés.\n",
    "\n",
    "Un dernier paramètre d’intérêt de UMAP est la valeur minimale de\n",
    "distance autorisée dans l’espace d’arrivée, contrôlée par le paramètre\n",
    "`min_dist`. Pour rappel, cette distance contrôle implicitement la\n",
    "forme de la similarité dans l’espace d’arrivée. Plus cette valeur est\n",
    "faible, plus des points voisins dans l’espace de départ seront\n",
    "rapprochés dans l’espace d’arrivée. Augmenter cette valeur permet de\n",
    "réduire l’agglutinement des points, possiblement au détriment de la\n",
    "structure locale. Par défaut, `min_dist=0.1`.\n",
    "\n",
    "En plus de ces paramètres, l’optimisation de `UMAP` peut également\n",
    "être réglée à l’aide des paramètres optionnels suivants:\n",
    "\n",
    "- `metric`: permet de changer la métrique utilisée pour le calcul des\n",
    "  distances dans l’espace de départ (par défaut, la distance\n",
    "  euclidienne est utilisée).  \n",
    "- `init`: modifie l’algorithme d’initialisation des points dans\n",
    "  l’espace d’arrivée. Les possibilités sont `\"spectral\"` (mode par\n",
    "  défaut) ou `\"random\"` (aléatoire).  \n",
    "- `a` et `b`: plutôt que de spécifier `min_dist`, il est possible\n",
    "  de modifier directement les paramètres de la fonction de similarité.  \n",
    "- `learning_rate`: permet de contrôler le pas d’apprentissage de la\n",
    "  descente de gradient.  \n",
    "- `n_epochs`: contrôle le nombre d’itérations d’apprentissage de la\n",
    "  descente de gradient. Il peut dans de rares cas être nécessaire\n",
    "  d’augmenter la valeur par défaut (200) si UMAP affiche un\n",
    "  avertissement de non-convergence.  \n",
    "\n",
    "\n",
    "Nous pouvons ainsi appliquer UMAP sur le gâteau roulé de la façon\n",
    "suivante :"
   ]
  },
  {
   "cell_type": "markdown",
   "id": "f5329458",
   "metadata": {
    "hide-output": false
   },
   "source": [
    "## ACP"
   ]
  },
  {
   "cell_type": "code",
   "execution_count": 34,
   "id": "f27be288",
   "metadata": {},
   "outputs": [
    {
     "data": {
      "text/plain": [
       "<matplotlib.collections.PathCollection at 0x7fcc89aaf880>"
      ]
     },
     "execution_count": 34,
     "metadata": {},
     "output_type": "execute_result"
    }
   ],
   "source": [
    "from sklearn.decomposition import PCA\n",
    "import numpy as np\n",
    "\n",
    "mean = np.mean(X, axis=0)\n",
    "std = np.std(X, axis=0)\n",
    "X = (X - mean) / std\n",
    "\n",
    "acp = PCA(n_components=2)\n",
    "acp.fit(X)\n",
    "result = acp.transform(X)\n",
    "\n",
    "plt.scatter(result[:,0],result[:,1],c=color, cmap=plt.cm.Spectral)"
   ]
  },
  {
   "cell_type": "markdown",
   "id": "5e9175f5",
   "metadata": {},
   "source": [
    "## UMAP"
   ]
  },
  {
   "cell_type": "markdown",
   "id": "0c67e238",
   "metadata": {},
   "source": [
    "Les vecteurs réduits obtenus sont bien des observations\n",
    "bidimensionnelles. Nous pouvons afficher le nuage de points dans\n",
    "l’espace réduit:"
   ]
  },
  {
   "cell_type": "code",
   "execution_count": 49,
   "id": "b03127df",
   "metadata": {
    "hide-output": false
   },
   "outputs": [
    {
     "name": "stdout",
     "output_type": "stream",
     "text": [
      "(1500, 2)\n",
      "Using matplotlib backend: TkAgg\n"
     ]
    }
   ],
   "source": [
    "from umap import UMAP\n",
    "\n",
    "um = UMAP(n_components=2, n_neighbors=500, min_dist=0.5)\n",
    "embeddings = um.fit_transform(X)\n",
    "\n",
    "print(embeddings.shape)\n",
    "\n",
    "plt.scatter(embeddings[:,0], embeddings[:,1], c=color, cmap=plt.cm.Spectral)\n",
    "plt.title(\"Affichage du nuage de points dans l’espace réduit\")\n",
    "plt.show()"
   ]
  },
  {
   "cell_type": "markdown",
   "id": "cc5c5c3c",
   "metadata": {},
   "source": [
    "## Question\n",
    "\n",
    "Expérimenter avec différentes valeurs pour le paramètre `n_neighbors`.\n",
    "Que se passe-t-il quand le nombre de voisins considéré est faible ? Et\n",
    "lorsqu’il est élevé (relativement au nombre d’observations du jeu de\n",
    "données) ? En quoi ces résultats pouvait-on s’attendre à ces résutlats ?"
   ]
  },
  {
   "cell_type": "markdown",
   "id": "3eb086cf",
   "metadata": {},
   "source": [
    "## Question\n",
    "\n",
    "Expérimenter avec différentes valeurs pour le paramètre `min_dist` (la\n",
    "plage de valeurs autorisées est entre 0 et 1). Que constatez-vous ?"
   ]
  },
  {
   "cell_type": "markdown",
   "id": "3e1c7acf",
   "metadata": {},
   "source": [
    "## Jeu de données Digits\n",
    "\n",
    "Digits est un jeu de données contenant des images en niveaux de gris de\n",
    "chiffres manuscrits de $ 8\\times 8 = 64 $ pixels. Il comporte 1797\n",
    "observations réparties en 10 classes, une par chiffre. Un total de 43\n",
    "personnes ont participé à la collecte de données. Les valeurs de pixels\n",
    "sont des entiers dans l’intervalle $ [0,16] $. Plus d’informations\n",
    "sont disponibles dans la\n",
    "[documentation de scikit-learn](https://scikit-learn.org/stable/datasets/toy_dataset.html#digits-dataset).\n",
    "\n",
    "Ce jeu de données est préintégré dans scikit-learn, ce qui facilite sa\n",
    "manipulation. Nous allons commencer par charger ces données en mémoire\n",
    "et afficher les dix premières observations sous forme d’image."
   ]
  },
  {
   "cell_type": "code",
   "execution_count": 28,
   "id": "b0bbf2dd",
   "metadata": {
    "hide-output": false
   },
   "outputs": [
    {
     "data": {
      "image/png": "[encoded data removed]",
      "text/plain": [
       "<Figure size 864x288 with 10 Axes>"
      ]
     },
     "metadata": {
      "needs_background": "light"
     },
     "output_type": "display_data"
    }
   ],
   "source": [
    "%matplotlib inline\n",
    "from sklearn import datasets\n",
    "X, y = datasets.load_digits(return_X_y=True)\n",
    "\n",
    "fig = plt.figure(figsize=(12, 4))\n",
    "for i in range(10):\n",
    "    fig.add_subplot(1, 10, i+1)\n",
    "    plt.imshow(X[i].reshape((8,8)), cmap=plt.cm.binary)\n",
    "    plt.axis(\"off\")\n",
    "plt.show()"
   ]
  },
  {
   "cell_type": "markdown",
   "id": "e3d72740",
   "metadata": {},
   "source": [
    "## Question\n",
    "\n",
    "Appliquer une réduction de dimension non-linéaire à l’aide de UMAP pour\n",
    "projeter les données en deux dimensions. Que constatez-vous du point de\n",
    "vue de la séparation des différents groupes de chiffres?\n",
    "\n",
    "UMAP peut également tenir compte de l’information contenue dans les\n",
    "étiquettes de groupe lors du calcul des distances. Cela permet de\n",
    "renforcer la séparation des *clusters* correspondant à des classes\n",
    "différentes.\n",
    "\n",
    "Pour ce faire, les méthodes `.fit()` et `.fit_transform()` de\n",
    "l’objet `UMAP()` acceptent un paramètre optionnel `y` qui permet de\n",
    "passer en argument les informations sur les groupes. Se référer à la\n",
    "[documentation](https://umap-learn.readthedocs.io/en/latest/supervised.html)\n",
    "pour plus de détails."
   ]
  },
  {
   "cell_type": "markdown",
   "id": "4562aaca",
   "metadata": {},
   "source": [
    "## Question\n",
    "\n",
    "Appliquer une réduciton de dimension non-linéaire *supervisée* en\n",
    "utilisant UMAP pour projeter les données en deux dimensions. Que\n",
    "constatez-vous par rapport à l’approche non-supervisée utilisée\n",
    "précédemment ?"
   ]
  },
  {
   "cell_type": "markdown",
   "id": "45d06ddd",
   "metadata": {},
   "source": [
    "### Validation du modèle\n",
    "\n",
    "Une façon de valider la pertinence de la projection obtenue par UMAP est\n",
    "de comparer les performances d’un classifieur par k-plus proches voisins\n",
    "(*kNN*):\n",
    "\n",
    "- sur les données d’origine (les images $ 8\\times 8 $),  \n",
    "- sur les données réduites (la projection dans le plan).  \n",
    "\n",
    "\n",
    "Le classifieur *kNN* est disponible dans scikit-learn via le module\n",
    "`sklearn.neighbors.KNeihgborsClassifier`."
   ]
  },
  {
   "cell_type": "code",
   "execution_count": null,
   "id": "343dd2d0",
   "metadata": {
    "hide-output": false
   },
   "outputs": [],
   "source": [
    "from sklearn.neighbors import KNeighborsClassifier"
   ]
  },
  {
   "cell_type": "markdown",
   "id": "3e0ad25a",
   "metadata": {},
   "source": [
    "La méthode `.fit` requiert une matrice d’observations `X` ainsi que\n",
    "les étiquettes de classe `y`. Nous pouvons facilement utiliser sklearn\n",
    "pour entraîner un *kNN* sur le jeu de données Digits, ici par exemple\n",
    "avec $ k=10 $ :"
   ]
  },
  {
   "cell_type": "code",
   "execution_count": null,
   "id": "02cf5641",
   "metadata": {
    "hide-output": false
   },
   "outputs": [],
   "source": [
    "knn = KNeighborsClassifier(n_neighbors=10)\n",
    "knn.fit(X, y)\n",
    "print(knn.score(X, y))"
   ]
  },
  {
   "cell_type": "markdown",
   "id": "d69456ef",
   "metadata": {},
   "source": [
    "### Question\n",
    "\n",
    "En vous aidant de la\n",
    "[documentation](https://scikit-learn.org/stable/modules/generated/sklearn.neighbors.KNeighborsClassifier.html)\n",
    "de la classe `KNeighborsClassifier` de scikit-learn, que renvoie la\n",
    "méthode `.score()` ?"
   ]
  },
  {
   "cell_type": "markdown",
   "id": "1eeeb49a",
   "metadata": {},
   "source": [
    "### Question\n",
    "\n",
    "Appliquer une classification par les 10 plus proches voisins sur les\n",
    "données Digits projetées par UMAP *non-supervisé*. Quel score\n",
    "obtenez-vous ? Quelle conclusion pouvez-vous en tirer?\n",
    "\n",
    "Comparer avec le même protocole mais appliqué aux données projetées via\n",
    "t-SNE."
   ]
  },
  {
   "cell_type": "markdown",
   "id": "e4088b30",
   "metadata": {},
   "source": [
    "### Question\n",
    "\n",
    "*(optionnel)* Comparer les temps de calcul de t-SNE et de UMAP dans les\n",
    "mêmes conditions (même jeu de données, même machine, même dimension\n",
    "cible). Pour un résultat plus représentatif d’une application sur des\n",
    "données réelles, on utilisera le jeu de données MNIST (images\n",
    "$ 28\\times 28 $ en niveaux de gris). Dans Jupyter, les commandes\n",
    "magiques `%%time` et `%%timeit` peuvent être utiles. Que\n",
    "constatez-vous ?"
   ]
  },
  {
   "cell_type": "code",
   "execution_count": 33,
   "id": "47ed58f6",
   "metadata": {
    "hide-output": false
   },
   "outputs": [
    {
     "ename": "URLError",
     "evalue": "<urlopen error [Errno -3] Temporary failure in name resolution>",
     "output_type": "error",
     "traceback": [
      "\u001b[0;31m---------------------------------------------------------------------------\u001b[0m",
      "\u001b[0;31mgaierror\u001b[0m                                  Traceback (most recent call last)",
      "\u001b[0;32m/usr/lib/python3.10/urllib/request.py\u001b[0m in \u001b[0;36mdo_open\u001b[0;34m(self, http_class, req, **http_conn_args)\u001b[0m\n\u001b[1;32m   1347\u001b[0m             \u001b[0;32mtry\u001b[0m\u001b[0;34m:\u001b[0m\u001b[0;34m\u001b[0m\u001b[0;34m\u001b[0m\u001b[0m\n\u001b[0;32m-> 1348\u001b[0;31m                 h.request(req.get_method(), req.selector, req.data, headers,\n\u001b[0m\u001b[1;32m   1349\u001b[0m                           encode_chunked=req.has_header('Transfer-encoding'))\n",
      "\u001b[0;32m/usr/lib/python3.10/http/client.py\u001b[0m in \u001b[0;36mrequest\u001b[0;34m(self, method, url, body, headers, encode_chunked)\u001b[0m\n\u001b[1;32m   1282\u001b[0m         \u001b[0;34m\"\"\"Send a complete request to the server.\"\"\"\u001b[0m\u001b[0;34m\u001b[0m\u001b[0;34m\u001b[0m\u001b[0m\n\u001b[0;32m-> 1283\u001b[0;31m         \u001b[0mself\u001b[0m\u001b[0;34m.\u001b[0m\u001b[0m_send_request\u001b[0m\u001b[0;34m(\u001b[0m\u001b[0mmethod\u001b[0m\u001b[0;34m,\u001b[0m \u001b[0murl\u001b[0m\u001b[0;34m,\u001b[0m \u001b[0mbody\u001b[0m\u001b[0;34m,\u001b[0m \u001b[0mheaders\u001b[0m\u001b[0;34m,\u001b[0m \u001b[0mencode_chunked\u001b[0m\u001b[0;34m)\u001b[0m\u001b[0;34m\u001b[0m\u001b[0;34m\u001b[0m\u001b[0m\n\u001b[0m\u001b[1;32m   1284\u001b[0m \u001b[0;34m\u001b[0m\u001b[0m\n",
      "\u001b[0;32m/usr/lib/python3.10/http/client.py\u001b[0m in \u001b[0;36m_send_request\u001b[0;34m(self, method, url, body, headers, encode_chunked)\u001b[0m\n\u001b[1;32m   1328\u001b[0m             \u001b[0mbody\u001b[0m \u001b[0;34m=\u001b[0m \u001b[0m_encode\u001b[0m\u001b[0;34m(\u001b[0m\u001b[0mbody\u001b[0m\u001b[0;34m,\u001b[0m \u001b[0;34m'body'\u001b[0m\u001b[0;34m)\u001b[0m\u001b[0;34m\u001b[0m\u001b[0;34m\u001b[0m\u001b[0m\n\u001b[0;32m-> 1329\u001b[0;31m         \u001b[0mself\u001b[0m\u001b[0;34m.\u001b[0m\u001b[0mendheaders\u001b[0m\u001b[0;34m(\u001b[0m\u001b[0mbody\u001b[0m\u001b[0;34m,\u001b[0m \u001b[0mencode_chunked\u001b[0m\u001b[0;34m=\u001b[0m\u001b[0mencode_chunked\u001b[0m\u001b[0;34m)\u001b[0m\u001b[0;34m\u001b[0m\u001b[0;34m\u001b[0m\u001b[0m\n\u001b[0m\u001b[1;32m   1330\u001b[0m \u001b[0;34m\u001b[0m\u001b[0m\n",
      "\u001b[0;32m/usr/lib/python3.10/http/client.py\u001b[0m in \u001b[0;36mendheaders\u001b[0;34m(self, message_body, encode_chunked)\u001b[0m\n\u001b[1;32m   1277\u001b[0m             \u001b[0;32mraise\u001b[0m \u001b[0mCannotSendHeader\u001b[0m\u001b[0;34m(\u001b[0m\u001b[0;34m)\u001b[0m\u001b[0;34m\u001b[0m\u001b[0;34m\u001b[0m\u001b[0m\n\u001b[0;32m-> 1278\u001b[0;31m         \u001b[0mself\u001b[0m\u001b[0;34m.\u001b[0m\u001b[0m_send_output\u001b[0m\u001b[0;34m(\u001b[0m\u001b[0mmessage_body\u001b[0m\u001b[0;34m,\u001b[0m \u001b[0mencode_chunked\u001b[0m\u001b[0;34m=\u001b[0m\u001b[0mencode_chunked\u001b[0m\u001b[0;34m)\u001b[0m\u001b[0;34m\u001b[0m\u001b[0;34m\u001b[0m\u001b[0m\n\u001b[0m\u001b[1;32m   1279\u001b[0m \u001b[0;34m\u001b[0m\u001b[0m\n",
      "\u001b[0;32m/usr/lib/python3.10/http/client.py\u001b[0m in \u001b[0;36m_send_output\u001b[0;34m(self, message_body, encode_chunked)\u001b[0m\n\u001b[1;32m   1037\u001b[0m         \u001b[0;32mdel\u001b[0m \u001b[0mself\u001b[0m\u001b[0;34m.\u001b[0m\u001b[0m_buffer\u001b[0m\u001b[0;34m[\u001b[0m\u001b[0;34m:\u001b[0m\u001b[0;34m]\u001b[0m\u001b[0;34m\u001b[0m\u001b[0;34m\u001b[0m\u001b[0m\n\u001b[0;32m-> 1038\u001b[0;31m         \u001b[0mself\u001b[0m\u001b[0;34m.\u001b[0m\u001b[0msend\u001b[0m\u001b[0;34m(\u001b[0m\u001b[0mmsg\u001b[0m\u001b[0;34m)\u001b[0m\u001b[0;34m\u001b[0m\u001b[0;34m\u001b[0m\u001b[0m\n\u001b[0m\u001b[1;32m   1039\u001b[0m \u001b[0;34m\u001b[0m\u001b[0m\n",
      "\u001b[0;32m/usr/lib/python3.10/http/client.py\u001b[0m in \u001b[0;36msend\u001b[0;34m(self, data)\u001b[0m\n\u001b[1;32m    975\u001b[0m             \u001b[0;32mif\u001b[0m \u001b[0mself\u001b[0m\u001b[0;34m.\u001b[0m\u001b[0mauto_open\u001b[0m\u001b[0;34m:\u001b[0m\u001b[0;34m\u001b[0m\u001b[0;34m\u001b[0m\u001b[0m\n\u001b[0;32m--> 976\u001b[0;31m                 \u001b[0mself\u001b[0m\u001b[0;34m.\u001b[0m\u001b[0mconnect\u001b[0m\u001b[0;34m(\u001b[0m\u001b[0;34m)\u001b[0m\u001b[0;34m\u001b[0m\u001b[0;34m\u001b[0m\u001b[0m\n\u001b[0m\u001b[1;32m    977\u001b[0m             \u001b[0;32melse\u001b[0m\u001b[0;34m:\u001b[0m\u001b[0;34m\u001b[0m\u001b[0;34m\u001b[0m\u001b[0m\n",
      "\u001b[0;32m/usr/lib/python3.10/http/client.py\u001b[0m in \u001b[0;36mconnect\u001b[0;34m(self)\u001b[0m\n\u001b[1;32m   1447\u001b[0m \u001b[0;34m\u001b[0m\u001b[0m\n\u001b[0;32m-> 1448\u001b[0;31m             \u001b[0msuper\u001b[0m\u001b[0;34m(\u001b[0m\u001b[0;34m)\u001b[0m\u001b[0;34m.\u001b[0m\u001b[0mconnect\u001b[0m\u001b[0;34m(\u001b[0m\u001b[0;34m)\u001b[0m\u001b[0;34m\u001b[0m\u001b[0;34m\u001b[0m\u001b[0m\n\u001b[0m\u001b[1;32m   1449\u001b[0m \u001b[0;34m\u001b[0m\u001b[0m\n",
      "\u001b[0;32m/usr/lib/python3.10/http/client.py\u001b[0m in \u001b[0;36mconnect\u001b[0;34m(self)\u001b[0m\n\u001b[1;32m    941\u001b[0m         \u001b[0msys\u001b[0m\u001b[0;34m.\u001b[0m\u001b[0maudit\u001b[0m\u001b[0;34m(\u001b[0m\u001b[0;34m\"http.client.connect\"\u001b[0m\u001b[0;34m,\u001b[0m \u001b[0mself\u001b[0m\u001b[0;34m,\u001b[0m \u001b[0mself\u001b[0m\u001b[0;34m.\u001b[0m\u001b[0mhost\u001b[0m\u001b[0;34m,\u001b[0m \u001b[0mself\u001b[0m\u001b[0;34m.\u001b[0m\u001b[0mport\u001b[0m\u001b[0;34m)\u001b[0m\u001b[0;34m\u001b[0m\u001b[0;34m\u001b[0m\u001b[0m\n\u001b[0;32m--> 942\u001b[0;31m         self.sock = self._create_connection(\n\u001b[0m\u001b[1;32m    943\u001b[0m             (self.host,self.port), self.timeout, self.source_address)\n",
      "\u001b[0;32m/usr/lib/python3.10/socket.py\u001b[0m in \u001b[0;36mcreate_connection\u001b[0;34m(address, timeout, source_address)\u001b[0m\n\u001b[1;32m    823\u001b[0m     \u001b[0merr\u001b[0m \u001b[0;34m=\u001b[0m \u001b[0;32mNone\u001b[0m\u001b[0;34m\u001b[0m\u001b[0;34m\u001b[0m\u001b[0m\n\u001b[0;32m--> 824\u001b[0;31m     \u001b[0;32mfor\u001b[0m \u001b[0mres\u001b[0m \u001b[0;32min\u001b[0m \u001b[0mgetaddrinfo\u001b[0m\u001b[0;34m(\u001b[0m\u001b[0mhost\u001b[0m\u001b[0;34m,\u001b[0m \u001b[0mport\u001b[0m\u001b[0;34m,\u001b[0m \u001b[0;36m0\u001b[0m\u001b[0;34m,\u001b[0m \u001b[0mSOCK_STREAM\u001b[0m\u001b[0;34m)\u001b[0m\u001b[0;34m:\u001b[0m\u001b[0;34m\u001b[0m\u001b[0;34m\u001b[0m\u001b[0m\n\u001b[0m\u001b[1;32m    825\u001b[0m         \u001b[0maf\u001b[0m\u001b[0;34m,\u001b[0m \u001b[0msocktype\u001b[0m\u001b[0;34m,\u001b[0m \u001b[0mproto\u001b[0m\u001b[0;34m,\u001b[0m \u001b[0mcanonname\u001b[0m\u001b[0;34m,\u001b[0m \u001b[0msa\u001b[0m \u001b[0;34m=\u001b[0m \u001b[0mres\u001b[0m\u001b[0;34m\u001b[0m\u001b[0;34m\u001b[0m\u001b[0m\n",
      "\u001b[0;32m/usr/lib/python3.10/socket.py\u001b[0m in \u001b[0;36mgetaddrinfo\u001b[0;34m(host, port, family, type, proto, flags)\u001b[0m\n\u001b[1;32m    954\u001b[0m     \u001b[0maddrlist\u001b[0m \u001b[0;34m=\u001b[0m \u001b[0;34m[\u001b[0m\u001b[0;34m]\u001b[0m\u001b[0;34m\u001b[0m\u001b[0;34m\u001b[0m\u001b[0m\n\u001b[0;32m--> 955\u001b[0;31m     \u001b[0;32mfor\u001b[0m \u001b[0mres\u001b[0m \u001b[0;32min\u001b[0m \u001b[0m_socket\u001b[0m\u001b[0;34m.\u001b[0m\u001b[0mgetaddrinfo\u001b[0m\u001b[0;34m(\u001b[0m\u001b[0mhost\u001b[0m\u001b[0;34m,\u001b[0m \u001b[0mport\u001b[0m\u001b[0;34m,\u001b[0m \u001b[0mfamily\u001b[0m\u001b[0;34m,\u001b[0m \u001b[0mtype\u001b[0m\u001b[0;34m,\u001b[0m \u001b[0mproto\u001b[0m\u001b[0;34m,\u001b[0m \u001b[0mflags\u001b[0m\u001b[0;34m)\u001b[0m\u001b[0;34m:\u001b[0m\u001b[0;34m\u001b[0m\u001b[0;34m\u001b[0m\u001b[0m\n\u001b[0m\u001b[1;32m    956\u001b[0m         \u001b[0maf\u001b[0m\u001b[0;34m,\u001b[0m \u001b[0msocktype\u001b[0m\u001b[0;34m,\u001b[0m \u001b[0mproto\u001b[0m\u001b[0;34m,\u001b[0m \u001b[0mcanonname\u001b[0m\u001b[0;34m,\u001b[0m \u001b[0msa\u001b[0m \u001b[0;34m=\u001b[0m \u001b[0mres\u001b[0m\u001b[0;34m\u001b[0m\u001b[0;34m\u001b[0m\u001b[0m\n",
      "\u001b[0;31mgaierror\u001b[0m: [Errno -3] Temporary failure in name resolution",
      "\nDuring handling of the above exception, another exception occurred:\n",
      "\u001b[0;31mURLError\u001b[0m                                  Traceback (most recent call last)",
      "\u001b[0;32m/tmp/ipykernel_120626/4275637309.py\u001b[0m in \u001b[0;36m<module>\u001b[0;34m\u001b[0m\n\u001b[1;32m      1\u001b[0m \u001b[0;32mfrom\u001b[0m \u001b[0msklearn\u001b[0m\u001b[0;34m.\u001b[0m\u001b[0mdatasets\u001b[0m \u001b[0;32mimport\u001b[0m \u001b[0mfetch_openml\u001b[0m\u001b[0;34m\u001b[0m\u001b[0;34m\u001b[0m\u001b[0m\n\u001b[0;32m----> 2\u001b[0;31m \u001b[0mX_mnist\u001b[0m\u001b[0;34m,\u001b[0m \u001b[0my_mnist\u001b[0m \u001b[0;34m=\u001b[0m \u001b[0mfetch_openml\u001b[0m\u001b[0;34m(\u001b[0m\u001b[0;34m'mnist_784'\u001b[0m\u001b[0;34m,\u001b[0m \u001b[0mreturn_X_y\u001b[0m\u001b[0;34m=\u001b[0m\u001b[0;32mTrue\u001b[0m\u001b[0;34m)\u001b[0m\u001b[0;34m\u001b[0m\u001b[0;34m\u001b[0m\u001b[0m\n\u001b[0m\u001b[1;32m      3\u001b[0m \u001b[0;31m# à compléter\u001b[0m\u001b[0;34m\u001b[0m\u001b[0;34m\u001b[0m\u001b[0m\n",
      "\u001b[0;32m~/.local/lib/python3.10/site-packages/sklearn/utils/_param_validation.py\u001b[0m in \u001b[0;36mwrapper\u001b[0;34m(*args, **kwargs)\u001b[0m\n\u001b[1;32m    209\u001b[0m                     )\n\u001b[1;32m    210\u001b[0m                 ):\n\u001b[0;32m--> 211\u001b[0;31m                     \u001b[0;32mreturn\u001b[0m \u001b[0mfunc\u001b[0m\u001b[0;34m(\u001b[0m\u001b[0;34m*\u001b[0m\u001b[0margs\u001b[0m\u001b[0;34m,\u001b[0m \u001b[0;34m**\u001b[0m\u001b[0mkwargs\u001b[0m\u001b[0;34m)\u001b[0m\u001b[0;34m\u001b[0m\u001b[0;34m\u001b[0m\u001b[0m\n\u001b[0m\u001b[1;32m    212\u001b[0m             \u001b[0;32mexcept\u001b[0m \u001b[0mInvalidParameterError\u001b[0m \u001b[0;32mas\u001b[0m \u001b[0me\u001b[0m\u001b[0;34m:\u001b[0m\u001b[0;34m\u001b[0m\u001b[0;34m\u001b[0m\u001b[0m\n\u001b[1;32m    213\u001b[0m                 \u001b[0;31m# When the function is just a wrapper around an estimator, we allow\u001b[0m\u001b[0;34m\u001b[0m\u001b[0;34m\u001b[0m\u001b[0m\n",
      "\u001b[0;32m~/.local/lib/python3.10/site-packages/sklearn/datasets/_openml.py\u001b[0m in \u001b[0;36mfetch_openml\u001b[0;34m(name, version, data_id, data_home, target_column, cache, return_X_y, as_frame, n_retries, delay, parser, read_csv_kwargs)\u001b[0m\n\u001b[1;32m    978\u001b[0m                 \u001b[0;34m\"both.\"\u001b[0m\u001b[0;34m.\u001b[0m\u001b[0mformat\u001b[0m\u001b[0;34m(\u001b[0m\u001b[0mdata_id\u001b[0m\u001b[0;34m,\u001b[0m \u001b[0mname\u001b[0m\u001b[0;34m)\u001b[0m\u001b[0;34m\u001b[0m\u001b[0;34m\u001b[0m\u001b[0m\n\u001b[1;32m    979\u001b[0m             )\n\u001b[0;32m--> 980\u001b[0;31m         data_info = _get_data_info_by_name(\n\u001b[0m\u001b[1;32m    981\u001b[0m             \u001b[0mname\u001b[0m\u001b[0;34m,\u001b[0m \u001b[0mversion\u001b[0m\u001b[0;34m,\u001b[0m \u001b[0mdata_home\u001b[0m\u001b[0;34m,\u001b[0m \u001b[0mn_retries\u001b[0m\u001b[0;34m=\u001b[0m\u001b[0mn_retries\u001b[0m\u001b[0;34m,\u001b[0m \u001b[0mdelay\u001b[0m\u001b[0;34m=\u001b[0m\u001b[0mdelay\u001b[0m\u001b[0;34m\u001b[0m\u001b[0;34m\u001b[0m\u001b[0m\n\u001b[1;32m    982\u001b[0m         )\n",
      "\u001b[0;32m~/.local/lib/python3.10/site-packages/sklearn/datasets/_openml.py\u001b[0m in \u001b[0;36m_get_data_info_by_name\u001b[0;34m(name, version, data_home, n_retries, delay)\u001b[0m\n\u001b[1;32m    300\u001b[0m         \u001b[0murl\u001b[0m \u001b[0;34m=\u001b[0m \u001b[0m_SEARCH_NAME\u001b[0m\u001b[0;34m.\u001b[0m\u001b[0mformat\u001b[0m\u001b[0;34m(\u001b[0m\u001b[0mname\u001b[0m\u001b[0;34m)\u001b[0m \u001b[0;34m+\u001b[0m \u001b[0;34m\"/status/active/\"\u001b[0m\u001b[0;34m\u001b[0m\u001b[0;34m\u001b[0m\u001b[0m\n\u001b[1;32m    301\u001b[0m         \u001b[0merror_msg\u001b[0m \u001b[0;34m=\u001b[0m \u001b[0;34m\"No active dataset {} found.\"\u001b[0m\u001b[0;34m.\u001b[0m\u001b[0mformat\u001b[0m\u001b[0;34m(\u001b[0m\u001b[0mname\u001b[0m\u001b[0;34m)\u001b[0m\u001b[0;34m\u001b[0m\u001b[0;34m\u001b[0m\u001b[0m\n\u001b[0;32m--> 302\u001b[0;31m         json_data = _get_json_content_from_openml_api(\n\u001b[0m\u001b[1;32m    303\u001b[0m             \u001b[0murl\u001b[0m\u001b[0;34m,\u001b[0m\u001b[0;34m\u001b[0m\u001b[0;34m\u001b[0m\u001b[0m\n\u001b[1;32m    304\u001b[0m             \u001b[0merror_msg\u001b[0m\u001b[0;34m,\u001b[0m\u001b[0;34m\u001b[0m\u001b[0;34m\u001b[0m\u001b[0m\n",
      "\u001b[0;32m~/.local/lib/python3.10/site-packages/sklearn/datasets/_openml.py\u001b[0m in \u001b[0;36m_get_json_content_from_openml_api\u001b[0;34m(url, error_message, data_home, n_retries, delay)\u001b[0m\n\u001b[1;32m    244\u001b[0m \u001b[0;34m\u001b[0m\u001b[0m\n\u001b[1;32m    245\u001b[0m     \u001b[0;32mtry\u001b[0m\u001b[0;34m:\u001b[0m\u001b[0;34m\u001b[0m\u001b[0;34m\u001b[0m\u001b[0m\n\u001b[0;32m--> 246\u001b[0;31m         \u001b[0;32mreturn\u001b[0m \u001b[0m_load_json\u001b[0m\u001b[0;34m(\u001b[0m\u001b[0;34m)\u001b[0m\u001b[0;34m\u001b[0m\u001b[0;34m\u001b[0m\u001b[0m\n\u001b[0m\u001b[1;32m    247\u001b[0m     \u001b[0;32mexcept\u001b[0m \u001b[0mHTTPError\u001b[0m \u001b[0;32mas\u001b[0m \u001b[0merror\u001b[0m\u001b[0;34m:\u001b[0m\u001b[0;34m\u001b[0m\u001b[0;34m\u001b[0m\u001b[0m\n\u001b[1;32m    248\u001b[0m         \u001b[0;31m# 412 is an OpenML specific error code, indicating a generic error\u001b[0m\u001b[0;34m\u001b[0m\u001b[0;34m\u001b[0m\u001b[0m\n",
      "\u001b[0;32m~/.local/lib/python3.10/site-packages/sklearn/datasets/_openml.py\u001b[0m in \u001b[0;36mwrapper\u001b[0;34m(*args, **kw)\u001b[0m\n\u001b[1;32m     65\u001b[0m                 \u001b[0;32mreturn\u001b[0m \u001b[0mf\u001b[0m\u001b[0;34m(\u001b[0m\u001b[0;34m*\u001b[0m\u001b[0margs\u001b[0m\u001b[0;34m,\u001b[0m \u001b[0;34m**\u001b[0m\u001b[0mkw\u001b[0m\u001b[0;34m)\u001b[0m\u001b[0;34m\u001b[0m\u001b[0;34m\u001b[0m\u001b[0m\n\u001b[1;32m     66\u001b[0m             \u001b[0;32mtry\u001b[0m\u001b[0;34m:\u001b[0m\u001b[0;34m\u001b[0m\u001b[0;34m\u001b[0m\u001b[0m\n\u001b[0;32m---> 67\u001b[0;31m                 \u001b[0;32mreturn\u001b[0m \u001b[0mf\u001b[0m\u001b[0;34m(\u001b[0m\u001b[0;34m*\u001b[0m\u001b[0margs\u001b[0m\u001b[0;34m,\u001b[0m \u001b[0;34m**\u001b[0m\u001b[0mkw\u001b[0m\u001b[0;34m)\u001b[0m\u001b[0;34m\u001b[0m\u001b[0;34m\u001b[0m\u001b[0m\n\u001b[0m\u001b[1;32m     68\u001b[0m             \u001b[0;32mexcept\u001b[0m \u001b[0mURLError\u001b[0m\u001b[0;34m:\u001b[0m\u001b[0;34m\u001b[0m\u001b[0;34m\u001b[0m\u001b[0m\n\u001b[1;32m     69\u001b[0m                 \u001b[0;32mraise\u001b[0m\u001b[0;34m\u001b[0m\u001b[0;34m\u001b[0m\u001b[0m\n",
      "\u001b[0;32m~/.local/lib/python3.10/site-packages/sklearn/datasets/_openml.py\u001b[0m in \u001b[0;36m_load_json\u001b[0;34m()\u001b[0m\n\u001b[1;32m    239\u001b[0m     \u001b[0;32mdef\u001b[0m \u001b[0m_load_json\u001b[0m\u001b[0;34m(\u001b[0m\u001b[0;34m)\u001b[0m\u001b[0;34m:\u001b[0m\u001b[0;34m\u001b[0m\u001b[0;34m\u001b[0m\u001b[0m\n\u001b[1;32m    240\u001b[0m         with closing(\n\u001b[0;32m--> 241\u001b[0;31m             \u001b[0m_open_openml_url\u001b[0m\u001b[0;34m(\u001b[0m\u001b[0murl\u001b[0m\u001b[0;34m,\u001b[0m \u001b[0mdata_home\u001b[0m\u001b[0;34m,\u001b[0m \u001b[0mn_retries\u001b[0m\u001b[0;34m=\u001b[0m\u001b[0mn_retries\u001b[0m\u001b[0;34m,\u001b[0m \u001b[0mdelay\u001b[0m\u001b[0;34m=\u001b[0m\u001b[0mdelay\u001b[0m\u001b[0;34m)\u001b[0m\u001b[0;34m\u001b[0m\u001b[0;34m\u001b[0m\u001b[0m\n\u001b[0m\u001b[1;32m    242\u001b[0m         ) as response:\n\u001b[1;32m    243\u001b[0m             \u001b[0;32mreturn\u001b[0m \u001b[0mjson\u001b[0m\u001b[0;34m.\u001b[0m\u001b[0mloads\u001b[0m\u001b[0;34m(\u001b[0m\u001b[0mresponse\u001b[0m\u001b[0;34m.\u001b[0m\u001b[0mread\u001b[0m\u001b[0;34m(\u001b[0m\u001b[0;34m)\u001b[0m\u001b[0;34m.\u001b[0m\u001b[0mdecode\u001b[0m\u001b[0;34m(\u001b[0m\u001b[0;34m\"utf-8\"\u001b[0m\u001b[0;34m)\u001b[0m\u001b[0;34m)\u001b[0m\u001b[0;34m\u001b[0m\u001b[0;34m\u001b[0m\u001b[0m\n",
      "\u001b[0;32m~/.local/lib/python3.10/site-packages/sklearn/datasets/_openml.py\u001b[0m in \u001b[0;36m_open_openml_url\u001b[0;34m(openml_path, data_home, n_retries, delay)\u001b[0m\n\u001b[1;32m    171\u001b[0m             \u001b[0;32mwith\u001b[0m \u001b[0mTemporaryDirectory\u001b[0m\u001b[0;34m(\u001b[0m\u001b[0mdir\u001b[0m\u001b[0;34m=\u001b[0m\u001b[0mdir_name\u001b[0m\u001b[0;34m)\u001b[0m \u001b[0;32mas\u001b[0m \u001b[0mtmpdir\u001b[0m\u001b[0;34m:\u001b[0m\u001b[0;34m\u001b[0m\u001b[0;34m\u001b[0m\u001b[0m\n\u001b[1;32m    172\u001b[0m                 with closing(\n\u001b[0;32m--> 173\u001b[0;31m                     _retry_on_network_error(n_retries, delay, req.full_url)(urlopen)(\n\u001b[0m\u001b[1;32m    174\u001b[0m                         \u001b[0mreq\u001b[0m\u001b[0;34m\u001b[0m\u001b[0;34m\u001b[0m\u001b[0m\n\u001b[1;32m    175\u001b[0m                     )\n",
      "\u001b[0;32m~/.local/lib/python3.10/site-packages/sklearn/datasets/_openml.py\u001b[0m in \u001b[0;36mwrapper\u001b[0;34m(*args, **kwargs)\u001b[0m\n\u001b[1;32m    101\u001b[0m             \u001b[0;32mwhile\u001b[0m \u001b[0;32mTrue\u001b[0m\u001b[0;34m:\u001b[0m\u001b[0;34m\u001b[0m\u001b[0;34m\u001b[0m\u001b[0m\n\u001b[1;32m    102\u001b[0m                 \u001b[0;32mtry\u001b[0m\u001b[0;34m:\u001b[0m\u001b[0;34m\u001b[0m\u001b[0;34m\u001b[0m\u001b[0m\n\u001b[0;32m--> 103\u001b[0;31m                     \u001b[0;32mreturn\u001b[0m \u001b[0mf\u001b[0m\u001b[0;34m(\u001b[0m\u001b[0;34m*\u001b[0m\u001b[0margs\u001b[0m\u001b[0;34m,\u001b[0m \u001b[0;34m**\u001b[0m\u001b[0mkwargs\u001b[0m\u001b[0;34m)\u001b[0m\u001b[0;34m\u001b[0m\u001b[0;34m\u001b[0m\u001b[0m\n\u001b[0m\u001b[1;32m    104\u001b[0m                 \u001b[0;32mexcept\u001b[0m \u001b[0;34m(\u001b[0m\u001b[0mURLError\u001b[0m\u001b[0;34m,\u001b[0m \u001b[0mTimeoutError\u001b[0m\u001b[0;34m)\u001b[0m \u001b[0;32mas\u001b[0m \u001b[0me\u001b[0m\u001b[0;34m:\u001b[0m\u001b[0;34m\u001b[0m\u001b[0;34m\u001b[0m\u001b[0m\n\u001b[1;32m    105\u001b[0m                     \u001b[0;31m# 412 is a specific OpenML error code.\u001b[0m\u001b[0;34m\u001b[0m\u001b[0;34m\u001b[0m\u001b[0m\n",
      "\u001b[0;32m/usr/lib/python3.10/urllib/request.py\u001b[0m in \u001b[0;36murlopen\u001b[0;34m(url, data, timeout, cafile, capath, cadefault, context)\u001b[0m\n\u001b[1;32m    214\u001b[0m     \u001b[0;32melse\u001b[0m\u001b[0;34m:\u001b[0m\u001b[0;34m\u001b[0m\u001b[0;34m\u001b[0m\u001b[0m\n\u001b[1;32m    215\u001b[0m         \u001b[0mopener\u001b[0m \u001b[0;34m=\u001b[0m \u001b[0m_opener\u001b[0m\u001b[0;34m\u001b[0m\u001b[0;34m\u001b[0m\u001b[0m\n\u001b[0;32m--> 216\u001b[0;31m     \u001b[0;32mreturn\u001b[0m \u001b[0mopener\u001b[0m\u001b[0;34m.\u001b[0m\u001b[0mopen\u001b[0m\u001b[0;34m(\u001b[0m\u001b[0murl\u001b[0m\u001b[0;34m,\u001b[0m \u001b[0mdata\u001b[0m\u001b[0;34m,\u001b[0m \u001b[0mtimeout\u001b[0m\u001b[0;34m)\u001b[0m\u001b[0;34m\u001b[0m\u001b[0;34m\u001b[0m\u001b[0m\n\u001b[0m\u001b[1;32m    217\u001b[0m \u001b[0;34m\u001b[0m\u001b[0m\n\u001b[1;32m    218\u001b[0m \u001b[0;32mdef\u001b[0m \u001b[0minstall_opener\u001b[0m\u001b[0;34m(\u001b[0m\u001b[0mopener\u001b[0m\u001b[0;34m)\u001b[0m\u001b[0;34m:\u001b[0m\u001b[0;34m\u001b[0m\u001b[0;34m\u001b[0m\u001b[0m\n",
      "\u001b[0;32m/usr/lib/python3.10/urllib/request.py\u001b[0m in \u001b[0;36mopen\u001b[0;34m(self, fullurl, data, timeout)\u001b[0m\n\u001b[1;32m    517\u001b[0m \u001b[0;34m\u001b[0m\u001b[0m\n\u001b[1;32m    518\u001b[0m         \u001b[0msys\u001b[0m\u001b[0;34m.\u001b[0m\u001b[0maudit\u001b[0m\u001b[0;34m(\u001b[0m\u001b[0;34m'urllib.Request'\u001b[0m\u001b[0;34m,\u001b[0m \u001b[0mreq\u001b[0m\u001b[0;34m.\u001b[0m\u001b[0mfull_url\u001b[0m\u001b[0;34m,\u001b[0m \u001b[0mreq\u001b[0m\u001b[0;34m.\u001b[0m\u001b[0mdata\u001b[0m\u001b[0;34m,\u001b[0m \u001b[0mreq\u001b[0m\u001b[0;34m.\u001b[0m\u001b[0mheaders\u001b[0m\u001b[0;34m,\u001b[0m \u001b[0mreq\u001b[0m\u001b[0;34m.\u001b[0m\u001b[0mget_method\u001b[0m\u001b[0;34m(\u001b[0m\u001b[0;34m)\u001b[0m\u001b[0;34m)\u001b[0m\u001b[0;34m\u001b[0m\u001b[0;34m\u001b[0m\u001b[0m\n\u001b[0;32m--> 519\u001b[0;31m         \u001b[0mresponse\u001b[0m \u001b[0;34m=\u001b[0m \u001b[0mself\u001b[0m\u001b[0;34m.\u001b[0m\u001b[0m_open\u001b[0m\u001b[0;34m(\u001b[0m\u001b[0mreq\u001b[0m\u001b[0;34m,\u001b[0m \u001b[0mdata\u001b[0m\u001b[0;34m)\u001b[0m\u001b[0;34m\u001b[0m\u001b[0;34m\u001b[0m\u001b[0m\n\u001b[0m\u001b[1;32m    520\u001b[0m \u001b[0;34m\u001b[0m\u001b[0m\n\u001b[1;32m    521\u001b[0m         \u001b[0;31m# post-process response\u001b[0m\u001b[0;34m\u001b[0m\u001b[0;34m\u001b[0m\u001b[0m\n",
      "\u001b[0;32m/usr/lib/python3.10/urllib/request.py\u001b[0m in \u001b[0;36m_open\u001b[0;34m(self, req, data)\u001b[0m\n\u001b[1;32m    534\u001b[0m \u001b[0;34m\u001b[0m\u001b[0m\n\u001b[1;32m    535\u001b[0m         \u001b[0mprotocol\u001b[0m \u001b[0;34m=\u001b[0m \u001b[0mreq\u001b[0m\u001b[0;34m.\u001b[0m\u001b[0mtype\u001b[0m\u001b[0;34m\u001b[0m\u001b[0;34m\u001b[0m\u001b[0m\n\u001b[0;32m--> 536\u001b[0;31m         result = self._call_chain(self.handle_open, protocol, protocol +\n\u001b[0m\u001b[1;32m    537\u001b[0m                                   '_open', req)\n\u001b[1;32m    538\u001b[0m         \u001b[0;32mif\u001b[0m \u001b[0mresult\u001b[0m\u001b[0;34m:\u001b[0m\u001b[0;34m\u001b[0m\u001b[0;34m\u001b[0m\u001b[0m\n",
      "\u001b[0;32m/usr/lib/python3.10/urllib/request.py\u001b[0m in \u001b[0;36m_call_chain\u001b[0;34m(self, chain, kind, meth_name, *args)\u001b[0m\n\u001b[1;32m    494\u001b[0m         \u001b[0;32mfor\u001b[0m \u001b[0mhandler\u001b[0m \u001b[0;32min\u001b[0m \u001b[0mhandlers\u001b[0m\u001b[0;34m:\u001b[0m\u001b[0;34m\u001b[0m\u001b[0;34m\u001b[0m\u001b[0m\n\u001b[1;32m    495\u001b[0m             \u001b[0mfunc\u001b[0m \u001b[0;34m=\u001b[0m \u001b[0mgetattr\u001b[0m\u001b[0;34m(\u001b[0m\u001b[0mhandler\u001b[0m\u001b[0;34m,\u001b[0m \u001b[0mmeth_name\u001b[0m\u001b[0;34m)\u001b[0m\u001b[0;34m\u001b[0m\u001b[0;34m\u001b[0m\u001b[0m\n\u001b[0;32m--> 496\u001b[0;31m             \u001b[0mresult\u001b[0m \u001b[0;34m=\u001b[0m \u001b[0mfunc\u001b[0m\u001b[0;34m(\u001b[0m\u001b[0;34m*\u001b[0m\u001b[0margs\u001b[0m\u001b[0;34m)\u001b[0m\u001b[0;34m\u001b[0m\u001b[0;34m\u001b[0m\u001b[0m\n\u001b[0m\u001b[1;32m    497\u001b[0m             \u001b[0;32mif\u001b[0m \u001b[0mresult\u001b[0m \u001b[0;32mis\u001b[0m \u001b[0;32mnot\u001b[0m \u001b[0;32mNone\u001b[0m\u001b[0;34m:\u001b[0m\u001b[0;34m\u001b[0m\u001b[0;34m\u001b[0m\u001b[0m\n\u001b[1;32m    498\u001b[0m                 \u001b[0;32mreturn\u001b[0m \u001b[0mresult\u001b[0m\u001b[0;34m\u001b[0m\u001b[0;34m\u001b[0m\u001b[0m\n",
      "\u001b[0;32m/usr/lib/python3.10/urllib/request.py\u001b[0m in \u001b[0;36mhttps_open\u001b[0;34m(self, req)\u001b[0m\n\u001b[1;32m   1389\u001b[0m \u001b[0;34m\u001b[0m\u001b[0m\n\u001b[1;32m   1390\u001b[0m         \u001b[0;32mdef\u001b[0m \u001b[0mhttps_open\u001b[0m\u001b[0;34m(\u001b[0m\u001b[0mself\u001b[0m\u001b[0;34m,\u001b[0m \u001b[0mreq\u001b[0m\u001b[0;34m)\u001b[0m\u001b[0;34m:\u001b[0m\u001b[0;34m\u001b[0m\u001b[0;34m\u001b[0m\u001b[0m\n\u001b[0;32m-> 1391\u001b[0;31m             return self.do_open(http.client.HTTPSConnection, req,\n\u001b[0m\u001b[1;32m   1392\u001b[0m                 context=self._context, check_hostname=self._check_hostname)\n\u001b[1;32m   1393\u001b[0m \u001b[0;34m\u001b[0m\u001b[0m\n",
      "\u001b[0;32m/usr/lib/python3.10/urllib/request.py\u001b[0m in \u001b[0;36mdo_open\u001b[0;34m(self, http_class, req, **http_conn_args)\u001b[0m\n\u001b[1;32m   1349\u001b[0m                           encode_chunked=req.has_header('Transfer-encoding'))\n\u001b[1;32m   1350\u001b[0m             \u001b[0;32mexcept\u001b[0m \u001b[0mOSError\u001b[0m \u001b[0;32mas\u001b[0m \u001b[0merr\u001b[0m\u001b[0;34m:\u001b[0m \u001b[0;31m# timeout error\u001b[0m\u001b[0;34m\u001b[0m\u001b[0;34m\u001b[0m\u001b[0m\n\u001b[0;32m-> 1351\u001b[0;31m                 \u001b[0;32mraise\u001b[0m \u001b[0mURLError\u001b[0m\u001b[0;34m(\u001b[0m\u001b[0merr\u001b[0m\u001b[0;34m)\u001b[0m\u001b[0;34m\u001b[0m\u001b[0;34m\u001b[0m\u001b[0m\n\u001b[0m\u001b[1;32m   1352\u001b[0m             \u001b[0mr\u001b[0m \u001b[0;34m=\u001b[0m \u001b[0mh\u001b[0m\u001b[0;34m.\u001b[0m\u001b[0mgetresponse\u001b[0m\u001b[0;34m(\u001b[0m\u001b[0;34m)\u001b[0m\u001b[0;34m\u001b[0m\u001b[0;34m\u001b[0m\u001b[0m\n\u001b[1;32m   1353\u001b[0m         \u001b[0;32mexcept\u001b[0m\u001b[0;34m:\u001b[0m\u001b[0;34m\u001b[0m\u001b[0;34m\u001b[0m\u001b[0m\n",
      "\u001b[0;31mURLError\u001b[0m: <urlopen error [Errno -3] Temporary failure in name resolution>"
     ]
    }
   ],
   "source": [
    "from sklearn.datasets import fetch_openml\n",
    "X_mnist, y_mnist = fetch_openml('mnist_784', return_X_y=True)\n",
    "# à compléter"
   ]
  }
 ],
 "metadata": {
  "date": 1697111341.1824057,
  "filename": "tpUMAP.rst",
  "kernelspec": {
   "display_name": "Python 3 (ipykernel)",
   "language": "python",
   "name": "python3"
  },
  "language_info": {
   "codemirror_mode": {
    "name": "ipython",
    "version": 3
   },
   "file_extension": ".py",
   "mimetype": "text/x-python",
   "name": "python",
   "nbconvert_exporter": "python",
   "pygments_lexer": "ipython3",
   "version": "3.10.12"
  },
  "title": "Travaux pratiques - UMAP"
 },
 "nbformat": 4,
 "nbformat_minor": 5
}
